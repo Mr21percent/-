{
 "cells": [
  {
   "cell_type": "markdown",
   "metadata": {},
   "source": [
    "#  자료 구조\n",
    "#### 링크드 리스트,  더블 링크드 리스트,스택, 큐,  등은  컴퓨터 사이언스에서 풀고자하는 많은 문제들을  표현하는 데 매우 유용하다. "
   ]
  },
  {
   "cell_type": "markdown",
   "metadata": {},
   "source": [
    "## 1. 링크드 리스트 (Linked List)\n",
    "\n",
    "### 싱글 링크드 리스트(single linked list), 더블 링크드 리스트(double linked list) 는 다음과 같은 자료 구조를 말한다. \n",
    "![Altext](linked_list.png)"
   ]
  },
  {
   "cell_type": "markdown",
   "metadata": {},
   "source": [
    "####  링크드 리스트,  더블 링크드 리스트, 스택, 큐 등의 자료 구조 구현을 위해,  다음 그림과 같은 Node 객체를 고려해보자.  \n",
    "이때 Node 객체는 데이터를 포함하며, 이전 Node와 다음 Node 간의 연결을 제공한다. \n",
    "\n",
    "![Altext](./node.png)"
   ]
  },
  {
   "cell_type": "code",
   "execution_count": 1,
   "metadata": {},
   "outputs": [],
   "source": [
    "class Node:\n",
    "    def __init__(self, data=None):\n",
    "        self.data = data\n",
    "        self.next = None\n",
    "        self.previous = None \\\n",
    "        \n",
    "    def __call__(self):\n",
    "        return str(self.data)    "
   ]
  },
  {
   "cell_type": "code",
   "execution_count": 2,
   "metadata": {},
   "outputs": [],
   "source": [
    "n1 = Node('eggs')\n",
    "n2 = Node('ham')\n",
    "n3 = Node('spam')\n",
    "n1.next=n2\n",
    "n2.next=n3"
   ]
  },
  {
   "cell_type": "code",
   "execution_count": 3,
   "metadata": {
    "scrolled": true
   },
   "outputs": [
    {
     "name": "stdout",
     "output_type": "stream",
     "text": [
      "eggs\n",
      "ham\n",
      "spam\n"
     ]
    }
   ],
   "source": [
    "current = n1\n",
    "while current:\n",
    "    print(current()) ## () call the __call__ method\n",
    "    current = current.next"
   ]
  },
  {
   "cell_type": "markdown",
   "metadata": {},
   "source": [
    "## (Single) Linked List"
   ]
  },
  {
   "cell_type": "markdown",
   "metadata": {},
   "source": [
    "### 아래는 싱글 링크드 리스트를 구현한 클래스이다."
   ]
  },
  {
   "cell_type": "code",
   "execution_count": 4,
   "metadata": {},
   "outputs": [],
   "source": [
    "class SinglyLinkedList:\n",
    "    def __init__(self):\n",
    "        self.head = None\n",
    "        self.size = 0\n",
    "        \n",
    "    def append(self, data):\n",
    "        node = Node(data) # Encapsulate the data in a Node\n",
    "        if self.head == None :\n",
    "            self.head = node\n",
    "        else : \n",
    "            current = self.head\n",
    "            while current.next :\n",
    "                current = current.next\n",
    "            current.next = node\n",
    "        self.size +=1    \n",
    "            \n",
    "    def iter(self):\n",
    "        current = self.head\n",
    "        while current:\n",
    "            yield current() # () called __call__ method\n",
    "            current = current.next\n",
    "            \n",
    "    def delete(self, data):\n",
    "        prev = self.head\n",
    "        current = self.head\n",
    "        while current:\n",
    "            if current.data == data :\n",
    "                if current == self.head :\n",
    "                    self.head = current.next\n",
    "                else:\n",
    "                    prev.next = current.next\n",
    "                self.size -= 1\n",
    "                return\n",
    "            prev = current\n",
    "            current = current.next      \n",
    "            \n",
    "    def search(self, data):\n",
    "        for node in self.iter():\n",
    "            if data == node:\n",
    "                return True\n",
    "        return False         \n",
    "    \n",
    "    def clear(self):\n",
    "        \"\"\" Clear the entire list. \"\"\"\n",
    "        self.head = None\n",
    "        self.tail = None\n",
    "        "
   ]
  },
  {
   "cell_type": "markdown",
   "metadata": {},
   "source": [
    "### 위에서 만든 링크드 리스트의 멤버 함수를 사용해보자.\n",
    "\n",
    "### 1. Delete from linked list\n",
    "\n",
    "![Altext](./delete.png)"
   ]
  },
  {
   "cell_type": "code",
   "execution_count": 5,
   "metadata": {},
   "outputs": [
    {
     "name": "stdout",
     "output_type": "stream",
     "text": [
      "Add eggs : ['eggs']\n",
      "Add ham : ['eggs', 'ham']\n",
      "Add spam : ['eggs', 'ham', 'spam']\n",
      "Add cheese : ['eggs', 'ham', 'spam', 'cheese']\n",
      "Add hotdog : ['eggs', 'ham', 'spam', 'cheese', 'hotdog']\n",
      "Add cheese : ['eggs', 'ham', 'spam', 'cheese', 'hotdog', 'cheese']\n",
      "Linked List Size : 6\n",
      "Delete 'cheese' from Linked List, After list size : 5\n"
     ]
    }
   ],
   "source": [
    "wordlist = ['eggs', 'ham', 'spam', 'cheese', 'hotdog', 'cheese']\n",
    "words = SinglyLinkedList()\n",
    "for word in wordlist :\n",
    "    # Add word to linked list\n",
    "    words.append(word)\n",
    "    print(\"Add\", word, \":\", [node for node in words.iter()])\n",
    "    \n",
    "print(\"Linked List Size :\", words.size)\n",
    "words.delete('cheese')\n",
    "print(\"Delete 'cheese' from Linked List, After list size :\", words.size)"
   ]
  },
  {
   "cell_type": "code",
   "execution_count": 6,
   "metadata": {},
   "outputs": [
    {
     "name": "stdout",
     "output_type": "stream",
     "text": [
      "eggs\n",
      "ham\n",
      "spam\n",
      "hotdog\n",
      "cheese\n"
     ]
    }
   ],
   "source": [
    "current = words.head\n",
    "while current:\n",
    "    print(current.data)\n",
    "    current = current.next"
   ]
  },
  {
   "cell_type": "code",
   "execution_count": 7,
   "metadata": {},
   "outputs": [
    {
     "name": "stdout",
     "output_type": "stream",
     "text": [
      "eggs\n",
      "ham\n",
      "spam\n",
      "hotdog\n",
      "cheese\n"
     ]
    }
   ],
   "source": [
    "for word in words.iter():\n",
    "    print(word)"
   ]
  },
  {
   "cell_type": "code",
   "execution_count": 8,
   "metadata": {},
   "outputs": [
    {
     "name": "stdout",
     "output_type": "stream",
     "text": [
      "True\n",
      "True\n"
     ]
    }
   ],
   "source": [
    "print(words.search('spam'))\n",
    "print(words.search('cheese'))"
   ]
  },
  {
   "cell_type": "code",
   "execution_count": 9,
   "metadata": {
    "scrolled": true
   },
   "outputs": [
    {
     "name": "stdout",
     "output_type": "stream",
     "text": [
      "None\n"
     ]
    }
   ],
   "source": [
    "words.clear()\n",
    "print(words.head)"
   ]
  },
  {
   "cell_type": "markdown",
   "metadata": {},
   "source": [
    "<br/><br/>"
   ]
  },
  {
   "cell_type": "markdown",
   "metadata": {},
   "source": [
    "##  2. 스택(stack) \n",
    "### 스택은 데이터 아이템을 저장하는 자료구조로,  가장 나중에 입력된 아이템이 먼저 뽑혀서 사용되는 자료구조이다. \n",
    "#### 즉 LIFO(Last In First Out) 의  자료 구조이다. \n",
    "\n",
    "<br/>\n",
    "\n",
    "### 파이썬에서는 \"리스트(list)\"를 이용하여 스택을 쉽게 구현할 수 있다.  \n",
    "\n",
    "보통 스택에 자료를 입력하는 오퍼레이션 명으로 \"push(data)\",  맨 나중에 입력된  데이터 아이템을 뽑아 내는 데 사용되는 오퍼레이션명으로  \"pop()\"라는 함수명을 주로 사용한다.  \n",
    "\n",
    "### 파이썬 리스트는 \"pop()\" 이라는 함수가 지원되며,  \"push(data)\" 대신에 \"append(data)\" 라는 함수가 지원된다. \n",
    "\n",
    "만약 \"pop()\"에 인자로 아이템의 인덱스를 사용하면, 리스트의 해당 인덱스의 데이터 아이템을 뽑아 낼 수가 있다.   \n"
   ]
  },
  {
   "cell_type": "code",
   "execution_count": 10,
   "metadata": {},
   "outputs": [
    {
     "name": "stdout",
     "output_type": "stream",
     "text": [
      "현재 스택 내용; ['alpha', 'beta', 'gamma', 'delta', 'epsilon']\n",
      "현재 스택에서 마지막 데이터 아이템; epsilon\n",
      "현재 스택에서 pop()한 결과로 뽑아낸 데이터 아이템; epsilon\n",
      "pop()한 후의 현재 스택 내용; ['alpha', 'beta', 'gamma', 'delta']\n"
     ]
    }
   ],
   "source": [
    "stack= list()\n",
    "stack.append(\"alpha\")\n",
    "stack.append(\"beta\")\n",
    "stack.append(\"gamma\")\n",
    "stack.append(\"delta\")\n",
    "stack.append(\"epsilon\")\n",
    "print(\"현재 스택 내용;\", stack)\n",
    "print(\"현재 스택에서 마지막 데이터 아이템;\",stack[len(stack)-1])\n",
    "print(\"현재 스택에서 pop()한 결과로 뽑아낸 데이터 아이템;\",stack.pop())\n",
    "print(\"pop()한 후의 현재 스택 내용;\", stack)"
   ]
  },
  {
   "cell_type": "markdown",
   "metadata": {},
   "source": [
    "### 파이썬의 리스트(list)를 이용한 스택 클래스 구현은 다음과 같다."
   ]
  },
  {
   "cell_type": "code",
   "execution_count": 11,
   "metadata": {},
   "outputs": [],
   "source": [
    "class List_Stack:\n",
    "    def __init__(self):\n",
    "        self.data=list()\n",
    "        self.size =0\n",
    "        \n",
    "    def push(self,item):\n",
    "        self.data.append(item)\n",
    "        self.size +=1\n",
    "        \n",
    "    def pop(self):\n",
    "        if self.size==0:\n",
    "            return print(\"스택은 비어 있습니다.\")\n",
    "        else: \n",
    "            self.size -=1\n",
    "            return self.data.pop()\n",
    "        \n",
    "    def peek(self, index):\n",
    "        if index >= self.size:\n",
    "            return print(\"현 스택 크기보다 큰 인덱스입니다. \")\n",
    "        else: \n",
    "            return self.data[index]    "
   ]
  },
  {
   "cell_type": "code",
   "execution_count": 12,
   "metadata": {},
   "outputs": [
    {
     "name": "stdout",
     "output_type": "stream",
     "text": [
      "스택은 비어 있습니다.\n",
      "현재 스택에서 pop()한 결과로 뽑아낸 데이터 아이템; None\n",
      "현재 스택 데이터 아이템 갯수 : 5\n",
      "현재 스택 내용 : ['alpha', 'beta', 'gamma', 'delta', 'epsilon']\n",
      "현재 스택에서 마지막 데이터 아이템 : epsilon\n",
      "현재 스택에서 pop()한 결과로 뽑아낸 데이터 아이템 : epsilon\n",
      "현재 스택 데이터 아이템 갯수 : 4\n",
      "pop()한 후의 현재 스택 내용 : ['alpha', 'beta', 'gamma', 'delta']\n"
     ]
    }
   ],
   "source": [
    "lstack= List_Stack()\n",
    "print(\"현재 스택에서 pop()한 결과로 뽑아낸 데이터 아이템;\", lstack.pop())\n",
    "\n",
    "lstack.push(\"alpha\")\n",
    "lstack.push(\"beta\")\n",
    "lstack.push(\"gamma\")\n",
    "lstack.push(\"delta\")\n",
    "lstack.push(\"epsilon\")\n",
    "print(\"현재 스택 데이터 아이템 갯수 :\", lstack.size)\n",
    "print(\"현재 스택 내용 :\", lstack.data)\n",
    "print(\"현재 스택에서 마지막 데이터 아이템 :\", lstack.peek(lstack.size-1))\n",
    "print(\"현재 스택에서 pop()한 결과로 뽑아낸 데이터 아이템 :\", lstack.pop())\n",
    "print(\"현재 스택 데이터 아이템 갯수 :\", lstack.size)\n",
    "print(\"pop()한 후의 현재 스택 내용 :\", lstack.data)"
   ]
  },
  {
   "cell_type": "markdown",
   "metadata": {},
   "source": [
    "### Node 를 이용한 스택 클래스 구현은 다음과 같다. "
   ]
  },
  {
   "cell_type": "code",
   "execution_count": 13,
   "metadata": {},
   "outputs": [],
   "source": [
    "class Node_Stack:\n",
    "    def __init__(self):\n",
    "        self.top = None\n",
    "        self.size = 0\n",
    "    \n",
    "    def push(self, data):\n",
    "        node = Node(data)\n",
    "        if self.top : node.next = self.top\n",
    "        self.top = node\n",
    "        self.size += 1    \n",
    "    \n",
    "    def pop(self):\n",
    "        if self.top:\n",
    "            data = self.top.data\n",
    "            self.top = self.top.next\n",
    "            self.size -= 1\n",
    "            return data\n",
    "        else:\n",
    "            return print(\"현재 스택은 비어 있습니다.\")\n",
    "    \n",
    "    def peek(self, index):\n",
    "        if index >= self.size:\n",
    "            return print(\"현 스택 크기보다 큰 인덱스입니다. \")\n",
    "        else:\n",
    "            search_node=self.top\n",
    "            for i in range(index):\n",
    "                search_node = search_node.next\n",
    "            return search_node.data         \n",
    "    \n",
    "    def iter(self):\n",
    "        current = self.top\n",
    "        while current:\n",
    "            yield current() # () called __call__ method\n",
    "            current = current.next"
   ]
  },
  {
   "cell_type": "code",
   "execution_count": 14,
   "metadata": {},
   "outputs": [
    {
     "name": "stdout",
     "output_type": "stream",
     "text": [
      "현재 스택은 비어 있습니다.\n",
      "현재 스택에서 pop()한 결과로 뽑아낸 데이터 아이템 : None\n",
      "현재 스택 데이터 아이템 갯수 : 5\n",
      "현재 스택 내용 : ['epsilon', 'delta', 'gamma', 'beta', 'alpha']\n",
      "현재 스택에서 마지막 데이터 아이템 : alpha\n",
      "현재 스택에서 pop()한 결과로 뽑아낸 데이터 아이템 : epsilon\n",
      "현재 스택 데이터 아이템 갯수 : 4\n",
      "pop()한 후의 현재 스택 내용 : ['delta', 'gamma', 'beta', 'alpha']\n"
     ]
    }
   ],
   "source": [
    "nstack= Node_Stack()\n",
    "print(\"현재 스택에서 pop()한 결과로 뽑아낸 데이터 아이템 :\", nstack.pop())\n",
    "\n",
    "nstack.push(\"alpha\")\n",
    "nstack.push(\"beta\")\n",
    "nstack.push(\"gamma\")\n",
    "nstack.push(\"delta\")\n",
    "nstack.push(\"epsilon\")\n",
    "print(\"현재 스택 데이터 아이템 갯수 :\", nstack.size)\n",
    "print(\"현재 스택 내용 :\", [n for n in nstack.iter()])\n",
    "print(\"현재 스택에서 마지막 데이터 아이템 :\", nstack.peek(nstack.size-1))\n",
    "print(\"현재 스택에서 pop()한 결과로 뽑아낸 데이터 아이템 :\", nstack.pop())\n",
    "print(\"현재 스택 데이터 아이템 갯수 :\", nstack.size)\n",
    "print(\"pop()한 후의 현재 스택 내용 :\", [n for n in nstack.iter()])"
   ]
  },
  {
   "cell_type": "code",
   "execution_count": 15,
   "metadata": {},
   "outputs": [
    {
     "name": "stdout",
     "output_type": "stream",
     "text": [
      "['delta', 'gamma', 'beta', 'alpha']\n",
      "beta\n"
     ]
    }
   ],
   "source": [
    "print([node for node in nstack.iter()])\n",
    "print(nstack.peek(2))"
   ]
  },
  {
   "cell_type": "markdown",
   "metadata": {},
   "source": [
    "<br/><br/>"
   ]
  },
  {
   "cell_type": "markdown",
   "metadata": {},
   "source": [
    "## 3. 큐(queue)\n",
    "### 큐는 데이터 아이템을 저장하는 자료구조로,  가장 처음에 입력된 데이터 아이템이 먼저 뽑혀서 사용된다.\n",
    "#### 즉 FIFO(First In First Out) 의  자료 구조이다. \n",
    "###  파이썬에서는 \"list\"  을 이용하여 큐를 쉽게 구현할 수있다.  \n",
    "큐에 자료를 입력할 때,  \"enqueue(data)\",  맨 처음에 입력된  데이터 아이템을 뽑아 내는 데 사용되는 오퍼레이션명으로  \"dequeue()\"라는 함수명을 주로 사용한다. \n",
    "#### 파이썬에서 큐를 리스트를 이용해서 구현하는 경우에, \"enqueue(data)\" 는 \"append(data)\" 로, \"dequeue()\" 는 \"pop(0)\" 으로 구현하면 된다. "
   ]
  },
  {
   "cell_type": "code",
   "execution_count": 16,
   "metadata": {},
   "outputs": [
    {
     "name": "stdout",
     "output_type": "stream",
     "text": [
      "현재 큐 내용; ['alpha', 'beta', 'gamma', 'delta', 'epsilon']\n",
      "현재 큐에서 dequeue()한 결과로 출력된 데이터 아이템; alpha\n",
      "dequeue()한 후의 현재 큐 내용; ['beta', 'gamma', 'delta', 'epsilon']\n"
     ]
    }
   ],
   "source": [
    "queue = list()\n",
    "queue.append(\"alpha\")\n",
    "queue.append(\"beta\")\n",
    "queue.append(\"gamma\")\n",
    "queue.append(\"delta\")\n",
    "queue.append(\"epsilon\")\n",
    "print(\"현재 큐 내용;\", queue)\n",
    "print(\"현재 큐에서 dequeue()한 결과로 출력된 데이터 아이템;\", queue.pop(0))\n",
    "print(\"dequeue()한 후의 현재 큐 내용;\", queue)\n"
   ]
  },
  {
   "cell_type": "markdown",
   "metadata": {},
   "source": [
    "### list 를 이용한 큐 클래스 구현은 다음과 같다."
   ]
  },
  {
   "cell_type": "code",
   "execution_count": 17,
   "metadata": {},
   "outputs": [],
   "source": [
    "class List_Queue:\n",
    "    def __init__(self):\n",
    "        self.data=list()  \n",
    "        self.size =0\n",
    "        \n",
    "    def enqueue(self,item):\n",
    "        self.data.append(item)\n",
    "        self.size +=1\n",
    "        \n",
    "    def dequeue(self):\n",
    "        if self.size==0:\n",
    "            return print(\"큐는 비어 있습니다.\")\n",
    "        else: \n",
    "            self.size -=1\n",
    "            return self.data.pop(0)\n",
    "        \n",
    "    def peek(self, index):\n",
    "        if index >= self.size:\n",
    "            return print(\"현 스택 크기보다 큰 인덱스입니다. \")\n",
    "        else: \n",
    "            return self.data[index]    "
   ]
  },
  {
   "cell_type": "code",
   "execution_count": 18,
   "metadata": {},
   "outputs": [
    {
     "name": "stdout",
     "output_type": "stream",
     "text": [
      "큐는 비어 있습니다.\n",
      "현재 큐에서 dequeue()한 결과로 출력된 데이터; None\n",
      "현재 큐 데이터 아이템 갯수; 5\n",
      "현재 큐 내용; ['alpha', 'beta', 'gamma', 'delta', 'epsilon']\n",
      "현재 큐에서 맨처음 입력된 데이터 아이템; alpha\n",
      "현재 큐에서 deque()한 결과로 출력된 데이터; alpha\n",
      "현재 큐 데이터 아이템 갯수; 4\n",
      "dequeue()한 후의 현재 큐 내용; ['beta', 'gamma', 'delta', 'epsilon']\n"
     ]
    }
   ],
   "source": [
    "lqueue = List_Queue()\n",
    "print(\"현재 큐에서 dequeue()한 결과로 출력된 데이터;\", lqueue.dequeue())\n",
    "\n",
    "lqueue.enqueue(\"alpha\")\n",
    "lqueue.enqueue(\"beta\")\n",
    "lqueue.enqueue(\"gamma\")\n",
    "lqueue.enqueue(\"delta\")\n",
    "lqueue.enqueue(\"epsilon\")\n",
    "print(\"현재 큐 데이터 아이템 갯수;\", lqueue.size)\n",
    "print(\"현재 큐 내용;\", lqueue.data)\n",
    "print(\"현재 큐에서 맨처음 입력된 데이터 아이템;\", lqueue.peek(0))\n",
    "print(\"현재 큐에서 deque()한 결과로 출력된 데이터;\", lqueue.dequeue())\n",
    "print(\"현재 큐 데이터 아이템 갯수;\", lqueue.size)\n",
    "print(\"dequeue()한 후의 현재 큐 내용;\", lqueue.data)\n"
   ]
  },
  {
   "cell_type": "markdown",
   "metadata": {},
   "source": [
    "### Node 를 이용한 스택 클래스 구현은 다음과 같다. "
   ]
  },
  {
   "cell_type": "code",
   "execution_count": 19,
   "metadata": {},
   "outputs": [],
   "source": [
    "class Node_Queue:\n",
    "    def __init__(self):\n",
    "        self.head = None  \n",
    "        self.size = 0\n",
    "        \n",
    "    def enqueue(self, data):\n",
    "        node = Node(data)\n",
    "        if self.head:\n",
    "            current = self.head\n",
    "            while current.next:\n",
    "                current = current.next\n",
    "            current.next = node    \n",
    "        else:\n",
    "            self.head = node\n",
    "        self.size += 1 \n",
    "              \n",
    "    def dequeue(self):\n",
    "        if self.head: \n",
    "            data=self.head.data\n",
    "            if self.head.next:\n",
    "                self.head=self.head.next\n",
    "            else:\n",
    "                self.head= None\n",
    "            self.size -=1    \n",
    "            return data\n",
    "        else: \n",
    "            return print(\"큐는 비어 있습니다.\")\n",
    " \n",
    "    def peek(self, index):\n",
    "        if index > self.size:\n",
    "            return print(\"현 큐 크기보다 큰 인덱스입니다. \")\n",
    "        else: \n",
    "            serach_node=Node()\n",
    "            search_node=self.head\n",
    "            for i in range(index):\n",
    "                search_node=search_node.next\n",
    "        return search_node.data\n",
    "    \n",
    "    def iter(self):\n",
    "        current = self.head\n",
    "        while current:\n",
    "            yield current() # () called __call__ method\n",
    "            current = current.next"
   ]
  },
  {
   "cell_type": "code",
   "execution_count": 20,
   "metadata": {
    "scrolled": true
   },
   "outputs": [
    {
     "name": "stdout",
     "output_type": "stream",
     "text": [
      "큐는 비어 있습니다.\n",
      "현재 큐에서 deque()한 결과로 출력된 데이터; None\n",
      "현재 큐 데이터 아이템 갯수; 5\n",
      "현재 큐 내용; ['alpha', 'beta', 'gamma', 'delta', 'epsilon']\n",
      "현재 큐에서 맨처음 입력된 데이터 아이템; alpha\n",
      "현재 큐에서 deque()한 결과로 출력된 데이터; alpha\n",
      "현재 큐 데이터 아이템 갯수; 4\n",
      "dequeue()한 후의 현재 큐 내용; ['beta', 'gamma', 'delta', 'epsilon']\n"
     ]
    }
   ],
   "source": [
    "nqueue = Node_Queue()\n",
    "print(\"현재 큐에서 deque()한 결과로 출력된 데이터;\", nqueue.dequeue())\n",
    "nqueue.enqueue(\"alpha\")\n",
    "nqueue.enqueue(\"beta\")\n",
    "nqueue.enqueue(\"gamma\")\n",
    "nqueue.enqueue(\"delta\")\n",
    "nqueue.enqueue(\"epsilon\")\n",
    "print(\"현재 큐 데이터 아이템 갯수;\", nqueue.size)\n",
    "print(\"현재 큐 내용;\", [n for n in nqueue.iter()])\n",
    "print(\"현재 큐에서 맨처음 입력된 데이터 아이템;\", nqueue.peek(0))\n",
    "print(\"현재 큐에서 deque()한 결과로 출력된 데이터;\", nqueue.dequeue())\n",
    "print(\"현재 큐 데이터 아이템 갯수;\", nqueue.size)\n",
    "print(\"dequeue()한 후의 현재 큐 내용;\", [n for n in nqueue.iter()])"
   ]
  },
  {
   "cell_type": "markdown",
   "metadata": {},
   "source": [
    "<br/><br/>"
   ]
  },
  {
   "cell_type": "markdown",
   "metadata": {},
   "source": [
    "## 4. Priority Queue\n",
    "### 우선순위 큐는 보관된 아이템들에 우선순위가 연관되어 있는 자료 구조이다. \n",
    "\n",
    "우선 순위가 가장 높은 자료 아이템 (data)이 가장 먼저 꺼내질 수 있도록 지원된다. 우선순위 큐는 보통 힙 이라는 자료 구조를 이용하여 구현된다. 파이썬의 경우에는 \"heapq\"라는 내장(built-in) 모듈로 제공이 되기 때문에, 추가적인 연산이 필요 없다면 내장 모듈을 사용하는게 좋다.\n",
    "\n",
    "### 파이썬에서는 heapq.heappush를 사용해 우선 순위 큐를 쉽게 생성할 수 있다. \n",
    "#### 첫번째 인자는 heap 자체인 list이고, 두번째 인자는 튜플인데 튜플의 첫번째 요소는 우선순위 값, 두번째 요소는 데이터를 넣어주면 된다.\n",
    "\n",
    "함수의 두번째 인자로 튜플이 아닌 일반 값을 넣어주면, 값을 기준으로 heap을 만들어준다. 파이썬이 제공하는 힙은 최소힙(min-heap)이므로 주의하자. \n",
    "\n",
    "### 삽입별 시간 복잡도는 O(log n) 이다. 다음 예제를 보자.\n"
   ]
  },
  {
   "cell_type": "code",
   "execution_count": 21,
   "metadata": {},
   "outputs": [
    {
     "name": "stdout",
     "output_type": "stream",
     "text": [
      "[(1, 'Enjoy!'), (4, 'Eat!'), (3, 'Go to home'), (10, 'Do not study'), (7, 'Pray!')]\n"
     ]
    }
   ],
   "source": [
    "import heapq\n",
    "h = []\n",
    "heapq.heappush(h, (3, \"Go to home\"))\n",
    "heapq.heappush(h, (10, \"Do not study\"))\n",
    "heapq.heappush(h, (1, \"Enjoy!\"))\n",
    "heapq.heappush(h, (4, \"Eat!\"))\n",
    "heapq.heappush(h, (7, \"Pray!\"))\n",
    "print(h)"
   ]
  },
  {
   "cell_type": "markdown",
   "metadata": {},
   "source": [
    "### 결과는 배열로 구현된 힙을 보여준다.\n",
    "### 이제  데이터 아이템(원소) 꺼내기는 heapq.heappop 으로 구현하면 된다. 각 꺼내기 별 시간 복잡도는 O(log n)이다.\n"
   ]
  },
  {
   "cell_type": "code",
   "execution_count": 22,
   "metadata": {},
   "outputs": [
    {
     "name": "stdout",
     "output_type": "stream",
     "text": [
      "first: (1, 'Enjoy!')\n",
      "second: (3, 'Go to home')\n",
      "third: (4, 'Eat!')\n"
     ]
    }
   ],
   "source": [
    "first = heapq.heappop(h)\n",
    "second = heapq.heappop(h)\n",
    "third = heapq.heappop(h)\n",
    "print(\"first:\", first)\n",
    "print(\"second:\", second)\n",
    "print(\"third:\", third)"
   ]
  },
  {
   "cell_type": "markdown",
   "metadata": {},
   "source": [
    "<br/><br/>"
   ]
  },
  {
   "cell_type": "markdown",
   "metadata": {},
   "source": [
    "## 5. Minimum Spanning Tree"
   ]
  },
  {
   "cell_type": "markdown",
   "metadata": {},
   "source": [
    "<h3 style=\"line-height:1.4em\"> 최소 신장 트리(Minimum Spanning Tree) 란 사이클(cycle)을 생성하지 않고 모든 정점을 연결하되, 모든 에지의 가중치 값(거리값)이 최소인 트리를 말한다.</h3>\n",
    "\n",
    "이제, [그림 1]과 같이 에지에 웨이트(거리)를 갖는 그래프에 대해 경로 찾는 문제의 경우에 자료 구조 표현, 알고리즘등을 살펴 보기로 한다.¶\n",
    "![Altext](./graph.png)"
   ]
  },
  {
   "cell_type": "code",
   "execution_count": 23,
   "metadata": {},
   "outputs": [],
   "source": [
    "graph = {'S': [['B', 175], ['L', 125], ['N', 320]],\n",
    "         'B': [['F', 245], ['L', 115], ['N', 145], ['S', 175]],\n",
    "         'L': [['B', 115], ['E', 645], ['F', 220], ['N', 260], ['S', 125]],\n",
    "         'N': [['B', 145], ['F', 385], ['L', 260], ['S', 320]],\n",
    "         'E': [['F', 450], ['L', 645]],\n",
    "         'F': [['B', 245], ['E', 450], ['N', 385]]}"
   ]
  },
  {
   "cell_type": "markdown",
   "metadata": {},
   "source": [
    "## (1) Prim's MST Algorithm\n",
    "### Prim's MST Algorithm 을 우선순위 큐를 이용하여 파이썬 프로그래밍하여 보자.\n",
    "![Altext](./prim.png)"
   ]
  },
  {
   "cell_type": "markdown",
   "metadata": {},
   "source": [
    "### 위에서 소개한 프림 알고리즘을 파이썬 함수로 구현하고 실행해본다."
   ]
  },
  {
   "cell_type": "code",
   "execution_count": 24,
   "metadata": {},
   "outputs": [],
   "source": [
    "from heapq import *\n",
    "\n",
    "def prim(G) :\n",
    "    # make priority queue\n",
    "    pq = []\n",
    "    for A in G : \n",
    "        for B in G[A] :\n",
    "            heappush(pq, (B[1], (A, B[0])))\n",
    "    \n",
    "    # T : MST, V : MST vertice\n",
    "    T = []\n",
    "    V = set()\n",
    "    \n",
    "    # Get minimum-weight edge\n",
    "    heappush(T, heappop(pq))\n",
    "    V.update([ v for v in T[0][1] ])\n",
    "    for i in range(len(G)-2) :\n",
    "        # an edge of minimum weight incident to a vertex in T\n",
    "        e = []\n",
    "        while True :\n",
    "            e.insert(0, heappop(pq))\n",
    "            if e[0][1][0] in V and e[0][1][1] in V :\n",
    "                e.pop(0) # prohibit cycle\n",
    "            elif not e[0][1][0] in V and not e[0][1][1] in V : \n",
    "                pass # the e not exist in T\n",
    "            else : \n",
    "                for i in range(1, len(e)) : heappush(pq, e[i])\n",
    "                break\n",
    "        # T with e added\n",
    "        T.append(e[0])\n",
    "        V.update([ v for v in e[0][1] ])\n",
    "    return T"
   ]
  },
  {
   "cell_type": "code",
   "execution_count": 25,
   "metadata": {},
   "outputs": [
    {
     "data": {
      "text/plain": [
       "[(115, ('B', 'L')),\n",
       " (125, ('L', 'S')),\n",
       " (145, ('B', 'N')),\n",
       " (220, ('L', 'F')),\n",
       " (450, ('E', 'F'))]"
      ]
     },
     "execution_count": 25,
     "metadata": {},
     "output_type": "execute_result"
    }
   ],
   "source": [
    "prim(graph)"
   ]
  },
  {
   "cell_type": "markdown",
   "metadata": {},
   "source": [
    "<br/>\n",
    "\n",
    "### 아래 [그림2]의 그래프에서도 MST가 만들어지는지 prim algorithm을 적용한다."
   ]
  },
  {
   "cell_type": "markdown",
   "metadata": {},
   "source": [
    "![Altext](./prim_ex.png)"
   ]
  },
  {
   "cell_type": "code",
   "execution_count": 26,
   "metadata": {},
   "outputs": [],
   "source": [
    "PG= {'A': [['B', 4], ['D', 1]],\n",
    "     'B': [['A', 4], ['C', 4], ['D', 4], ['J', 10]],\n",
    "     'C': [['B', 4], ['E', 2], ['F', 1]],\n",
    "     'D': [['A', 1], ['B', 4], ['H', 5], ['J', 6]],\n",
    "     'E': [['C', 2], ['G', 2]],\n",
    "     'F': [['C', 1], ['G', 3], ['I', 5]],\n",
    "     'G': [['E', 2], ['F', 3], ['I', 3], ['J', 4]],\n",
    "     'H': [['D', 5], ['J', 2]],  \n",
    "     'I': [['F', 5], ['G', 3],['J', 3]],\n",
    "     'J': [['B', 10], ['D', 6],['G', 4], ['H', 2], ['I', 3]]}"
   ]
  },
  {
   "cell_type": "code",
   "execution_count": 27,
   "metadata": {},
   "outputs": [
    {
     "data": {
      "text/plain": [
       "[(1, ('A', 'D')),\n",
       " (4, ('A', 'B')),\n",
       " (4, ('B', 'C')),\n",
       " (1, ('C', 'F')),\n",
       " (2, ('C', 'E')),\n",
       " (2, ('E', 'G')),\n",
       " (3, ('G', 'I')),\n",
       " (3, ('I', 'J')),\n",
       " (2, ('H', 'J'))]"
      ]
     },
     "execution_count": 27,
     "metadata": {},
     "output_type": "execute_result"
    }
   ],
   "source": [
    "prim(PG)"
   ]
  },
  {
   "cell_type": "markdown",
   "metadata": {},
   "source": [
    "![Altext](./prim_ex_sol.png)"
   ]
  },
  {
   "cell_type": "markdown",
   "metadata": {},
   "source": [
    "<br/><br/>\n",
    "\n",
    "## (2) Kruskal's MST Algorithm\n",
    "\n",
    "### Kruskal's MST Algorithm 을 우선순위 큐를 이용하여 파이썬 프로그래밍하여 보자.\n",
    "![Altext](./krusal.png)\n"
   ]
  },
  {
   "cell_type": "code",
   "execution_count": 28,
   "metadata": {},
   "outputs": [],
   "source": [
    "KG= {'A': [['B', 4], ['D', 1]],\n",
    "     'B': [['A', 4], ['C', 4], ['D', 4], ['J', 10]],\n",
    "     'C': [['B', 4], ['E', 2], ['F', 1]],\n",
    "     'D': [['A', 1], ['B', 4], ['H', 5], ['J', 6]],\n",
    "     'E': [['C', 2], ['G', 2]],\n",
    "     'F': [['C', 1], ['G', 3], ['I', 5]],\n",
    "     'G': [['E', 2], ['F', 3], ['I', 3], ['J', 4]],\n",
    "     'H': [['D', 5], ['J', 2]],  \n",
    "     'I': [['F', 5], ['G', 3],['J', 3]],\n",
    "     'J': [['B', 10], ['D', 6],['G', 4], ['H', 2], ['I', 3]]}"
   ]
  },
  {
   "cell_type": "code",
   "execution_count": 29,
   "metadata": {},
   "outputs": [],
   "source": [
    "from heapq import *\n",
    "def kruskal(G) :\n",
    "    # make priority queue\n",
    "    pq = []\n",
    "    for A in G : \n",
    "        for B in G[A] :\n",
    "            heappush(pq, (B[1], (A, B[0])))\n",
    "    \n",
    "    # T : MST, VG : MST Vertice Groups\n",
    "    T = []\n",
    "    VG = []\n",
    "    \n",
    "    for i in range(len(G)-1) :\n",
    "        # any edge in G with smallest weight that does not form a simple circuit when add to T.\n",
    "        isAdd = False # Check if edge has been added or not.\n",
    "        V = set([])\n",
    "        for group in VG : \n",
    "            V = V.union(group)\n",
    "        while not isAdd :\n",
    "            e = heappop(pq)\n",
    "            if (not e[1][0] in V) and (not e[1][1] in V) :\n",
    "                # T with e added\n",
    "                T.append(e)\n",
    "                VG.append(set([e[1][0], e[1][1]])) # Make new vertice group\n",
    "                isAdd = True\n",
    "                continue\n",
    "            for group in VG :\n",
    "                if (e[1][0] in group) != (e[1][1] in group) :\n",
    "                    # T with e added\n",
    "                    T.append(e)\n",
    "                    group.update(e[1])\n",
    "                    isAdd = True\n",
    "                    break\n",
    "                if (e[1][0] in group) and (e[1][1] in group) :\n",
    "                    isAdd = False\n",
    "                    break\n",
    "    return T"
   ]
  },
  {
   "cell_type": "code",
   "execution_count": 30,
   "metadata": {},
   "outputs": [
    {
     "data": {
      "text/plain": [
       "[(1, ('A', 'D')),\n",
       " (1, ('C', 'F')),\n",
       " (2, ('C', 'E')),\n",
       " (2, ('E', 'G')),\n",
       " (2, ('H', 'J')),\n",
       " (3, ('G', 'I')),\n",
       " (3, ('I', 'J')),\n",
       " (4, ('A', 'B')),\n",
       " (4, ('B', 'C'))]"
      ]
     },
     "execution_count": 30,
     "metadata": {},
     "output_type": "execute_result"
    }
   ],
   "source": [
    "kruskal(KG)"
   ]
  },
  {
   "cell_type": "markdown",
   "metadata": {},
   "source": [
    "### Kruskal's MST Algorithm은 아래와 같이 우선순위 큐를 사용하지 않고도, 간단히 구현할 수도 있다."
   ]
  },
  {
   "cell_type": "code",
   "execution_count": 31,
   "metadata": {},
   "outputs": [],
   "source": [
    "def naive_find(C, u): # Find component rep.\n",
    "    while C[u] != u: # Rep. would point to itself\n",
    "        u = C[u]\n",
    "    return u\n",
    "\n",
    "def naive_union(C, u, v):\n",
    "    u = naive_find(C, u) # Find both reps\n",
    "    v = naive_find(C, v)\n",
    "    C[u] = v # Make one refer to the other"
   ]
  },
  {
   "cell_type": "code",
   "execution_count": 32,
   "metadata": {},
   "outputs": [],
   "source": [
    "def naive_kruskal(G):\n",
    "    E = [(w,u,v) for u in G for v, w in G[u]]    \n",
    "    T = set() # Empty partial solution\n",
    "    C = {u:u for u in G} # Component reps\n",
    "    for _, u, v in sorted(E): # Edges, sorted by weight\n",
    "        if naive_find(C, u) != naive_find(C, v):\n",
    "            T.add((u, v)) # Different reps? Use it!\n",
    "            naive_union(C, u, v) # Combine components\n",
    "    return T"
   ]
  },
  {
   "cell_type": "code",
   "execution_count": 33,
   "metadata": {},
   "outputs": [
    {
     "data": {
      "text/plain": [
       "{('A', 'B'),\n",
       " ('A', 'D'),\n",
       " ('B', 'C'),\n",
       " ('C', 'E'),\n",
       " ('C', 'F'),\n",
       " ('E', 'G'),\n",
       " ('G', 'I'),\n",
       " ('H', 'J'),\n",
       " ('I', 'J')}"
      ]
     },
     "execution_count": 33,
     "metadata": {},
     "output_type": "execute_result"
    }
   ],
   "source": [
    "naive_kruskal(KG)"
   ]
  },
  {
   "cell_type": "code",
   "execution_count": 34,
   "metadata": {},
   "outputs": [],
   "source": [
    "def find(C, u):\n",
    "    if C[u] != u:\n",
    "        C[u] = find(C, C[u]) # Path compression\n",
    "    return C[u]\n",
    "\n",
    "def union(C, R, u, v):\n",
    "    u, v = find(C, u), find(C, v)\n",
    "    if R[u] > R[v]: # Union by rank\n",
    "        C[v] = u\n",
    "    else:\n",
    "        C[u] = v\n",
    "    if R[u] == R[v]: # A tie: Move v up a level\n",
    "        R[v] += 1"
   ]
  },
  {
   "cell_type": "code",
   "execution_count": 35,
   "metadata": {},
   "outputs": [],
   "source": [
    "def kruskal(G):\n",
    "    E = [(w,u,v) for u in G for v, w in G[u]]\n",
    "    T = set()\n",
    "    C, R = {u:u for u in G}, {u:0 for u in G} # Comp. reps and ranks\n",
    "    for _, u, v in sorted(E):\n",
    "        if find(C, u) != find(C, v):\n",
    "            T.add((u, v))        \n",
    "            union(C, R, u, v)\n",
    "    return T"
   ]
  },
  {
   "cell_type": "code",
   "execution_count": 36,
   "metadata": {
    "scrolled": true
   },
   "outputs": [
    {
     "data": {
      "text/plain": [
       "{('A', 'B'),\n",
       " ('A', 'D'),\n",
       " ('B', 'C'),\n",
       " ('C', 'E'),\n",
       " ('C', 'F'),\n",
       " ('E', 'G'),\n",
       " ('G', 'I'),\n",
       " ('H', 'J'),\n",
       " ('I', 'J')}"
      ]
     },
     "execution_count": 36,
     "metadata": {},
     "output_type": "execute_result"
    }
   ],
   "source": [
    "kruskal(KG)"
   ]
  },
  {
   "cell_type": "markdown",
   "metadata": {},
   "source": [
    "<br/><br/><br/><br/>\n",
    "<h3 style='text-align:center;'>주의, 본 이론 파일이 아니라 14주실습(문제) 파일을 풀어서 제출해주세요.</h3>"
   ]
  },
  {
   "cell_type": "markdown",
   "metadata": {},
   "source": [
    "<br/><br/><br/><br/>\n",
    "<h1 style='text-align:center;'>실습 문제</h1>\n",
    "<br/><br/>"
   ]
  },
  {
   "cell_type": "markdown",
   "metadata": {},
   "source": [
    "### 아래는 카카오맵으로 본 학교의 일부 모습이다.\n",
    "카카오맵 URL (https://map.kakao.com/)"
   ]
  },
  {
   "cell_type": "markdown",
   "metadata": {},
   "source": [
    "![kakaomap1](kakaomap1.png)"
   ]
  },
  {
   "cell_type": "markdown",
   "metadata": {},
   "source": [
    "#### 주요 건물을 노드(정점)로, 건물과 건물 사이의 길을 에지로 표현하고, 에지의 가중치값을 이동시간이라고 했을 때 그래프는 아래와 같이 만들어진다.\n",
    "\n"
   ]
  },
  {
   "cell_type": "markdown",
   "metadata": {},
   "source": [
    "![kakaomap2](kakaomap2.png)"
   ]
  },
  {
   "cell_type": "markdown",
   "metadata": {},
   "source": [
    "## 실습 1\n",
    "####  위 그래프를  아래 draw_graph 함수를 사용하여 표현하시오. 단, 노드 위치는 마음대로 해도 된다."
   ]
  },
  {
   "cell_type": "code",
   "execution_count": 37,
   "metadata": {},
   "outputs": [
    {
     "name": "stderr",
     "output_type": "stream",
     "text": [
      "C:\\Users\\user\\Anaconda3\\lib\\site-packages\\networkx\\drawing\\nx_pylab.py:579: MatplotlibDeprecationWarning: \n",
      "The iterable function was deprecated in Matplotlib 3.1 and will be removed in 3.3. Use np.iterable instead.\n",
      "  if not cb.iterable(width):\n"
     ]
    },
    {
     "data": {
      "text/plain": [
       "<Figure size 1200x1000 with 1 Axes>"
      ]
     },
     "metadata": {},
     "output_type": "display_data"
    }
   ],
   "source": [
    "import networkx as nx\n",
    "import matplotlib.pyplot as plt\n",
    "import matplotlib.font_manager as fm\n",
    "from matplotlib import rc\n",
    "font_name = fm.FontProperties(fname=\"c:/Windows/Fonts/malgun.ttf\").get_name()\n",
    "rc('font', family=font_name)\n",
    "def draw_graph(graph, pos=None) :\n",
    "    if pos == None : pos=nx.spring_layout(graph)\n",
    "    plt.figure(figsize=(12, 10))\n",
    "    nx.draw_networkx_nodes(graph, pos=pos, node_size=4000, node_color='cyan')\n",
    "    nx.draw_networkx_edges(graph, pos=pos)\n",
    "    nx.draw_networkx_labels(graph, pos=pos, font_size=10, font_family=font_name)\n",
    "    edge_labels = {(u, v): d['weight'] for u, v, d in graph.edges(data=True)}\n",
    "    nx.draw_networkx_edge_labels(graph, pos=pos, edge_labels=edge_labels, font_size=20, rotate=False)\n",
    "    plt.show()"
   ]
  },
  {
   "cell_type": "code",
   "execution_count": 38,
   "metadata": {},
   "outputs": [
    {
     "data": {
      "image/png": "[encoded data removed]",
      "text/plain": [
       "<Figure size 864x720 with 1 Axes>"
      ]
     },
     "metadata": {},
     "output_type": "display_data"
    }
   ],
   "source": [
    "G= nx.Graph()\n",
    "G.add_weighted_edges_from([('문화관','숭덕경상관',1),('숭덕경상관','대운동장',4),('대운동장','학생회관',2),('숭덕경상관','베어드홀',7),('대운동장','베어드홀',6),('학생회관','베어드홀',3),('문화관','안익태기념관',5),('문화관','형남공학관',7),('베어드홀','안익태기념관',4),('베어드홀','형남공학관',2),('베어드홀','박물관',6),('안익태기념관','형남공학관',3),('형남공학관','박물관',2)])\n",
    "draw_graph(G)"
   ]
  },
  {
   "cell_type": "markdown",
   "metadata": {},
   "source": [
    "## 실습 2\n",
    "\n",
    "#### 위에서 만든 그래프에서 Prim's MST Algorithm을 이용해 최소 신장 트리 (Minimum Spanning Tree)를 구하시오."
   ]
  },
  {
   "cell_type": "code",
   "execution_count": 39,
   "metadata": {},
   "outputs": [
    {
     "data": {
      "text/plain": [
       "[(1, ('문화관', '숭덕경상관')),\n",
       " (4, ('대운동장', '숭덕경상관')),\n",
       " (2, ('대운동장', '학생회관')),\n",
       " (3, ('베어드홀', '학생회관')),\n",
       " (2, ('베어드홀', '형남공학관')),\n",
       " (2, ('박물관', '형남공학관')),\n",
       " (3, ('안익태기념관', '형남공학관'))]"
      ]
     },
     "execution_count": 39,
     "metadata": {},
     "output_type": "execute_result"
    }
   ],
   "source": [
    "from heapq import *\n",
    "def prim(G) :\n",
    "    # make priority queue\n",
    "    pq = []\n",
    "    for A in G : \n",
    "        for B in G[A] :\n",
    "            heappush(pq, (B[1], (A, B[0])))\n",
    "    \n",
    "    # T : MST, V : MST vertice\n",
    "    T = []\n",
    "    V = set()\n",
    "    \n",
    "    # Get minimum-weight edge\n",
    "    heappush(T, heappop(pq))\n",
    "    V.update([ v for v in T[0][1] ])\n",
    "    for i in range(len(G)-2) :\n",
    "        # an edge of minimum weight incident to a vertex in T\n",
    "        e = []\n",
    "        while True :\n",
    "            e.insert(0, heappop(pq))\n",
    "            if e[0][1][0] in V and e[0][1][1] in V :\n",
    "                e.pop(0) # prohibit cycle\n",
    "            elif not e[0][1][0] in V and not e[0][1][1] in V : \n",
    "                pass # the e not exist in T\n",
    "            else : \n",
    "                for i in range(1, len(e)) : heappush(pq, e[i])\n",
    "                break\n",
    "        # T with e added\n",
    "        T.append(e[0])\n",
    "        V.update([ v for v in e[0][1] ])\n",
    "    return T\n",
    "\n",
    "map = {'문화관': [['숭덕경상관',1],['안익태기념관',5],['형남공학관',7]],\n",
    "        '숭덕경상관': [['문화관',1],['대운동장',4],['베어드홀',7]],\n",
    "        '대운동장': [['숭덕경상관',4],['베어드홀',6],['학생회관',2]],\n",
    "        '학생회관':[['대운동장',2],['베어드홀',3]],\n",
    "        '베어드홀':[['숭덕경상관',7],['대운동장',6],['학생회관',3],['안익태기념관',4],['형남공학관',2],['박물관',6]],\n",
    "        '안익태기념관':[['문화관',5],['베어드홀',4],['형남공학관',3]],\n",
    "        '형남공학관':[['안익태기념관',3],['베어드홀',2],['박물관',2]],\n",
    "        '박물관':[['베어드홀',6],['형남공학관',2]]}\n",
    "prim(map)"
   ]
  },
  {
   "cell_type": "markdown",
   "metadata": {},
   "source": [
    "## 실습 3\n",
    "\n",
    "#### 위에서 만든 그래프에서 Kruskal's MST Algorithm을 이용해 최소 신장 트리 (Minimum Spanning Tree)를 구하시오."
   ]
  },
  {
   "cell_type": "code",
   "execution_count": 40,
   "metadata": {},
   "outputs": [
    {
     "data": {
      "text/plain": [
       "[(1, ('문화관', '숭덕경상관')),\n",
       " (2, ('대운동장', '학생회관')),\n",
       " (2, ('박물관', '형남공학관')),\n",
       " (2, ('베어드홀', '형남공학관')),\n",
       " (3, ('베어드홀', '학생회관')),\n",
       " (3, ('안익태기념관', '형남공학관')),\n",
       " (4, ('대운동장', '숭덕경상관'))]"
      ]
     },
     "execution_count": 40,
     "metadata": {},
     "output_type": "execute_result"
    }
   ],
   "source": [
    "from heapq import *\n",
    "def kruskal(G) :\n",
    "    # make priority queue\n",
    "    pq = []\n",
    "    for A in G : \n",
    "        for B in G[A] :\n",
    "            heappush(pq, (B[1], (A, B[0])))\n",
    "    \n",
    "    # T : MST, VG : MST Vertice Groups\n",
    "    T = []\n",
    "    VG = []\n",
    "    \n",
    "    for i in range(len(G)-1) :\n",
    "        # any edge in G with smallest weight that does not form a simple circuit when add to T.\n",
    "        isAdd = False # Check if edge has been added or not.\n",
    "        V = set([])\n",
    "        for group in VG : \n",
    "            V = V.union(group)\n",
    "        while not isAdd :\n",
    "            e = heappop(pq)\n",
    "            if (not e[1][0] in V) and (not e[1][1] in V) :\n",
    "                # T with e added\n",
    "                T.append(e)\n",
    "                VG.append(set([e[1][0], e[1][1]])) # Make new vertice group\n",
    "                isAdd = True\n",
    "                continue\n",
    "            for group in VG :\n",
    "                if (e[1][0] in group) != (e[1][1] in group) :\n",
    "                    # T with e added\n",
    "                    T.append(e)\n",
    "                    group.update(e[1])\n",
    "                    isAdd = True\n",
    "                    break\n",
    "                if (e[1][0] in group) and (e[1][1] in group) :\n",
    "                    isAdd = False\n",
    "                    break\n",
    "    return T\n",
    "map = {'문화관': [['숭덕경상관',1],['안익태기념관',5],['형남공학관',7]],\n",
    "        '숭덕경상관': [['문화관',1],['대운동장',4],['베어드홀',7]],\n",
    "        '대운동장': [['숭덕경상관',4],['베어드홀',6],['학생회관',2]],\n",
    "        '학생회관':[['대운동장',2],['베어드홀',3]],\n",
    "        '베어드홀':[['숭덕경상관',7],['대운동장',6],['학생회관',3],['안익태기념관',4],['형남공학관',2],['박물관',6]],\n",
    "        '안익태기념관':[['문화관',5],['베어드홀',4],['형남공학관',3]],\n",
    "        '형남공학관':[['안익태기념관',3],['베어드홀',2],['박물관',2]],\n",
    "        '박물관':[['베어드홀',6],['형남공학관',2]]}\n",
    "kruskal(map)"
   ]
  },
  {
   "cell_type": "markdown",
   "metadata": {},
   "source": [
    "## 실습 4\n",
    "\n",
    "#### 위 두 알고리즘을 통해서 만든 최소 신장 트리 (minimum spanning tree)는 서로 같다. \n",
    "\n",
    "#### 위 draw_graph 함수를 통해 위에서 구한 최소 신장 트리를 시각적으로 표현하고 이를 어떻게 응용할 수 있을 지 생각하여 간략히 쓰시오."
   ]
  },
  {
   "cell_type": "code",
   "execution_count": 41,
   "metadata": {},
   "outputs": [
    {
     "data": {
      "image/png": "[encoded data removed]",
      "text/plain": [
       "<Figure size 864x720 with 1 Axes>"
      ]
     },
     "metadata": {},
     "output_type": "display_data"
    }
   ],
   "source": [
    "map2= [(1, ('문화관', '숭덕경상관')),\n",
    " (2, ('대운동장', '학생회관')),\n",
    " (2, ('박물관', '형남공학관')),\n",
    " (2, ('베어드홀', '형남공학관')),\n",
    " (3, ('베어드홀', '학생회관')),\n",
    " (3, ('안익태기념관', '형남공학관')),\n",
    " (4, ('대운동장', '숭덕경상관'))]\n",
    "G1 =nx.Graph()\n",
    "G1.add_weighted_edges_from([('문화관', '숭덕경상관',1),('대운동장', '학생회관',2),('박물관', '형남공학관',2),('베어드홀', '형남공학관',2),('베어드홀', '학생회관',3),('안익태기념관', '형남공학관',3),('대운동장', '숭덕경상관',4)])\n",
    "\n",
    "draw_graph(G1)"
   ]
  }
 ],
 "metadata": {
  "kernelspec": {
   "display_name": "Python 3",
   "language": "python",
   "name": "python3"
  },
  "language_info": {
   "codemirror_mode": {
    "name": "ipython",
    "version": 3
   },
   "file_extension": ".py",
   "mimetype": "text/x-python",
   "name": "python",
   "nbconvert_exporter": "python",
   "pygments_lexer": "ipython3",
   "version": "3.7.4"
  }
 },
 "nbformat": 4,
 "nbformat_minor": 2
}
