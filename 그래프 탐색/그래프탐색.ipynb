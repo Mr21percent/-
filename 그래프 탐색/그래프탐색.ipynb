{
 "cells": [
  {
   "cell_type": "markdown",
   "metadata": {},
   "source": [
    "#  1. 그래프탐색(순회)\n",
    "### 그래프는 컴퓨터 사이언스에서 풀고자하는 많은 문제들을  표현하는 데 매우 유용하다. "
   ]
  },
  {
   "cell_type": "markdown",
   "metadata": {},
   "source": [
    "###  10주 실습에서 살펴보았던 다음 [그림1 ] 의 그래프에 대해 깊이우선탐색, 너비우선탐색에 대해 살펴보기로 한다. \n"
   ]
  },
  {
   "cell_type": "markdown",
   "metadata": {},
   "source": [
    "![alt text](DFS_BFS.jpg \"dfs_bfs\")"
   ]
  },
  {
   "cell_type": "markdown",
   "metadata": {},
   "source": [
    "![alt text](graph_no.png \"Graph\")"
   ]
  },
  {
   "cell_type": "markdown",
   "metadata": {},
   "source": [
    "### 상기 [그림1]의  그래프에 대해  adjacency list 를 사용하며, 파이썬에서는 이를 dictionary 로 다음과 같이 표현한다."
   ]
  },
  {
   "cell_type": "code",
   "execution_count": 1,
   "metadata": {
    "scrolled": true
   },
   "outputs": [
    {
     "data": {
      "text/plain": [
       "{'S': ['B', 'L', 'N'],\n",
       " 'B': ['F', 'L', 'N', 'S'],\n",
       " 'L': ['B', 'E', 'F', 'N', 'S'],\n",
       " 'N': ['B', 'F', 'L', 'S'],\n",
       " 'E': ['F', 'L'],\n",
       " 'F': ['B', 'E', 'L', 'N']}"
      ]
     },
     "execution_count": 1,
     "metadata": {},
     "output_type": "execute_result"
    }
   ],
   "source": [
    "graph = {'S': ['B', 'L', 'N'],\n",
    "       'B': ['F', 'L', 'N', 'S'],\n",
    "       'L': ['B', 'E', 'F', 'N', 'S'],\n",
    "       'N': ['B', 'F', 'L', 'S'],\n",
    "       'E': ['F', 'L'],\n",
    "       'F': ['B', 'E', 'L', 'N'] }\n",
    "graph"
   ]
  },
  {
   "cell_type": "markdown",
   "metadata": {},
   "source": [
    "<br/>"
   ]
  },
  {
   "cell_type": "markdown",
   "metadata": {},
   "source": [
    "# 깊이우선탐색 (Depth First Search)"
   ]
  },
  {
   "cell_type": "markdown",
   "metadata": {},
   "source": [
    "깊이우선탐색에 대한 수도 코드(pseudo-code)는 아래와 같다. \n",
    "\n",
    "~~~python\n",
    "DFS(graph G, start vertex s):\n",
    "    // all nodes initially unexplored\n",
    "    mark s as explored\n",
    "    for every edge (s, v):\n",
    "       if v unexplored:\n",
    "          DFS(G, v)\n",
    "~~~"
   ]
  },
  {
   "cell_type": "markdown",
   "metadata": {},
   "source": [
    "### 다음은 깊이우선탐색에 의한 그래프 모든 노드의 탐색(순회) 알고리즘 구현이다. "
   ]
  },
  {
   "cell_type": "code",
   "execution_count": 2,
   "metadata": {},
   "outputs": [],
   "source": [
    "def dfs(graph, start, explored=[]):   \n",
    "    if not start in graph:\n",
    "        return None\n",
    "    \n",
    "    if start in explored:\n",
    "        return explored\n",
    "\n",
    "    explored = explored + [start]\n",
    "    for w in graph[start]:\n",
    "        if w not in explored:\n",
    "            explored=dfs(graph, w, explored)\n",
    "            #newpath=dfs(graph, w, explored)\n",
    "            #if newpath: return newpath\n",
    "    return explored"
   ]
  },
  {
   "cell_type": "markdown",
   "metadata": {},
   "source": [
    "#### [그림 1]  의 그래프에 대해 깊이우선탐색 기반으로 모든 노드를 순회해보자."
   ]
  },
  {
   "cell_type": "code",
   "execution_count": 3,
   "metadata": {},
   "outputs": [
    {
     "data": {
      "text/plain": [
       "['S', 'B', 'F', 'E', 'L', 'N']"
      ]
     },
     "execution_count": 3,
     "metadata": {},
     "output_type": "execute_result"
    }
   ],
   "source": [
    "dfs(graph, 'S')"
   ]
  },
  {
   "cell_type": "markdown",
   "metadata": {},
   "source": [
    "### 깊이우선탐색에 의한 경로 찾기"
   ]
  },
  {
   "cell_type": "markdown",
   "metadata": {},
   "source": [
    "#### 이전 10주 실습에서 살펴 본 길 찾기 알고리즘은 깊이우선탐색을 이용한 것이다."
   ]
  },
  {
   "cell_type": "code",
   "execution_count": 4,
   "metadata": {},
   "outputs": [],
   "source": [
    "def find_path_by_dfs(graph, start, end, path=[]):    \n",
    "        \n",
    "        if not start in graph:\n",
    "            return None\n",
    "        \n",
    "        path = path + [start]\n",
    "        \n",
    "        if start == end:\n",
    "            return path\n",
    "  \n",
    "        for node in graph[start]:\n",
    "            for comp1 in node:\n",
    "                if comp1 not in path:                \n",
    "                    newpath = find_path_by_dfs(graph, comp1, end, path)\n",
    "                    if newpath: return newpath\n",
    "        return None \n",
    "        "
   ]
  },
  {
   "cell_type": "markdown",
   "metadata": {},
   "source": [
    "#### [그림 1]  의 그래프에 대해 깊이우선탐색 기반으로 경로 하나를 탐색해보자."
   ]
  },
  {
   "cell_type": "code",
   "execution_count": 5,
   "metadata": {},
   "outputs": [
    {
     "data": {
      "text/plain": [
       "['N', 'B', 'F']"
      ]
     },
     "execution_count": 5,
     "metadata": {},
     "output_type": "execute_result"
    }
   ],
   "source": [
    "find_path_by_dfs(graph, 'N', 'F')"
   ]
  },
  {
   "cell_type": "markdown",
   "metadata": {},
   "source": [
    "### 깊이우선탐색으로 모든 경로 찾기 \n",
    "#### 이전 10주 실습에서 살펴본 모든 경로 찾기는 깊이우선탐색을 이용한 것이다.\n",
    "#### 본 실습에서는 경로가 사이클은 포함하지 않는 것으로 한다. 즉, 경로에서 동일한 노드가 두 번 이상 들어가지 않는 것으로 한다.¶"
   ]
  },
  {
   "cell_type": "code",
   "execution_count": 6,
   "metadata": {},
   "outputs": [],
   "source": [
    "def find_all_paths_by_dfs(graph, start, end, path=[]):\n",
    "    path = path + [start]\n",
    "    if start == end:\n",
    "        return [path]\n",
    "    if not start in graph:\n",
    "        return []\n",
    "    paths = []\n",
    "    for node in graph[start]:\n",
    "        if node not in path:\n",
    "            newpaths = find_all_paths_by_dfs(graph, node, end, path)\n",
    "            for newpath in newpaths:\n",
    "                paths.append(newpath)\n",
    "    return paths"
   ]
  },
  {
   "cell_type": "markdown",
   "metadata": {},
   "source": [
    "#### [그림 1]  의 그래프에 대해 깊이우선탐색 기반으로 모든 경로를 탐색해보자."
   ]
  },
  {
   "cell_type": "code",
   "execution_count": 7,
   "metadata": {
    "scrolled": true
   },
   "outputs": [
    {
     "data": {
      "text/plain": [
       "[['S', 'B', 'F'],\n",
       " ['S', 'B', 'L', 'E', 'F'],\n",
       " ['S', 'B', 'L', 'F'],\n",
       " ['S', 'B', 'L', 'N', 'F'],\n",
       " ['S', 'B', 'N', 'F'],\n",
       " ['S', 'B', 'N', 'L', 'E', 'F'],\n",
       " ['S', 'B', 'N', 'L', 'F'],\n",
       " ['S', 'L', 'B', 'F'],\n",
       " ['S', 'L', 'B', 'N', 'F'],\n",
       " ['S', 'L', 'E', 'F'],\n",
       " ['S', 'L', 'F'],\n",
       " ['S', 'L', 'N', 'B', 'F'],\n",
       " ['S', 'L', 'N', 'F'],\n",
       " ['S', 'N', 'B', 'F'],\n",
       " ['S', 'N', 'B', 'L', 'E', 'F'],\n",
       " ['S', 'N', 'B', 'L', 'F'],\n",
       " ['S', 'N', 'F'],\n",
       " ['S', 'N', 'L', 'B', 'F'],\n",
       " ['S', 'N', 'L', 'E', 'F'],\n",
       " ['S', 'N', 'L', 'F']]"
      ]
     },
     "execution_count": 7,
     "metadata": {},
     "output_type": "execute_result"
    }
   ],
   "source": [
    "find_all_paths_by_dfs(graph, 'S', 'F')"
   ]
  },
  {
   "cell_type": "markdown",
   "metadata": {},
   "source": [
    "<br/>"
   ]
  },
  {
   "cell_type": "markdown",
   "metadata": {},
   "source": [
    "# 너비우선탐색(Breadth First Search)\n",
    "너비우선탐색에 대한 수도 코드(pseudo-code)는 아래와 같다."
   ]
  },
  {
   "cell_type": "markdown",
   "metadata": {},
   "source": [
    "~~~python\n",
    "BFS(graph G, start vertex s):\n",
    "    // all nodes initially unexplored\n",
    "    mark s as explored\n",
    "    let Q = queue data structure, initialized with s\n",
    "    while Q is non-empty:\n",
    "        remove the first node of Q, call it v\n",
    "        for each edge(v, w):  // for w in graph[v]\n",
    "            if w unexplored:\n",
    "                mark w as explored\n",
    "                add w to Q (at the end)\n",
    "            ~~~"
   ]
  },
  {
   "cell_type": "markdown",
   "metadata": {},
   "source": [
    "### 다음은 너비우선탐색에 의한 그래프 모든 노드의 탐색(순회) 알고리즘이다. "
   ]
  },
  {
   "cell_type": "code",
   "execution_count": 8,
   "metadata": {},
   "outputs": [],
   "source": [
    "def bfs(graph, start): \n",
    "    explored, queue = list(), [start]  # collections.deque([start])\n",
    "    explored.append(start)\n",
    "    while queue:\n",
    "        v = queue.pop(0)  # queue.popleft()\n",
    "        for w in graph[v]:\n",
    "            if w not in explored:                \n",
    "                explored.append(w)\n",
    "                queue.append(w)\n",
    "    return explored"
   ]
  },
  {
   "cell_type": "markdown",
   "metadata": {},
   "source": [
    "#### [그림 1]  의 그래프에 대해 너비우선탐색 기반으로 모든 노드를 순회해보자."
   ]
  },
  {
   "cell_type": "code",
   "execution_count": 9,
   "metadata": {},
   "outputs": [
    {
     "data": {
      "text/plain": [
       "['S', 'B', 'L', 'N', 'F', 'E']"
      ]
     },
     "execution_count": 9,
     "metadata": {},
     "output_type": "execute_result"
    }
   ],
   "source": [
    " bfs(graph, 'S')"
   ]
  },
  {
   "cell_type": "markdown",
   "metadata": {},
   "source": [
    "### 너비우선탐색에 의한 경로 찾기\n",
    "#### 본 실습에서는 경로가 사이클은 포함하지 않는 것으로 한다. 즉, 경로에서 동일한 노드가 두 번 이상 들어가지 않는 것으로 한다.¶"
   ]
  },
  {
   "cell_type": "markdown",
   "metadata": {},
   "source": [
    "#### [그림 1]  의 그래프에 대해 너비우선탐색 기반으로 경로 한 개를 탐색해보자."
   ]
  },
  {
   "cell_type": "markdown",
   "metadata": {},
   "source": [
    "(방법 1)"
   ]
  },
  {
   "cell_type": "code",
   "execution_count": 10,
   "metadata": {},
   "outputs": [],
   "source": [
    "import copy\n",
    "def find_path_by_bfs(graph, start, end, path=[]):     \n",
    "    \n",
    "    if not start in graph:\n",
    "            return None\n",
    "        \n",
    "    path = path + [start]\n",
    "        \n",
    "    if start == end:\n",
    "        return path\n",
    "    \n",
    "    node_queue=[start]\n",
    "    path_queue=[path]\n",
    "    all_paths=[]\n",
    "\n",
    "    while True:\n",
    "#         print(\"path_queue=\", path_queue)\n",
    "        path=path_queue.pop(0)\n",
    "        new_path=path\n",
    "#         print(\"path=\", path)\n",
    "        v=path[-1]\n",
    "#         print(\"v=\", v)\n",
    "        for w in graph[v]:        \n",
    "            if w not in path: \n",
    "                path.append(w) \n",
    "#                 print(\"2nd_path=\", path)\n",
    "                if w==end: return path\n",
    "                else: \n",
    "                    new_path= copy.deepcopy(path)\n",
    "                    path_queue.append(new_path)                                             \n",
    "                    path.pop()\n",
    "    return path"
   ]
  },
  {
   "cell_type": "code",
   "execution_count": 11,
   "metadata": {},
   "outputs": [
    {
     "data": {
      "text/plain": [
       "['S', 'B', 'F']"
      ]
     },
     "execution_count": 11,
     "metadata": {},
     "output_type": "execute_result"
    }
   ],
   "source": [
    "find_path_by_bfs(graph, 'S', 'F')"
   ]
  },
  {
   "cell_type": "markdown",
   "metadata": {},
   "source": [
    "(방법 2)"
   ]
  },
  {
   "cell_type": "code",
   "execution_count": 12,
   "metadata": {},
   "outputs": [],
   "source": [
    "def find_path_by_bfs(graph, start, end):     \n",
    "    path_queue = [[start]]\n",
    "    paths = list()\n",
    "    if not start in graph:\n",
    "            return None\n",
    "    if start == end:\n",
    "        return path_queue\n",
    "\n",
    "    while path_queue:\n",
    "        v=path_queue.pop(0)\n",
    "        for w in graph[v[-1]]:\n",
    "            if end == w :\n",
    "                    paths.append(v+[w])\n",
    "                    continue\n",
    "            if w not in v: \n",
    "                path_queue.append(v+[w])\n",
    "    return paths[0] if paths else None"
   ]
  },
  {
   "cell_type": "code",
   "execution_count": 13,
   "metadata": {},
   "outputs": [
    {
     "data": {
      "text/plain": [
       "['S', 'B', 'F']"
      ]
     },
     "execution_count": 13,
     "metadata": {},
     "output_type": "execute_result"
    }
   ],
   "source": [
    "find_path_by_bfs(graph, 'S', 'F')"
   ]
  },
  {
   "cell_type": "markdown",
   "metadata": {},
   "source": [
    "### 너비우선탐색으로 모든 경로 찾기 "
   ]
  },
  {
   "cell_type": "markdown",
   "metadata": {},
   "source": [
    "#### [그림 1]  의 그래프에 대해 너비우선탐색 기반으로 모든 경로를 탐색해보자."
   ]
  },
  {
   "cell_type": "markdown",
   "metadata": {},
   "source": [
    "(방법 1)"
   ]
  },
  {
   "cell_type": "code",
   "execution_count": 14,
   "metadata": {},
   "outputs": [],
   "source": [
    "import copy\n",
    "def find_all_paths_by_bfs(graph, start, end, path=[]):     \n",
    "    \n",
    "    if not start in graph:\n",
    "            return None\n",
    "        \n",
    "    path = path + [start]\n",
    "        \n",
    "    if start == end:\n",
    "        return path\n",
    "    \n",
    "    node_queue=[start]\n",
    "    path_queue=[path]\n",
    "    all_paths=[]\n",
    "\n",
    "    while True:        \n",
    "        if path_queue: path=path_queue.pop(0)\n",
    "        else: return all_paths    \n",
    "        new_path=path        \n",
    "        v=path[-1]       \n",
    "        for w in graph[v]:        \n",
    "            if w not in path: \n",
    "                path.append(w)            \n",
    "                new_path= copy.deepcopy(path)\n",
    "                if w==end: all_paths.append(new_path)\n",
    "                else:                    \n",
    "                    path_queue.append(new_path)                                             \n",
    "                if path: path.pop()\n",
    "    return all_paths"
   ]
  },
  {
   "cell_type": "code",
   "execution_count": 15,
   "metadata": {
    "scrolled": true
   },
   "outputs": [
    {
     "data": {
      "text/plain": [
       "[['S', 'B', 'F'],\n",
       " ['S', 'L', 'F'],\n",
       " ['S', 'N', 'F'],\n",
       " ['S', 'B', 'L', 'F'],\n",
       " ['S', 'B', 'N', 'F'],\n",
       " ['S', 'L', 'B', 'F'],\n",
       " ['S', 'L', 'E', 'F'],\n",
       " ['S', 'L', 'N', 'F'],\n",
       " ['S', 'N', 'B', 'F'],\n",
       " ['S', 'N', 'L', 'F'],\n",
       " ['S', 'B', 'L', 'E', 'F'],\n",
       " ['S', 'B', 'L', 'N', 'F'],\n",
       " ['S', 'B', 'N', 'L', 'F'],\n",
       " ['S', 'L', 'B', 'N', 'F'],\n",
       " ['S', 'L', 'N', 'B', 'F'],\n",
       " ['S', 'N', 'B', 'L', 'F'],\n",
       " ['S', 'N', 'L', 'B', 'F'],\n",
       " ['S', 'N', 'L', 'E', 'F'],\n",
       " ['S', 'B', 'N', 'L', 'E', 'F'],\n",
       " ['S', 'N', 'B', 'L', 'E', 'F']]"
      ]
     },
     "execution_count": 15,
     "metadata": {},
     "output_type": "execute_result"
    }
   ],
   "source": [
    "find_all_paths_by_bfs(graph, 'S', 'F')"
   ]
  },
  {
   "cell_type": "markdown",
   "metadata": {},
   "source": [
    "(방법 2)"
   ]
  },
  {
   "cell_type": "code",
   "execution_count": 16,
   "metadata": {},
   "outputs": [],
   "source": [
    "def find_all_paths_by_bfs(graph, start, end):     \n",
    "    path_queue = [[start]]\n",
    "    paths = list()\n",
    "    if not start in graph:\n",
    "            return None\n",
    "    if start == end:\n",
    "        return path_queue\n",
    "\n",
    "    while path_queue:\n",
    "        v=path_queue.pop(0)\n",
    "        for w in graph[v[-1]]:\n",
    "            if end == w :\n",
    "                    paths.append(v+[w])\n",
    "                    continue\n",
    "            if w not in v: \n",
    "                path_queue.append(v+[w])\n",
    "    return paths if paths else None"
   ]
  },
  {
   "cell_type": "code",
   "execution_count": 17,
   "metadata": {
    "scrolled": true
   },
   "outputs": [
    {
     "data": {
      "text/plain": [
       "[['S', 'B', 'F'],\n",
       " ['S', 'L', 'F'],\n",
       " ['S', 'N', 'F'],\n",
       " ['S', 'B', 'L', 'F'],\n",
       " ['S', 'B', 'N', 'F'],\n",
       " ['S', 'L', 'B', 'F'],\n",
       " ['S', 'L', 'E', 'F'],\n",
       " ['S', 'L', 'N', 'F'],\n",
       " ['S', 'N', 'B', 'F'],\n",
       " ['S', 'N', 'L', 'F'],\n",
       " ['S', 'B', 'L', 'E', 'F'],\n",
       " ['S', 'B', 'L', 'N', 'F'],\n",
       " ['S', 'B', 'N', 'L', 'F'],\n",
       " ['S', 'L', 'B', 'N', 'F'],\n",
       " ['S', 'L', 'N', 'B', 'F'],\n",
       " ['S', 'N', 'B', 'L', 'F'],\n",
       " ['S', 'N', 'L', 'B', 'F'],\n",
       " ['S', 'N', 'L', 'E', 'F'],\n",
       " ['S', 'B', 'N', 'L', 'E', 'F'],\n",
       " ['S', 'N', 'B', 'L', 'E', 'F']]"
      ]
     },
     "execution_count": 17,
     "metadata": {},
     "output_type": "execute_result"
    }
   ],
   "source": [
    "find_all_paths_by_bfs(graph, 'S', 'F')"
   ]
  },
  {
   "cell_type": "markdown",
   "metadata": {},
   "source": [
    "<br/><br/>"
   ]
  },
  {
   "cell_type": "markdown",
   "metadata": {},
   "source": [
    "# 2. Dijkstra's Algorithm for Shortest-distance   \n",
    "####  10주 실습에서는 그래프의 시작노드와 종단노드간의 최단 거리를 구한 알고리즘을 살펴보았다. \n",
    "### 다익스트라 알고리즘은 시작노드로부터 그래프의 모든 노드까지의 최단 거리들을 구한다."
   ]
  },
  {
   "cell_type": "code",
   "execution_count": 18,
   "metadata": {},
   "outputs": [],
   "source": [
    "graph3 = {'S': {'B': 175, 'E': float(\"inf\"), 'F': float(\"inf\"), 'L': 125, 'N': 320, 'S':0},\n",
    "          'B': {'B': 0, 'E': float(\"inf\"), 'F': 245, 'L': 115, 'N': 145, 'S': 175},\n",
    "          'L': {'B': 115, 'E': 645, 'F': 220, 'L': 0, 'N': 260, 'S': 125},\n",
    "          'N': {'B': 145, 'E': float(\"inf\"), 'F': 385, 'L': 260, 'N': 0, 'S': 320},\n",
    "          'E': {'B': float(\"inf\"), 'E': 0, 'F': 450, 'L': 645, 'N': float(\"inf\"), 'S': float(\"inf\")},\n",
    "          'F': {'B': 245, 'E': 450, 'F': 0, 'L': float(\"inf\"), 'N': 305, 'S': float(\"inf\")}}"
   ]
  },
  {
   "cell_type": "markdown",
   "metadata": {},
   "source": [
    "위 그래프에 대해 다익스트라 알고리즘을 적용해보자."
   ]
  },
  {
   "cell_type": "code",
   "execution_count": 19,
   "metadata": {},
   "outputs": [],
   "source": [
    "def Dijkstra(graph, src) :\n",
    "    if src not in graph :\n",
    "        return print(\"source node is not in the given graph\")\n",
    "    # Initialize : path == {노드 이름 : [시작 노드와의 거리, 시작 노드와의 최단 경로], ...}\n",
    "    paths = {node:[float('inf'), None] for node in graph}\n",
    "    path_queue = [[src]]\n",
    "    \n",
    "    # Start Dijkstra\n",
    "    paths[src] = [0, [src]]\n",
    "    while path_queue:\n",
    "        v=path_queue.pop(0)\n",
    "        for w in graph[v[-1]]:\n",
    "            if graph[v[-1]][w] != float('inf') :  \n",
    "                d = paths[v[-1]][0]+graph[v[-1]][w]\n",
    "                if paths[w][0] > d :\n",
    "                    # remove exist path in path queue\n",
    "                    for path in path_queue :\n",
    "                        if path[-1] == w :\n",
    "                            path_queue.remove(path)\n",
    "                    paths[w] = [d, v+[w]]\n",
    "                    path_queue.append(paths[w][1])\n",
    "    return paths if paths else None"
   ]
  },
  {
   "cell_type": "code",
   "execution_count": 20,
   "metadata": {},
   "outputs": [
    {
     "data": {
      "text/plain": [
       "{'S': [0, ['S']],\n",
       " 'B': [175, ['S', 'B']],\n",
       " 'L': [125, ['S', 'L']],\n",
       " 'N': [320, ['S', 'N']],\n",
       " 'E': [770, ['S', 'L', 'E']],\n",
       " 'F': [345, ['S', 'L', 'F']]}"
      ]
     },
     "execution_count": 20,
     "metadata": {},
     "output_type": "execute_result"
    }
   ],
   "source": [
    "Dijkstra(graph3, 'S')"
   ]
  },
  {
   "cell_type": "markdown",
   "metadata": {},
   "source": [
    "### 다음 [그림 2]경우에, 시작노드 'A'에서  다른 노드들까지의 최단 거리를 구해보자.\n",
    "![Altext](grp1.jpg)"
   ]
  },
  {
   "cell_type": "code",
   "execution_count": 21,
   "metadata": {},
   "outputs": [],
   "source": [
    "graph4 = {'A': {'A': 0, 'B': 8, 'C': 2, 'D': 4,'E': float(\"inf\"), 'F':float(\"inf\")},\n",
    "          'B': {'A': 8, 'B': 0, 'C': 7, 'D': float(\"inf\"),'E': 2, 'F': float(\"inf\")},\n",
    "          'C': {'A': 2, 'B': 7, 'C': 0, 'D': 1,'E': 3, 'F':9 },\n",
    "          'D': {'A': 4, 'B':float(\"inf\"), 'C': 1, 'D': 0,'E': float(\"inf\"), 'F': 5},\n",
    "          'E': {'A': float(\"inf\"), 'B': 2, 'C': 3, 'D': float(\"inf\"),'E': 0, 'F': float(\"inf\")},\n",
    "          'F': {'A': float(\"inf\"), 'B':float(\"inf\"), 'C': 9, 'D': 5,'E': float(\"inf\"), 'F':0},\n",
    "         }            "
   ]
  },
  {
   "cell_type": "code",
   "execution_count": 22,
   "metadata": {},
   "outputs": [
    {
     "data": {
      "text/plain": [
       "{'A': [0, ['A']],\n",
       " 'B': [7, ['A', 'C', 'E', 'B']],\n",
       " 'C': [2, ['A', 'C']],\n",
       " 'D': [3, ['A', 'C', 'D']],\n",
       " 'E': [5, ['A', 'C', 'E']],\n",
       " 'F': [8, ['A', 'C', 'D', 'F']]}"
      ]
     },
     "execution_count": 22,
     "metadata": {},
     "output_type": "execute_result"
    }
   ],
   "source": [
    "Dijkstra(graph4, 'A')"
   ]
  },
  {
   "cell_type": "markdown",
   "metadata": {},
   "source": [
    "#### 그래프 adjacency matrix 표현이 순서가 다르더라도 다익스트라 알고리즘은 적용됨을 살펴 보자.  "
   ]
  },
  {
   "cell_type": "code",
   "execution_count": 23,
   "metadata": {},
   "outputs": [],
   "source": [
    "graph5 = {'A': {'A': 0, 'B': 8, 'C': 2, 'D': 4,'E': float(\"inf\"), 'F':float(\"inf\")},       \n",
    "          'C': {'A': 2, 'B': 7, 'C': 0, 'D': 1,'E': 3, 'F':9 },\n",
    "          'D': {'A': 4, 'B':float(\"inf\"), 'C': 1, 'D': 0,'E': float(\"inf\"), 'F': 5},\n",
    "          'E': {'A': float(\"inf\"), 'B': 2, 'C': 3, 'D': float(\"inf\"),'E': 0, 'F': float(\"inf\")},\n",
    "          'B': {'A': 8, 'B': 0, 'C': 7, 'D': float(\"inf\"),'E': 2, 'F': float(\"inf\")},\n",
    "          'F': {'A': float(\"inf\"), 'B':float(\"inf\"), 'C': 9, 'D': 5,'E': float(\"inf\"), 'F':0},\n",
    "         }            "
   ]
  },
  {
   "cell_type": "code",
   "execution_count": 24,
   "metadata": {},
   "outputs": [
    {
     "data": {
      "text/plain": [
       "{'A': [0, ['A']],\n",
       " 'C': [2, ['A', 'C']],\n",
       " 'D': [3, ['A', 'C', 'D']],\n",
       " 'E': [5, ['A', 'C', 'E']],\n",
       " 'B': [7, ['A', 'C', 'E', 'B']],\n",
       " 'F': [8, ['A', 'C', 'D', 'F']]}"
      ]
     },
     "execution_count": 24,
     "metadata": {},
     "output_type": "execute_result"
    }
   ],
   "source": [
    "Dijkstra(graph5, 'A')"
   ]
  },
  {
   "cell_type": "markdown",
   "metadata": {},
   "source": [
    "<br/><br/>"
   ]
  },
  {
   "cell_type": "markdown",
   "metadata": {},
   "source": [
    "# 3. 그래프 컬러링 \n",
    "#### 아래 그림처럼 [그림1]과 같은 그래프에서 각 노드 색을 인접한 노드들과 다른 색깔로 칠하는 그래프 컬러링 알고리즘에 대해 살펴 본다. "
   ]
  },
  {
   "cell_type": "markdown",
   "metadata": {},
   "source": [
    "![Alttext](graph_coloring.png)"
   ]
  },
  {
   "cell_type": "code",
   "execution_count": 25,
   "metadata": {},
   "outputs": [
    {
     "data": {
      "text/plain": [
       "{'S': ['B', 'L', 'N'],\n",
       " 'B': ['F', 'L', 'N', 'S'],\n",
       " 'L': ['B', 'E', 'F', 'N', 'S'],\n",
       " 'N': ['B', 'F', 'L', 'S'],\n",
       " 'E': ['F', 'L'],\n",
       " 'F': ['B', 'E', 'L', 'N']}"
      ]
     },
     "execution_count": 25,
     "metadata": {},
     "output_type": "execute_result"
    }
   ],
   "source": [
    "graph = {'S': ['B', 'L', 'N'],\n",
    "       'B': ['F', 'L', 'N', 'S'],\n",
    "       'L': ['B', 'E', 'F', 'N', 'S'],\n",
    "       'N': ['B', 'F', 'L', 'S'],\n",
    "       'E': ['F', 'L'],\n",
    "       'F': ['B', 'E', 'L', 'N']}\n",
    "graph"
   ]
  },
  {
   "cell_type": "code",
   "execution_count": 26,
   "metadata": {},
   "outputs": [],
   "source": [
    "def promising(graph, node,  colors_of_nodes, color):  \n",
    "    for neighbor in graph[node]:        \n",
    "        if neighbor in set(colors_of_nodes.keys()):\n",
    "            color_of_neighbor = colors_of_nodes[neighbor]  \n",
    "        else: color_of_neighbor= None     \n",
    "       \n",
    "        if color_of_neighbor == color:\n",
    "            return False\n",
    "    return True\n",
    "\n",
    "def get_color_for_node(graph, node,  colors_of_nodes, color_table):\n",
    "    for color in color_table:  \n",
    "        if promising(graph, node,  colors_of_nodes, color):\n",
    "            return color\n",
    "\n",
    "def graph_coloring(graph, color_table):\n",
    "    colors_of_nodes = {}\n",
    "    for node in graph:  \n",
    "        colors_of_nodes[node] = get_color_for_node(graph, node,  colors_of_nodes, color_table)\n",
    "    return colors_of_nodes\n"
   ]
  },
  {
   "cell_type": "markdown",
   "metadata": {},
   "source": [
    "### 상기 [그림 1] 에 적용한 graph coloring 결과는 다음과 같다. "
   ]
  },
  {
   "cell_type": "code",
   "execution_count": 27,
   "metadata": {
    "scrolled": true
   },
   "outputs": [
    {
     "data": {
      "text/plain": [
       "{'S': 'Red',\n",
       " 'B': 'Blue',\n",
       " 'L': 'Green',\n",
       " 'N': 'Yellow',\n",
       " 'E': 'Red',\n",
       " 'F': 'Violet'}"
      ]
     },
     "execution_count": 27,
     "metadata": {},
     "output_type": "execute_result"
    }
   ],
   "source": [
    "color_table = ['Red', 'Blue', 'Green', 'Yellow', 'Violet', 'Black']\n",
    "graph_coloring(graph, color_table)"
   ]
  },
  {
   "cell_type": "markdown",
   "metadata": {},
   "source": [
    "<b>위에서 구한 컬러 그래프를 그려보자.</b>"
   ]
  },
  {
   "cell_type": "code",
   "execution_count": 28,
   "metadata": {},
   "outputs": [],
   "source": [
    "import networkx as nx\n",
    "import matplotlib.pyplot as plt"
   ]
  },
  {
   "cell_type": "code",
   "execution_count": 29,
   "metadata": {},
   "outputs": [],
   "source": [
    "def draw_colored_graph(graph, color = None, pos = None) :\n",
    "    G = nx.Graph()\n",
    "    nodes = graph.keys()\n",
    "    edges = [(src, dst) for src in graph for dst in graph[src] ]\n",
    "    G.add_nodes_from(nodes)\n",
    "    G.add_edges_from(edges)\n",
    "\n",
    "    \n",
    "    plt.figure(figsize=(10, 10))\n",
    "    if not color : color = 'cyan'\n",
    "    if not pos : pos=nx.spring_layout(G)\n",
    "    nx.draw_networkx_nodes(G, pos=pos, node_size=2000, node_color=color)\n",
    "    nx.draw_networkx_edges(G, pos=pos)\n",
    "    nx.draw_networkx_labels(G, pos=pos, font_size=30)\n",
    "    plt.show()"
   ]
  },
  {
   "cell_type": "code",
   "execution_count": 30,
   "metadata": {},
   "outputs": [
    {
     "name": "stderr",
     "output_type": "stream",
     "text": [
      "C:\\Users\\user\\Anaconda3\\lib\\site-packages\\networkx\\drawing\\nx_pylab.py:579: MatplotlibDeprecationWarning: \n",
      "The iterable function was deprecated in Matplotlib 3.1 and will be removed in 3.3. Use np.iterable instead.\n",
      "  if not cb.iterable(width):\n"
     ]
    },
    {
     "data": {
      "image/png": "[encoded data removed]",
      "text/plain": [
       "<Figure size 720x720 with 1 Axes>"
      ]
     },
     "metadata": {},
     "output_type": "display_data"
    }
   ],
   "source": [
    "pos = {'B':(2,2), 'E':(1,4), 'F':(2.5, 4), 'L':(0,2), 'N':(3, 0), 'S':(0, 0.5)}\n",
    "color = graph_coloring(graph, color_table)\n",
    "draw_colored_graph(graph, pos=pos, color=list(color.values()))"
   ]
  },
  {
   "cell_type": "markdown",
   "metadata": {},
   "source": [
    "#### 상기 [그림 1]은 planar graph 가 아니어서,  5 color 미만 색칠하기가 적용되지 않는다. \n",
    "#### 다음 [그림 4]와 같은 지도에 대해서 graph coloring 을 적용해보자.\n",
    "![Altext](map.png)"
   ]
  },
  {
   "cell_type": "markdown",
   "metadata": {},
   "source": [
    "#### 교과서에서 배운 바대로 [그림4]에 대해 다음과 같이 dual graph 를 구한 후에 dual graph 의 그래프 표현을 구한 후에  상기 graph coloring 알고리즘을 적용해보자.  \n",
    "![Altext](dual_graph.png)"
   ]
  },
  {
   "cell_type": "code",
   "execution_count": 31,
   "metadata": {},
   "outputs": [
    {
     "data": {
      "text/plain": [
       "{'a': ['b', 'c', 'd', 'e'],\n",
       " 'b': ['a', 'c', 'd'],\n",
       " 'c': ['a', 'b', 'd'],\n",
       " 'd': ['a', 'b', 'c', 'e', 'f', 'g'],\n",
       " 'e': ['a', 'd', 'f', 'g'],\n",
       " 'f': ['d', 'e', 'g'],\n",
       " 'g': ['d', 'e', 'f']}"
      ]
     },
     "execution_count": 31,
     "metadata": {},
     "output_type": "execute_result"
    }
   ],
   "source": [
    "dual_graph = {'a': ['b', 'c', 'd', 'e'],\n",
    "       'b': ['a', 'c', 'd'],\n",
    "       'c': ['a', 'b', 'd'],\n",
    "       'd': ['a', 'b', 'c', 'e', 'f', 'g'],\n",
    "       'e': ['a', 'd', 'f', 'g'],\n",
    "       'f': ['d', 'e', 'g'],\n",
    "       'g': ['d', 'e', 'f']   \n",
    "             }\n",
    "dual_graph"
   ]
  },
  {
   "cell_type": "code",
   "execution_count": 32,
   "metadata": {},
   "outputs": [
    {
     "data": {
      "text/plain": [
       "{'a': 'Red',\n",
       " 'b': 'Blue',\n",
       " 'c': 'Green',\n",
       " 'd': 'Yellow',\n",
       " 'e': 'Blue',\n",
       " 'f': 'Red',\n",
       " 'g': 'Green'}"
      ]
     },
     "execution_count": 32,
     "metadata": {},
     "output_type": "execute_result"
    }
   ],
   "source": [
    "color_table = ['Red', 'Blue', 'Green', 'Yellow', 'Violet']\n",
    "graph_coloring(dual_graph, color_table)"
   ]
  },
  {
   "cell_type": "markdown",
   "metadata": {},
   "source": [
    "#### 상기 graph coloring 알고리즘을 적용한 결과는 다음 [그림 6] 와 같다.\n",
    "![Altext](colored_map.png)"
   ]
  },
  {
   "cell_type": "markdown",
   "metadata": {},
   "source": [
    "<b>실제로 위에서 만든 함수를 이용하여 직접 그래프를 그려보자.</b>"
   ]
  },
  {
   "cell_type": "code",
   "execution_count": 33,
   "metadata": {
    "scrolled": false
   },
   "outputs": [
    {
     "data": {
      "image/png": "[encoded data removed]",
      "text/plain": [
       "<Figure size 720x720 with 1 Axes>"
      ]
     },
     "metadata": {},
     "output_type": "display_data"
    }
   ],
   "source": [
    "color = graph_coloring(dual_graph, color_table)\n",
    "pos = {'a':(0, 2),'b':(1, 4),'c':(1, 3),'d':(2.5, 2),'e':(3, 0),'f':(3, 1),'g':(4, 2)}\n",
    "draw_colored_graph(dual_graph, color.values(), pos)"
   ]
  },
  {
   "cell_type": "markdown",
   "metadata": {},
   "source": [
    "<br/><br/><br/><br/>\n",
    "<h1 style='text-align:center;'>실습 문제"
   ]
  },
  {
   "cell_type": "markdown",
   "metadata": {},
   "source": [
    "<h2>※ 오일러 경로(Euler Path) 찾기 </h2>"
   ]
  },
  {
   "cell_type": "markdown",
   "metadata": {},
   "source": [
    "<h3>오일러 경로는 그래프의 모든 엣지를 한 번씩만 통과하면서 방문하는 경로로 다음과 같은 절차로 구한다.</h3>"
   ]
  },
  {
   "cell_type": "markdown",
   "metadata": {},
   "source": [
    "<ol>\n",
    "    <li>주어진 그래프에서 홀수점의 갯수를 찾는다. 이때, 홀수점이 2개가 아니면 오일러 경로는 없다. 홀수점이 2개인 경우에 2개 중 하나는 시작노드로 다른 하나는 종단노드로 구성한다.</li>\n",
    "<br/><li>주어진 그래프에서 시작노드에서 시작하여 종단노드까지의 시작-종단 경로(백본경로)를 찾는다.</li>\n",
    "<br/><li>그래프에서  이 경로 또는 순환경로(circuit)에 있는 에지들은 제거한 남은 그래프를 만든다.</li>\n",
    "<br/><li>남은 그래프에 대해 시작-종단 백본 경로에 있는 각 노드에 대해 순환 경로(circuit)가 있으면  찾는다. </li>\n",
    "<br/><li>남은 그래프에서 남은 에지가 없어질 때까지  3)과 4)의 과정을 되풀이한다. </li>\n",
    "<br/><li>이때, 오일러 경로는 백본 경로의 시작 노드. 시작노드에서의 순환 경로들, 백본 시작노드에서 백본의 다음 중간 노드까지 경로, 이 백본 중간노드들에서의 순환 경로들,  백본 중간노드에서 백본 다음 중간노드까지의 경로, 이 백본 중간노드에서의 순환경로, ... , 백본 중간노드에서 백본 종단노드까지의 경로,  종단노드에서의 순환 경로들 로 구성된다.  </li>\n",
    "</ol>"
   ]
  },
  {
   "cell_type": "markdown",
   "metadata": {},
   "source": [
    "참고 : [오일러 경로](https://en.wikipedia.org/wiki/Eulerian_path)\n",
    " - 즉, 그래프에서 두 홀수점에 대한 엣지를 제거하면 오일러 회로가 만들어지기 때문에 오일러 회로에 대해 찾는 과정 (3, 4, 5)를 수행하고 마지막에 과정 2에서 수행한 경로를 추가하면 오일러 경로가 완성된다. "
   ]
  },
  {
   "cell_type": "markdown",
   "metadata": {},
   "source": [
    "![alt text](Euler_graph_no.png \"Graph\")  \n",
    "\n",
    "#  \n",
    "\n",
    "### 상기 [그림 7]의  그래프를 예제로 오일러 경로 알고리즘을 살펴 보기로 한다.  \n",
    "그래프를 표현하는 방법으로는 다음과 같이 adjacency list를 사용하며,  파이썬에서는 adjacency list를 dictionary 로 표현한 것이 유용하다.  \n",
    " (예 ; [그림 7] 그래프 경우)\n",
    "~~~python\n",
    "graph = {'S': ['B', 'L', 'N'],\n",
    "       'B': ['F', 'L', 'N', 'S'],\n",
    "       'L': ['B', 'E', 'N', 'S'],\n",
    "       'N': ['B', 'F', 'L', 'S'],\n",
    "       'E': ['F', 'L'],\n",
    "       'F': ['B', 'E', 'N'] }.\n",
    "~~~\n",
    " \n",
    "### 그래프의 에지는 에지를 구성하는 2개의 노드(vertex) 쌍 의 튜플(tuple) 로 표현할 수 있다. \n",
    "즉, 상기 [그림 5]에서 노드 'S' 와 노드 'N' 을 연결하는 에지는 ('S', 'N') 으로 표현한다.  이때, 노드쌍 튜플의 첫번째  노드 'S'들 시작노드 , 두번째 노드 'N' 을 종단 노드로 간주하는 경우에 이 에지를 방향성 에지라 하며, 이를 구분하지 않는 경우를 비방향성 에지라 한다. 방향성 에지에서는 ('S', 'N') 와 ('N', 'S' ) 는 다른 에지이나,  비방향성 에지에서는 둘다 같은 에지이다.\n"
   ]
  },
  {
   "cell_type": "markdown",
   "metadata": {},
   "source": [
    "<h3 style='line-height:150%;'> 1. 상기 dictionary 형태의 adjacency list  로 기술되는 그래프에서 주어진 시작 노드와 종단 노드간의 모든 경로를 찾는 파이썬 함수를 구하고, 시작노드 'B' 에서 종단 노드 'F'  로 끝나는 모든 경로를 구해보시오. </h2>"
   ]
  },
  {
   "cell_type": "markdown",
   "metadata": {},
   "source": [
    "<br/>※ 풀이조건\n",
    "<ol>\n",
    "    <li>DFS 또는 BFS 를 이용하면 쉽게 풀 수 있다.</li>\n",
    "</ol>\n",
    "<br/>※ 제한조건\n",
    "<ol>\n",
    "    <li>반드시 함수를 작성하고 경로를 같이 출력해야 한다. 함수를 작성하지 않고 답만 출력할 시 0점 처리한다.</li>\n",
    "    <li>자유롭게 프로그래밍 한다.</li>\n",
    "</ol>"
   ]
  },
  {
   "cell_type": "code",
   "execution_count": 34,
   "metadata": {},
   "outputs": [
    {
     "data": {
      "text/plain": [
       "[['B', 'F'],\n",
       " ['B', 'L', 'E', 'F'],\n",
       " ['B', 'L', 'N', 'F'],\n",
       " ['B', 'L', 'S', 'N', 'F'],\n",
       " ['B', 'N', 'F'],\n",
       " ['B', 'N', 'L', 'E', 'F'],\n",
       " ['B', 'N', 'S', 'L', 'E', 'F'],\n",
       " ['B', 'S', 'L', 'E', 'F'],\n",
       " ['B', 'S', 'L', 'N', 'F'],\n",
       " ['B', 'S', 'N', 'F'],\n",
       " ['B', 'S', 'N', 'L', 'E', 'F']]"
      ]
     },
     "execution_count": 34,
     "metadata": {},
     "output_type": "execute_result"
    }
   ],
   "source": [
    "graph = {'S': ['B', 'L', 'N'],\n",
    "       'B': ['F', 'L', 'N', 'S'],\n",
    "       'L': ['B', 'E', 'N', 'S'],\n",
    "       'N': ['B', 'F', 'L', 'S'],\n",
    "       'E': ['F', 'L'],\n",
    "       'F': ['B', 'E', 'N'] }\n",
    "\n",
    "def find_all_paths_by_dfs(graph, start, end, path=[]):\n",
    "    path = path + [start]\n",
    "    if start == end:\n",
    "        return [path]\n",
    "    if not start in graph:\n",
    "        return []\n",
    "    paths = []\n",
    "    for node in graph[start]:\n",
    "        if node not in path:\n",
    "            newpaths = find_all_paths_by_dfs(graph, node, end, path)\n",
    "            for newpath in newpaths:\n",
    "                paths.append(newpath)\n",
    "    return paths\n",
    "find_all_paths_by_dfs(graph, 'B', 'F')"
   ]
  },
  {
   "cell_type": "markdown",
   "metadata": {},
   "source": [
    "<h3 style='line-height:150%;'>  2. 상기 dictionary 형태의 adjacency list  로 기술되는 그래프에서,  모든 비방향성 엣지들의 집합을 구하는 파이썬 함수를 코딩하고, 이를 이용하여 [그림 7] 그래프의 모든 비방향성 엣지 집합을 구하시오. (같은 엣지의 경우, 시작 노드의 Alphabet 순서가 앞선 것만을 취하시오. )</h3>\n",
    "\n",
    "#### 참고 : 알파벳 정렬"
   ]
  },
  {
   "cell_type": "code",
   "execution_count": 35,
   "metadata": {},
   "outputs": [
    {
     "data": {
      "text/plain": [
       "[('apple', 1), ('banana', 2), ('grape', 3), ('pineapple', 4)]"
      ]
     },
     "execution_count": 35,
     "metadata": {},
     "output_type": "execute_result"
    }
   ],
   "source": [
    "alphabet_list = [('apple', 1), ('grape', 3), ('banana', 2), ('pineapple', 4)]\n",
    "sorted(alphabet_list, key=lambda x : x[0])"
   ]
  },
  {
   "cell_type": "markdown",
   "metadata": {},
   "source": [
    "#### 참고 : 출력 예시\n",
    "[('B', '?'), ('B', '?'), ('B', '?'), ('B', '?'), ('E', '?'), ('E', '?'), ('F', '?'), ('L', '?'), ('L', '?'), ('N', '?')]"
   ]
  },
  {
   "cell_type": "markdown",
   "metadata": {},
   "source": [
    "<br/>※ 풀이조건\n",
    "<ol>\n",
    "    <li>위 출력 예시 형식과 동일하게 출력이 되어야 한다. (?에 대한 값은 스스로 풀어본다)</li>\n",
    "</ol>\n",
    "<br/>※ 제한조건\n",
    "<ol>\n",
    "    <li>반드시 함수를 작성하고 엣지 집합을 같이 출력해야 한다. 함수를 작성하지 않고 답만 출력할 시 0점 처리한다.</li>\n",
    "    <li>자유롭게 프로그래밍 한다.</li>\n",
    "</ol>"
   ]
  },
  {
   "cell_type": "code",
   "execution_count": 36,
   "metadata": {},
   "outputs": [
    {
     "data": {
      "text/plain": [
       "[['B', 'F'],\n",
       " ['B', 'L'],\n",
       " ['B', 'N'],\n",
       " ['B', 'S'],\n",
       " ['E', 'F'],\n",
       " ['E', 'L'],\n",
       " ['F', 'N'],\n",
       " ['L', 'N'],\n",
       " ['L', 'S'],\n",
       " ['N', 'S']]"
      ]
     },
     "execution_count": 36,
     "metadata": {},
     "output_type": "execute_result"
    }
   ],
   "source": [
    "graph = {'S': ['B', 'L', 'N'],\n",
    "       'B': ['F', 'L', 'N', 'S'],\n",
    "       'L': ['B', 'E', 'N', 'S'],\n",
    "       'N': ['B', 'F', 'L', 'S'],\n",
    "       'E': ['F', 'L'],\n",
    "       'F': ['B', 'E', 'N'] }\n",
    "\n",
    "def find_all_nodes(graph, nodes=[]):\n",
    "    for k in graph.keys():\n",
    "        for node in graph[k]:\n",
    "            list1=[]\n",
    "            list1.append(k)\n",
    "            list1.append(node)\n",
    "            list1.sort()\n",
    "            if not list1 in nodes:\n",
    "                nodes.append(list1)\n",
    "    nodes.sort()\n",
    "    return nodes\n",
    "               \n",
    "find_all_nodes(graph)"
   ]
  },
  {
   "cell_type": "markdown",
   "metadata": {},
   "source": [
    "<h3 style='line-height:150%;'> 3. 홀수점이 2개인 그래프에서 홀수점에서 시작해서 그래프의 모든 에지를 한번만 거쳐 다른 홀수점으로 끝나는 경로인 오일러 경로를 구하는 파이썬 함수를 코딩하고, 이를 이용하여 상기 [그림 7] 그래프에 대해 노드 'S'에서 시작하여 노드 'F' 로 끝나는 오일러 경로를 구해보시오. (2점)</h3>\n",
    "\n",
    "(아래 단계를 차근차근 풀어보면 문제를 쉽게 풀 수 있다.)"
   ]
  },
  {
   "cell_type": "markdown",
   "metadata": {},
   "source": [
    "(위 [그림 7]에 대한 그래프를 직접 그리면서 수행하려면 아래 위치 정보 및 그리기 함수를 이용한다.)"
   ]
  },
  {
   "cell_type": "code",
   "execution_count": 37,
   "metadata": {},
   "outputs": [],
   "source": [
    "import networkx as nx\n",
    "import matplotlib.pyplot as plt\n",
    "def draw_colored_graph(graph, color = None, pos = None) :\n",
    "    G = nx.Graph()\n",
    "    nodes = graph.keys()\n",
    "    edges = [(src, dst) for src in graph for dst in graph[src] ]\n",
    "    G.add_nodes_from(nodes)\n",
    "    G.add_edges_from(edges)\n",
    "\n",
    "    \n",
    "    plt.figure(figsize=(10, 10))\n",
    "    if not pos : pos=nx.spring_layout(G)\n",
    "    if not color : color = 'cyan'\n",
    "    nx.draw_networkx_nodes(G, pos=pos, node_size=2000, node_color=color)\n",
    "    nx.draw_networkx_edges(G, pos=pos)\n",
    "    nx.draw_networkx_labels(G, pos=pos, font_size=30)\n",
    "    plt.show()"
   ]
  },
  {
   "cell_type": "code",
   "execution_count": 38,
   "metadata": {},
   "outputs": [],
   "source": [
    "B,E,F,L,N,S = 'BEFLNS'\n",
    "pos = {B:(2,2), E:(1,4), F:(2.5, 4), L:(0,2), N:(3, 0), S:(0, 0.5)}"
   ]
  },
  {
   "cell_type": "markdown",
   "metadata": {},
   "source": [
    "#### 3-1) [그림 7]에 대한 그래프를 dictionary 형태로 만드시오. "
   ]
  },
  {
   "cell_type": "code",
   "execution_count": 39,
   "metadata": {},
   "outputs": [
    {
     "data": {
      "image/png": "[encoded data removed]",
      "text/plain": [
       "<Figure size 720x720 with 1 Axes>"
      ]
     },
     "metadata": {},
     "output_type": "display_data"
    }
   ],
   "source": [
    "graph = {'S': ['B', 'L', 'N'],\n",
    "       'B': ['F', 'L', 'N', 'S'],\n",
    "       'L': ['B', 'E', 'N', 'S'],\n",
    "       'N': ['B', 'F', 'L', 'S'],\n",
    "       'E': ['F', 'L'],\n",
    "       'F': ['B', 'E', 'N'] }\n",
    "draw_colored_graph(graph, color = None, pos=pos)"
   ]
  },
  {
   "cell_type": "markdown",
   "metadata": {},
   "source": [
    "#### 3-2) 그래프에서 엣지가 홀수인 점을 찾는 함수를 만들어보시오."
   ]
  },
  {
   "cell_type": "code",
   "execution_count": 40,
   "metadata": {},
   "outputs": [],
   "source": [
    "def find_odd_points(graph, nodes=[]):\n",
    "    for k in graph.keys():\n",
    "        if len(graph[k])%2==1:\n",
    "            nodes.append(k)\n",
    "    return nodes"
   ]
  },
  {
   "cell_type": "markdown",
   "metadata": {},
   "source": [
    "#### 3-3) 아래 출력 예시와 같이 상기 홀수점(노드)을 찾는 함수가 제대로 동작하는 지를 점검하시오."
   ]
  },
  {
   "cell_type": "markdown",
   "metadata": {},
   "source": [
    "출력예시:\n",
    "\n",
    "In[] : find_odd_points(graph)\n",
    "\n",
    "out[] : ['S', 'F']"
   ]
  },
  {
   "cell_type": "code",
   "execution_count": 41,
   "metadata": {},
   "outputs": [
    {
     "data": {
      "text/plain": [
       "['S', 'F']"
      ]
     },
     "execution_count": 41,
     "metadata": {},
     "output_type": "execute_result"
    }
   ],
   "source": [
    "find_odd_points(graph)"
   ]
  },
  {
   "cell_type": "markdown",
   "metadata": {},
   "source": [
    "#### 3-4) 시작점(노드) 및 종단점(노드)을 임의로 정하고 시작노드에서 종단노드까지의 경로, 즉 시작-종단 경로(백본 경로)를 1개만 찾아보시오. "
   ]
  },
  {
   "cell_type": "code",
   "execution_count": 42,
   "metadata": {},
   "outputs": [
    {
     "name": "stdout",
     "output_type": "stream",
     "text": [
      "['S', 'B', 'F']\n"
     ]
    }
   ],
   "source": [
    "def find_all_paths_by_dfs(graph, start, end, path=[]):\n",
    "    path = path + [start]\n",
    "    if start == end:\n",
    "        return [path]\n",
    "    if not start in graph:\n",
    "        return []\n",
    "    paths = []\n",
    "    for node in graph[start]:\n",
    "        if node not in path:\n",
    "            newpaths = find_all_paths_by_dfs(graph, node, end, path)\n",
    "            for newpath in newpaths:\n",
    "                paths.append(newpath)\n",
    "    return paths\n",
    "def find_path(graph, start, end):\n",
    "    a=find_all_paths_by_dfs(graph, start, end)\n",
    "    return a[0]\n",
    "\n",
    "path=find_path(graph, 'S', 'F')\n",
    "print(path)"
   ]
  },
  {
   "cell_type": "markdown",
   "metadata": {},
   "source": [
    "#### 3-5) 그래프에서 위에서 찾은 경로를 제거한 그래프를 만드시오."
   ]
  },
  {
   "cell_type": "markdown",
   "metadata": {},
   "source": [
    "상기 결과는 [그림 7] 그래프에서 백본 경로 ['S', 'B', 'F'] 가 제거된, 다음 [그림 8] 그래프 표현이다.\n",
    "![alt text](./graph_no_backbone.png)"
   ]
  },
  {
   "cell_type": "code",
   "execution_count": 43,
   "metadata": {},
   "outputs": [
    {
     "data": {
      "image/png": "[encoded data removed]",
      "text/plain": [
       "<Figure size 720x720 with 1 Axes>"
      ]
     },
     "metadata": {},
     "output_type": "display_data"
    }
   ],
   "source": [
    "def remove_path(path,graph):\n",
    "    for i in range(len(path)-1):\n",
    "        graph[path[i]].remove(path[i+1])\n",
    "        graph[path[i+1]].remove(path[i])\n",
    "    return graph\n",
    "\n",
    "newGraph=remove_path(path,graph)\n",
    "draw_colored_graph(newGraph, color = None, pos=pos)"
   ]
  },
  {
   "cell_type": "markdown",
   "metadata": {},
   "source": [
    "#### 3-6) 백본 경로 상의 노드에 대해 순환 경로(circuit)가 있으면 1개만  찾으시오.\n",
    "(순환 경로란 출발 노드와 종단 노드가 동일한 경로를 말한다)"
   ]
  },
  {
   "cell_type": "markdown",
   "metadata": {},
   "source": [
    "예를 들어 회로 ['S', 'L', 'B', 'N', 'S'] 는 다음 [그림 9]의 빨간색 회로 부분이다.\n",
    "![Altext](./circuit_graph_no_backbone.png)\n",
    "\n",
    "[그림 9]에서 빨간색 부분을 제거하면 다음과 [그림 10]의 그래프이며, 이 그래프의 표현은 아래와 같다.\n",
    "\n",
    "{S': [], 'B': [], 'L': ['E', 'N'], 'N': ['F', 'L'], 'E': ['F', 'L'], 'F': ['E', 'N']}\n",
    "![Altext](./graph_circuit_removed.png)"
   ]
  },
  {
   "cell_type": "code",
   "execution_count": 44,
   "metadata": {},
   "outputs": [
    {
     "name": "stdout",
     "output_type": "stream",
     "text": [
      "['S', 'L', 'B', 'N', 'S']\n"
     ]
    }
   ],
   "source": [
    "def circuit(graph, start, end=None, path=[]):    \n",
    "        \n",
    "        if not start in graph:\n",
    "            return None\n",
    "        path = path + [start]\n",
    "        \n",
    "        if start == end:\n",
    "            return path\n",
    "        if end==None:\n",
    "            end = start\n",
    "        for node in graph[start]:\n",
    "            for comp1 in node:\n",
    "                if len(path)>2 and comp1 not in path[1:]:                \n",
    "                    newpath = circuit(graph, comp1, end, path)\n",
    "                    if newpath: return newpath\n",
    "                if comp1 not in path:                \n",
    "                    newpath = circuit(graph, comp1, end, path)\n",
    "                    if newpath: return newpath\n",
    "        return None\n",
    "circuitPath=circuit(graph, 'S')\n",
    "print(circuitPath)"
   ]
  },
  {
   "cell_type": "markdown",
   "metadata": {},
   "source": [
    "#### 3-7) 찾은 순환 경로(circuit)를 그래프에서 제거하시오.\n",
    "(이전에 만든 함수를 이용한다.)"
   ]
  },
  {
   "cell_type": "code",
   "execution_count": 45,
   "metadata": {},
   "outputs": [
    {
     "data": {
      "text/plain": [
       "{'S': [],\n",
       " 'B': [],\n",
       " 'L': ['E', 'N'],\n",
       " 'N': ['F', 'L'],\n",
       " 'E': ['F', 'L'],\n",
       " 'F': ['E', 'N']}"
      ]
     },
     "execution_count": 45,
     "metadata": {},
     "output_type": "execute_result"
    }
   ],
   "source": [
    "graph=remove_path(circuitPath, graph)\n",
    "graph"
   ]
  },
  {
   "cell_type": "markdown",
   "metadata": {},
   "source": [
    "#### 3-8) 위에서 찾은 순환 경로 상의 노드에 대해 순환 경로(circuit)가 있으면 1개만 찾으시오"
   ]
  },
  {
   "cell_type": "code",
   "execution_count": 46,
   "metadata": {},
   "outputs": [],
   "source": [
    "circuitPath2=circuit(graph, 'L')"
   ]
  },
  {
   "cell_type": "markdown",
   "metadata": {},
   "source": [
    "#### 3-9) 찾은 순환 경로(circuit)를 그래프에서 제거하시오."
   ]
  },
  {
   "cell_type": "code",
   "execution_count": 47,
   "metadata": {},
   "outputs": [
    {
     "data": {
      "text/plain": [
       "{'S': [], 'B': [], 'L': [], 'N': [], 'E': [], 'F': []}"
      ]
     },
     "execution_count": 47,
     "metadata": {},
     "output_type": "execute_result"
    }
   ],
   "source": [
    "graph=remove_path(circuitPath2,graph)\n",
    "graph"
   ]
  },
  {
   "cell_type": "markdown",
   "metadata": {},
   "source": [
    "#### 3-10) 8, 9 과정을 순환 경로가 없을 때 까지 반복하고, 그 동안 찾았던 순환 회로 및 백본 경로를 조합하여 오일러 경로를 만들어보시오."
   ]
  },
  {
   "cell_type": "markdown",
   "metadata": {},
   "source": [
    "### 3-11) 위에서 구현된 함수 및 코드들을 이용하여 오일러 경로 찾기 함수 fine_Euler_path를 구현하시오.¶"
   ]
  },
  {
   "cell_type": "markdown",
   "metadata": {},
   "source": [
    "#### 실행 예시\n",
    "find_Euler_path(graph)"
   ]
  },
  {
   "cell_type": "markdown",
   "metadata": {},
   "source": [
    "#### 출력 예시\n",
    "['S', 'L', 'B', 'N', 'S', 'B', 'F', 'E', 'L', 'N', 'F']"
   ]
  },
  {
   "cell_type": "markdown",
   "metadata": {},
   "source": [
    "#### 출력 예시 설명\n",
    "아래 그림은 홀수점 'S'에서 시작하여  'B', 'F' 순으로 백본 경로를 진행할 때, 각 백본 경로의 시작 노드점 'S' 에서의 순환 경로 ['S', 'L', 'B', 'N', 'S'], 백본 경로의 중간노드, 'B', 백본 경로의 종단노드'F'에서의 순환 경로 ['F', 'E', 'L', 'N', 'F'] 로 구성된 오일러 경로를 나타낸다. \n",
    "![Altext](./resulting_Euler_path_.png)"
   ]
  },
  {
   "cell_type": "markdown",
   "metadata": {},
   "source": [
    "<br/>※ 풀이조건\n",
    "<ol>\n",
    "    <li>1~11단계를 차근차근 팀원과 소통하면서 푼다.</li>\n",
    "    <li>11단계의 실행 예시에 알맞게 실행했을 때 정답이 출력되도록 푼다.</li>\n",
    "</ol>\n",
    "<br/>※ 제한조건\n",
    "<ol>\n",
    "    <li>(중요) 위 [그림9]와 동일한 경로를 출력하지 않아도 된다.</li>\n",
    "    <li>1~11 번 문제를 모두 푼 경우 2점으로 채점한다.</li>\n",
    "    <li>결과가 틀렸더라도 1번부터 11번까지 모든 과정에 대해 성실히 노력한 흔적이 있으면 1.5점으로 채점한다.</li>\n",
    "    <li>11번 문제만 푼 경우 1점으로 채점한다.</li>\n",
    "    <li>networkx, matplotlib 파이썬 패키지를 제외하고 다른 패키지 및 라이브러리를 import 할 경우 0점 처리한다.</li>\n",
    "</ol>"
   ]
  },
  {
   "cell_type": "code",
   "execution_count": 48,
   "metadata": {},
   "outputs": [],
   "source": [
    "def circuit(graph, start, end=None, path=[]):    \n",
    "        \n",
    "        if not start in graph:\n",
    "            return None\n",
    "        path = path + [start]\n",
    "        \n",
    "        if start == end:\n",
    "            return path\n",
    "        if end==None:\n",
    "            end = start\n",
    "        for node in graph[start]:\n",
    "            for comp1 in node:\n",
    "                if len(path)>2 and comp1 not in path[1:]:                \n",
    "                    newpath = circuit(graph, comp1, end, path)\n",
    "                    if newpath: return newpath\n",
    "                if comp1 not in path:                \n",
    "                    newpath = circuit(graph, comp1, end, path)\n",
    "                    if newpath: return newpath\n",
    "        return None\n",
    "def find_all_paths_by_dfs(graph, start, end, path=[]):\n",
    "    path = path + [start]\n",
    "    if start == end:\n",
    "        return [path]\n",
    "    if not start in graph:\n",
    "        return []\n",
    "    paths = []\n",
    "    for node in graph[start]:\n",
    "        if node not in path:\n",
    "            newpaths = find_all_paths_by_dfs(graph, node, end, path)\n",
    "            for newpath in newpaths:\n",
    "                paths.append(newpath)\n",
    "    return paths\n",
    "def find_path(graph, start, end):\n",
    "    a=find_all_paths_by_dfs(graph, start, end)\n",
    "    return a[0]\n",
    "def find_odd_points(graph, nodes=[]):\n",
    "    for k in graph.keys():\n",
    "        if len(graph[k])%2==1:\n",
    "            nodes.append(k)\n",
    "    return nodes\n",
    "def remove_path(path,graph):\n",
    "    for i in range(len(path)-1):\n",
    "        graph[path[i]].remove(path[i+1])\n",
    "        graph[path[i+1]].remove(path[i])\n",
    "    return graph\n",
    "def fine_Euler_path(graph):\n",
    "    i=0\n",
    "    A=list()\n",
    "    points=find_odd_points(graph)\n",
    "    start,end = points[0],points[1]\n",
    "    BackBone=find_path(graph, start,end)\n",
    "    Graph1=remove_path(BackBone,graph)\n",
    "        \n",
    "    for i in range(len(BackBone)):\n",
    "        B=BackBone[i]\n",
    "        Circle1=circuit(Graph1,B)\n",
    "        if Circle1 != None:\n",
    "            A.extend(Circle1)\n",
    "            Graph2=remove_path(Circle1,Graph1)\n",
    "        else: \n",
    "            A.extend(BackBone[i])\n",
    "        Graph1=Graph2\n",
    "    return A"
   ]
  },
  {
   "cell_type": "code",
   "execution_count": 49,
   "metadata": {},
   "outputs": [
    {
     "data": {
      "text/plain": [
       "['S', 'L', 'B', 'N', 'S', 'B', 'F', 'E', 'L', 'N', 'F']"
      ]
     },
     "execution_count": 49,
     "metadata": {},
     "output_type": "execute_result"
    }
   ],
   "source": [
    "graph = {'S': ['B', 'L', 'N'],\n",
    "       'B': ['F', 'L', 'N', 'S'],\n",
    "       'L': ['B', 'E', 'N', 'S'],\n",
    "       'N': ['B', 'F', 'L', 'S'],\n",
    "       'E': ['F', 'L'],\n",
    "       'F': ['B', 'E', 'N'] }\n",
    "fine_Euler_path(graph)"
   ]
  }
 ],
 "metadata": {
  "kernelspec": {
   "display_name": "Python 3",
   "language": "python",
   "name": "python3"
  },
  "language_info": {
   "codemirror_mode": {
    "name": "ipython",
    "version": 3
   },
   "file_extension": ".py",
   "mimetype": "text/x-python",
   "name": "python",
   "nbconvert_exporter": "python",
   "pygments_lexer": "ipython3",
   "version": "3.7.4"
  }
 },
 "nbformat": 4,
 "nbformat_minor": 2
}
