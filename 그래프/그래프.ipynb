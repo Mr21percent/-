{
 "cells": [
  {
   "cell_type": "markdown",
   "metadata": {},
   "source": [
    "<h1>제10장 그래프</h1>\n",
    "<br/>그래프는 컴퓨터 사이언스에서 풀고자하는 많은 문제들을 표현하는 데 매우 유용하다. "
   ]
  },
  {
   "cell_type": "markdown",
   "metadata": {},
   "source": [
    "<h2> 1.  그래프를 테이블로 표현하기</h2>\n",
    "<br/>강의노트에서 취급한 다음의  테이블을 그래프로 표현하는 방법을 알아 본다.\n",
    "<br/>\n"
   ]
  },
  {
   "cell_type": "markdown",
   "metadata": {},
   "source": [
    "![table2](table2.png)"
   ]
  },
  {
   "cell_type": "markdown",
   "metadata": {},
   "source": [
    "### 먼저, 데이터를 테이블 형식으로 표현하고자 할 때, 유용한 라이브러리 패키지로 '[pandas](https://pandas.pydata.org/)' 가 있다. "
   ]
  },
  {
   "cell_type": "markdown",
   "metadata": {},
   "source": [
    "'pandas' 는 1차원 데이터 표현으로 'Series', 2차원 데이터 표현으로 'Dataframe' 이라는 자료구조를 제공하며, 'Dataframe'을 시각적으로 표현한다면 테이블 형식으로 확인할 수 있다. \n",
    "<br/>\n",
    "<br/><b>아래 예제를 통해 'Dataframe'을 표현해보자.</b>"
   ]
  },
  {
   "cell_type": "code",
   "execution_count": 1,
   "metadata": {},
   "outputs": [
    {
     "data": {
      "text/html": [
       "<div>\n",
       "<style scoped>\n",
       "    .dataframe tbody tr th:only-of-type {\n",
       "        vertical-align: middle;\n",
       "    }\n",
       "\n",
       "    .dataframe tbody tr th {\n",
       "        vertical-align: top;\n",
       "    }\n",
       "\n",
       "    .dataframe thead th {\n",
       "        text-align: right;\n",
       "    }\n",
       "</style>\n",
       "<table border=\"1\" class=\"dataframe\">\n",
       "  <thead>\n",
       "    <tr style=\"text-align: right;\">\n",
       "      <th></th>\n",
       "      <th>B</th>\n",
       "      <th>E</th>\n",
       "      <th>F</th>\n",
       "      <th>L</th>\n",
       "      <th>N</th>\n",
       "      <th>S</th>\n",
       "    </tr>\n",
       "  </thead>\n",
       "  <tbody>\n",
       "    <tr>\n",
       "      <td>Barstow</td>\n",
       "      <td>0</td>\n",
       "      <td>0</td>\n",
       "      <td>245</td>\n",
       "      <td>115</td>\n",
       "      <td>145</td>\n",
       "      <td>175</td>\n",
       "    </tr>\n",
       "    <tr>\n",
       "      <td>Eureka</td>\n",
       "      <td>0</td>\n",
       "      <td>0</td>\n",
       "      <td>450</td>\n",
       "      <td>645</td>\n",
       "      <td>0</td>\n",
       "      <td>0</td>\n",
       "    </tr>\n",
       "    <tr>\n",
       "      <td>Fresno</td>\n",
       "      <td>245</td>\n",
       "      <td>450</td>\n",
       "      <td>0</td>\n",
       "      <td>220</td>\n",
       "      <td>385</td>\n",
       "      <td>0</td>\n",
       "    </tr>\n",
       "    <tr>\n",
       "      <td>Los Angeles</td>\n",
       "      <td>115</td>\n",
       "      <td>645</td>\n",
       "      <td>220</td>\n",
       "      <td>0</td>\n",
       "      <td>260</td>\n",
       "      <td>125</td>\n",
       "    </tr>\n",
       "    <tr>\n",
       "      <td>Needles</td>\n",
       "      <td>145</td>\n",
       "      <td>0</td>\n",
       "      <td>385</td>\n",
       "      <td>260</td>\n",
       "      <td>0</td>\n",
       "      <td>320</td>\n",
       "    </tr>\n",
       "    <tr>\n",
       "      <td>San Diego</td>\n",
       "      <td>175</td>\n",
       "      <td>0</td>\n",
       "      <td>0</td>\n",
       "      <td>125</td>\n",
       "      <td>320</td>\n",
       "      <td>0</td>\n",
       "    </tr>\n",
       "  </tbody>\n",
       "</table>\n",
       "</div>"
      ],
      "text/plain": [
       "               B    E    F    L    N    S\n",
       "Barstow        0    0  245  115  145  175\n",
       "Eureka         0    0  450  645    0    0\n",
       "Fresno       245  450    0  220  385    0\n",
       "Los Angeles  115  645  220    0  260  125\n",
       "Needles      145    0  385  260    0  320\n",
       "San Diego    175    0    0  125  320    0"
      ]
     },
     "execution_count": 1,
     "metadata": {},
     "output_type": "execute_result"
    }
   ],
   "source": [
    "from pandas import DataFrame\n",
    "\n",
    "distance = {'B':  [0, 0, 245, 115, 145, 175],\n",
    "           'E':  [0, 0, 450, 645, 0, 0],\n",
    "           'F' : [245, 450, 0, 220, 385, 0],\n",
    "           'L': [115, 645, 220, 0, 260, 125], \n",
    "           'N': [145, 0, 385, 260, 0, 320], \n",
    "           'S': [175, 0, 0, 125, 320, 0]\n",
    "            }\n",
    "cities = ['Barstow', 'Eureka', 'Fresno', 'Los Angeles', 'Needles' , 'San Diego']\n",
    "cal_cit_dis = DataFrame(distance, columns=['B', 'E', 'F', 'L', 'N', 'S'], index=cities)\n",
    "cal_cit_dis"
   ]
  },
  {
   "cell_type": "markdown",
   "metadata": {},
   "source": [
    "<br/>\n",
    "<h2>2. 그래표 표현 </h2>\n",
    "<br/><b>상기 테이블로 표현되는 데이터를 다음 그림과 같이 그래표로 표현할 수 있다.</b>\n",
    "<br/>\n"
   ]
  },
  {
   "cell_type": "markdown",
   "metadata": {},
   "source": [
    "![graph](graph.png)"
   ]
  },
  {
   "cell_type": "markdown",
   "metadata": {},
   "source": [
    "<h4>우선 위 그래프에서 에지 거리를 모두 1로 가정해보고 살펴보기로 한다.</h4>\n"
   ]
  },
  {
   "cell_type": "markdown",
   "metadata": {},
   "source": [
    "![graph_no](graph_no.png)"
   ]
  },
  {
   "cell_type": "markdown",
   "metadata": {},
   "source": [
    "위 [그림2]의 그래프를 표현하는 방법으로는 <b>adjacency list, adjacency matrix </b>등이 있다. 본 실습에서는 <b>adjacency list</b>를 사용하며, 파이썬에서는 <b>dictionary</b> 로 표현한다. "
   ]
  },
  {
   "cell_type": "code",
   "execution_count": 2,
   "metadata": {},
   "outputs": [
    {
     "data": {
      "text/plain": [
       "{'S': ['B', 'L', 'N'],\n",
       " 'B': ['F', 'L', 'N', 'S'],\n",
       " 'L': ['B', 'E', 'F', 'N', 'S'],\n",
       " 'N': ['B', 'F', 'L', 'S'],\n",
       " 'E': ['F', 'L'],\n",
       " 'F': ['B', 'E', 'N']}"
      ]
     },
     "execution_count": 2,
     "metadata": {},
     "output_type": "execute_result"
    }
   ],
   "source": [
    "graph = {'S': ['B', 'L', 'N'],\n",
    "       'B': ['F', 'L', 'N', 'S'],\n",
    "       'L': ['B', 'E', 'F', 'N', 'S'],\n",
    "       'N': ['B', 'F', 'L', 'S'],\n",
    "       'E': ['F', 'L'],\n",
    "       'F': ['B', 'E', 'N'] }\n",
    "graph"
   ]
  },
  {
   "cell_type": "markdown",
   "metadata": {},
   "source": [
    "<b>위 'graph' 자료구조는 키(key)가 그래프의 노드(vertex) 인 dictionary이다.</b>\n",
    "<br/>각 키에 대해 해당 값은 이 노드에서 직접 에지로 연결된 노드를 포함하는 목록이다. "
   ]
  },
  {
   "cell_type": "markdown",
   "metadata": {},
   "source": [
    "<br/>\n",
    "<h2>3. 경로 찾기</h2>\n",
    "<br/>다음으로 두 노드 사이의 경로(path)를 찾는 알고리즘을 구해보자. 본 실습에서는 경로가 사이클은 포함하지 않는 것으로 한다. (즉, 경로에서 동일한 노드가 두 번 이상 들어가지 않는 것으로 한다.). 따라서 경로(path)에 대해서는 교재에서 배운 정의에 더하여 사이클을 포함하지 않도록 한 다음의 정의를 사용한다. \n",
    "<br/><h3>Definition : \n",
    "Let $n$ be a nonnegative integer and $G$ an undirected graph.  A path of length $n$ from $u$ to $v$ in $G$ is a sequence of $n$ edges $e_1, … , e_n $ of $G$ for which there exists a sequence   $x_0 = u, x_1, …, x_{n-1}, x_n = v $  of vertices such that 1) for   $i,j=0,1 …, n ~~$and  $i \\neq j, x_{i} \\neq  x_{j} $  and 2) $e_i$ has $x_{i-1}$ and $x_i$. </h3>\n",
    "\n"
   ]
  },
  {
   "cell_type": "markdown",
   "metadata": {},
   "source": [
    "<br/>\n",
    "<b>먼저, Connected Graph 에서 주어진 시작 노드와 종단 노드 간의 경로를 하나를 찾는 알고리즘을 파이썬 프로그래밍 한다.</b>\n",
    "<br/>\n",
    "<br/>알고리즘은 파이썬 함수로 구현되며, 그래프와 시작 노드, 종단 노드, 경로를 인수로 취하며, 경로를 구성하는 노드 목록 리스트(시작 및 종단 노드 포함)를 반환한다. 경로를 찾을 수 없으면 'None'을 반환한다. 경로에서는 동일한 노드가 두 번 이상 들어가지 않는 것으로 한다 (즉, 사이클은 포함하지 않음). "
   ]
  },
  {
   "cell_type": "code",
   "execution_count": 6,
   "metadata": {},
   "outputs": [],
   "source": [
    "def find_path(graph, start, end, path=[]):\n",
    "        path = path + [start]\n",
    "        \n",
    "        if start == end:\n",
    "            return path\n",
    "        if not start in graph :\n",
    "            return None\n",
    "        for node in graph[start]:\n",
    "            for comp1 in node:\n",
    "                if comp1 not in path:\n",
    "                    #print(comp1)\n",
    "                    newpath = find_path(graph, comp1, end, path)\n",
    "                    if newpath: \n",
    "                        return newpath\n",
    "        return None "
   ]
  },
  {
   "cell_type": "code",
   "execution_count": 7,
   "metadata": {},
   "outputs": [
    {
     "data": {
      "text/plain": [
       "['S', 'B', 'F']"
      ]
     },
     "execution_count": 7,
     "metadata": {},
     "output_type": "execute_result"
    }
   ],
   "source": [
    "find_path(graph, 'S', 'F')"
   ]
  },
  {
   "cell_type": "markdown",
   "metadata": {},
   "source": [
    "<b>상기 경로 찾기 알고리즘은 상기 dictionary 구조로 표현되는 adjacency list 에서 처음으로 찾은 경로 하나를 반환한다. </b>"
   ]
  },
  {
   "cell_type": "markdown",
   "metadata": {},
   "source": [
    "###  다음은 주어진 시작 노드와 종단 노드간의 모든 경로를 찾는 알고리즘이다. "
   ]
  },
  {
   "cell_type": "code",
   "execution_count": 8,
   "metadata": {},
   "outputs": [],
   "source": [
    "def find_all_paths(graph, start, end, path=[]):\n",
    "        path = path + [start]\n",
    "        if start == end:\n",
    "            return [path]\n",
    "        if not start in graph :\n",
    "            return []\n",
    "        all_paths = []\n",
    "        for node in graph[start]:\n",
    "            if node not in path:\n",
    "                newpaths = find_all_paths(graph, node, end, path)\n",
    "                for newpath in newpaths:\n",
    "                    all_paths.append(newpath)\n",
    "        return all_paths"
   ]
  },
  {
   "cell_type": "code",
   "execution_count": 9,
   "metadata": {},
   "outputs": [
    {
     "data": {
      "text/plain": [
       "[['S', 'B', 'F'],\n",
       " ['S', 'B', 'L', 'E', 'F'],\n",
       " ['S', 'B', 'L', 'F'],\n",
       " ['S', 'B', 'L', 'N', 'F'],\n",
       " ['S', 'B', 'N', 'F'],\n",
       " ['S', 'B', 'N', 'L', 'E', 'F'],\n",
       " ['S', 'B', 'N', 'L', 'F'],\n",
       " ['S', 'L', 'B', 'F'],\n",
       " ['S', 'L', 'B', 'N', 'F'],\n",
       " ['S', 'L', 'E', 'F'],\n",
       " ['S', 'L', 'F'],\n",
       " ['S', 'L', 'N', 'B', 'F'],\n",
       " ['S', 'L', 'N', 'F'],\n",
       " ['S', 'N', 'B', 'F'],\n",
       " ['S', 'N', 'B', 'L', 'E', 'F'],\n",
       " ['S', 'N', 'B', 'L', 'F'],\n",
       " ['S', 'N', 'F'],\n",
       " ['S', 'N', 'L', 'B', 'F'],\n",
       " ['S', 'N', 'L', 'E', 'F'],\n",
       " ['S', 'N', 'L', 'F']]"
      ]
     },
     "execution_count": 9,
     "metadata": {},
     "output_type": "execute_result"
    }
   ],
   "source": [
    "find_all_paths(graph, 'S', 'F')"
   ]
  },
  {
   "cell_type": "markdown",
   "metadata": {},
   "source": [
    "## 4. 최단 경로 찾기 \n",
    "### 다음은 상기 [그림 2]에서 각 에지의 거리(weight)가 1 일때, 최단 경로를 찾는 알고리즘이다."
   ]
  },
  {
   "cell_type": "code",
   "execution_count": 10,
   "metadata": {},
   "outputs": [],
   "source": [
    "def find_shortest_path(graph, start, end, path=[]):\n",
    "        path = path + [start]\n",
    "        if start == end:\n",
    "            return path\n",
    "        if not start in graph:\n",
    "            return None\n",
    "        shortest = None\n",
    "\n",
    "        for node in graph[start]:\n",
    "            if node not in path:\n",
    "                newpath = find_shortest_path(graph, node, end, path)\n",
    "                if newpath:\n",
    "                    if not shortest or len(newpath) < len(shortest):\n",
    "                        shortest = newpath\n",
    "        return shortest"
   ]
  },
  {
   "cell_type": "code",
   "execution_count": 11,
   "metadata": {},
   "outputs": [
    {
     "data": {
      "text/plain": [
       "['S', 'B', 'F']"
      ]
     },
     "execution_count": 11,
     "metadata": {},
     "output_type": "execute_result"
    }
   ],
   "source": [
    "find_shortest_path(graph, 'S', 'F')"
   ]
  },
  {
   "cell_type": "markdown",
   "metadata": {},
   "source": [
    "### 상기 알고리즘에서 최단 경로가 여러 개가 있더라도 처음 찾아지는 최단 경로를 복귀한다. "
   ]
  },
  {
   "cell_type": "code",
   "execution_count": 12,
   "metadata": {},
   "outputs": [],
   "source": [
    "def find_shortest_path2(graph, start, end, path=[]):\n",
    "        path = path + [start]\n",
    "        if start == end:\n",
    "            return path\n",
    "        if not start in graph:\n",
    "            return None\n",
    "        shortest = None\n",
    "\n",
    "        for node in graph[start]:\n",
    "            if node not in path:\n",
    "                newpath = find_shortest_path2(graph, node, end, path)\n",
    "                if newpath:\n",
    "                    if not shortest or len(newpath) <= len(shortest): # <  ==> <=  로 변경\n",
    "                        shortest = newpath\n",
    "        return shortest"
   ]
  },
  {
   "cell_type": "code",
   "execution_count": 13,
   "metadata": {},
   "outputs": [
    {
     "data": {
      "text/plain": [
       "['S', 'N', 'F']"
      ]
     },
     "execution_count": 13,
     "metadata": {},
     "output_type": "execute_result"
    }
   ],
   "source": [
    "find_shortest_path2(graph, 'S', 'F')"
   ]
  },
  {
   "cell_type": "markdown",
   "metadata": {},
   "source": [
    "<br/>\n",
    "<h4>이제, [그림 1]과 같이 에지에 다양한 거리(weight)를 갖는 그래프에서 경로 찾는 문제의 경우에서, 자료 구조 표현 및 알고리즘 등을 살펴보기로 한다.</h4>"
   ]
  },
  {
   "cell_type": "markdown",
   "metadata": {},
   "source": [
    "### 다음과 같이 상기 adjacency list 에 에지 거리(weigth)를 추가한 변형 adjacency list 를 고려해보자."
   ]
  },
  {
   "cell_type": "code",
   "execution_count": 14,
   "metadata": {},
   "outputs": [],
   "source": [
    "graph2 = {'S': [['B', 175], ['L', 125],['N', 320]],\n",
    "             'B': [['F', 245], ['L', 115], ['N', 145], ['S', 175]],\n",
    "             'L': [['B', 115], ['E', 645],['F', 220],['N', 260],['S', 125]],\n",
    "             'N': [['B', 145], ['F', 385],['L', 260],['S', 320]],\n",
    "             'E': [['F', 450],['L', 645]],\n",
    "             'F': [['B', 245], ['E', 450],['N', 385]]}\n"
   ]
  },
  {
   "cell_type": "markdown",
   "metadata": {},
   "source": [
    "[그림 1]의 그래프를 상기 weighted adjacency list 로 표현한 경우에, 경로 찾기 알고리즘은 다음과 같이 표현 자료구조에 따라 <b>약간의 변형</b>이 필요하다. "
   ]
  },
  {
   "cell_type": "code",
   "execution_count": 15,
   "metadata": {},
   "outputs": [],
   "source": [
    "def find_path2(graph, start, end, path=[]):\n",
    "        path = path + [start]\n",
    "        \n",
    "        if start == end:\n",
    "            return path\n",
    "        if not start in graph:\n",
    "            return None\n",
    "        for node in graph[start]:\n",
    "            if node[0] not in path:\n",
    "                newpath = find_path2(graph, node[0], end, path)\n",
    "                if newpath: return newpath\n",
    "        return None \n"
   ]
  },
  {
   "cell_type": "code",
   "execution_count": 16,
   "metadata": {
    "scrolled": true
   },
   "outputs": [
    {
     "data": {
      "text/plain": [
       "['S', 'B', 'F']"
      ]
     },
     "execution_count": 16,
     "metadata": {},
     "output_type": "execute_result"
    }
   ],
   "source": [
    "find_path2(graph2, 'S', 'F')"
   ]
  },
  {
   "cell_type": "markdown",
   "metadata": {},
   "source": [
    "### [그림 1]경우에, 시작노드에서 종단노드까지의 모든 경로를 찾아보자. "
   ]
  },
  {
   "cell_type": "code",
   "execution_count": 17,
   "metadata": {},
   "outputs": [],
   "source": [
    "def find_all_paths2(graph, start, end, path=[]):\n",
    "        path = path + [start]\n",
    "        if start == end:\n",
    "            return [path]        \n",
    "        if not start in graph:\n",
    "            return []  \n",
    "        \n",
    "        all_paths = []\n",
    "        for node in graph[start]:\n",
    "            if node[0] not in path:        \n",
    "                newpaths = find_all_paths2(graph, node[0], end, path)\n",
    "                for newpath in newpaths:\n",
    "                    all_paths.append(newpath)\n",
    "        return all_paths"
   ]
  },
  {
   "cell_type": "code",
   "execution_count": 18,
   "metadata": {},
   "outputs": [
    {
     "data": {
      "text/plain": [
       "[['S', 'B', 'F'],\n",
       " ['S', 'B', 'L', 'E', 'F'],\n",
       " ['S', 'B', 'L', 'F'],\n",
       " ['S', 'B', 'L', 'N', 'F'],\n",
       " ['S', 'B', 'N', 'F'],\n",
       " ['S', 'B', 'N', 'L', 'E', 'F'],\n",
       " ['S', 'B', 'N', 'L', 'F'],\n",
       " ['S', 'L', 'B', 'F'],\n",
       " ['S', 'L', 'B', 'N', 'F'],\n",
       " ['S', 'L', 'E', 'F'],\n",
       " ['S', 'L', 'F'],\n",
       " ['S', 'L', 'N', 'B', 'F'],\n",
       " ['S', 'L', 'N', 'F'],\n",
       " ['S', 'N', 'B', 'F'],\n",
       " ['S', 'N', 'B', 'L', 'E', 'F'],\n",
       " ['S', 'N', 'B', 'L', 'F'],\n",
       " ['S', 'N', 'F'],\n",
       " ['S', 'N', 'L', 'B', 'F'],\n",
       " ['S', 'N', 'L', 'E', 'F'],\n",
       " ['S', 'N', 'L', 'F']]"
      ]
     },
     "execution_count": 18,
     "metadata": {},
     "output_type": "execute_result"
    }
   ],
   "source": [
    "find_all_paths2(graph2, 'S', 'F')"
   ]
  },
  {
   "cell_type": "markdown",
   "metadata": {},
   "source": [
    "### 다음은 [그림 1]에서  최단 경로와 그 때의 최단 경로 길이를 찾는 알고리즘이다."
   ]
  },
  {
   "cell_type": "code",
   "execution_count": 19,
   "metadata": {},
   "outputs": [],
   "source": [
    "from math import *\n",
    "def find_shortest_path2(graph, start, end, path=[], distance=0):\n",
    "        path = path+ [start]            \n",
    "        if start == end:\n",
    "            return path, distance\n",
    "        if not start in graph:\n",
    "            return None, inf\n",
    "        \n",
    "        shortest_path = None\n",
    "        shortest_path_distance = inf\n",
    "\n",
    "        for node in graph[start]:\n",
    "            if node[0] not in path:                \n",
    "                distance= distance+node[1]   \n",
    "                \n",
    "                new_path, new_path_distance = find_shortest_path2(graph, node[0], end, path, distance)\n",
    "                distance=distance-node[1]\n",
    "                if new_path:\n",
    "                    if not shortest_path or new_path_distance < shortest_path_distance:\n",
    "                        shortest_path = new_path\n",
    "                        shortest_path_distance = new_path_distance\n",
    "        return shortest_path, shortest_path_distance"
   ]
  },
  {
   "cell_type": "code",
   "execution_count": 20,
   "metadata": {},
   "outputs": [
    {
     "data": {
      "text/plain": [
       "(['S', 'L', 'F'], 345)"
      ]
     },
     "execution_count": 20,
     "metadata": {},
     "output_type": "execute_result"
    }
   ],
   "source": [
    "find_shortest_path2(graph2, 'S', 'F')"
   ]
  },
  {
   "cell_type": "code",
   "execution_count": 21,
   "metadata": {},
   "outputs": [
    {
     "data": {
      "text/plain": [
       "(['N', 'F', 'E'], 835)"
      ]
     },
     "execution_count": 21,
     "metadata": {},
     "output_type": "execute_result"
    }
   ],
   "source": [
    "find_shortest_path2(graph2, 'N', 'E')"
   ]
  },
  {
   "cell_type": "markdown",
   "metadata": {},
   "source": [
    "<br/>"
   ]
  },
  {
   "cell_type": "markdown",
   "metadata": {},
   "source": [
    "## 5. 'networkx'  패키지를 활용한 그래프 문제 풀기 "
   ]
  },
  {
   "cell_type": "markdown",
   "metadata": {},
   "source": [
    "### Graph 다루는 파이선 패키지로 'networkx' (https://networkx.github.io/) 가 있다.   "
   ]
  },
  {
   "cell_type": "markdown",
   "metadata": {},
   "source": [
    "'networkx' 패키지 활용 참고 자료 : http://pythonkr.github.io/pyconkr-2014/pdf/pyconkr-2014-07_networkx.pdf"
   ]
  },
  {
   "cell_type": "markdown",
   "metadata": {},
   "source": [
    "<b>이를 이용하여 그래프 문제를 풀어 보자. </b>"
   ]
  },
  {
   "cell_type": "code",
   "execution_count": 22,
   "metadata": {},
   "outputs": [],
   "source": [
    "import networkx as nx # networkx 패키지 임포트"
   ]
  },
  {
   "cell_type": "code",
   "execution_count": 23,
   "metadata": {},
   "outputs": [
    {
     "name": "stdout",
     "output_type": "stream",
     "text": [
      "Nodes of graph: \n",
      "['S', 'B', 'L', 'N', 'E', 'F']\n",
      "Edges of graph: \n",
      "[('S', 'L'), ('S', 'B'), ('S', 'N'), ('B', 'F'), ('B', 'L'), ('B', 'N'), ('L', 'E'), ('L', 'F'), ('L', 'N'), ('N', 'F'), ('E', 'F')]\n"
     ]
    }
   ],
   "source": [
    "G=nx.Graph()\n",
    "Nodes=['S', 'B', 'L', 'N', 'E', 'F' ]\n",
    "G.add_nodes_from(Nodes)\n",
    "\n",
    "# adding a list of edges:\n",
    "G.add_edges_from([('S', 'L'), ('S', 'B'), ('S', 'N'), ('B', 'F'), ('B', 'L'), ('B', 'N'), ('L', 'E'), ('L', 'F'), ('L', 'N'), \n",
    "                   ('N', 'F'), ('E', 'F') ])\n",
    "print(\"Nodes of graph: \")\n",
    "print(G.nodes())\n",
    "print(\"Edges of graph: \")\n",
    "print(G.edges())"
   ]
  },
  {
   "cell_type": "code",
   "execution_count": 24,
   "metadata": {},
   "outputs": [],
   "source": [
    "import matplotlib.pyplot as plt"
   ]
  },
  {
   "cell_type": "code",
   "execution_count": 25,
   "metadata": {
    "scrolled": false
   },
   "outputs": [
    {
     "name": "stderr",
     "output_type": "stream",
     "text": [
      "C:\\Users\\user\\Anaconda3\\lib\\site-packages\\networkx\\drawing\\nx_pylab.py:579: MatplotlibDeprecationWarning: \n",
      "The iterable function was deprecated in Matplotlib 3.1 and will be removed in 3.3. Use np.iterable instead.\n",
      "  if not cb.iterable(width):\n"
     ]
    },
    {
     "data": {
      "image/png": "[encoded data removed]",
      "text/plain": [
       "<Figure size 720x720 with 1 Axes>"
      ]
     },
     "metadata": {},
     "output_type": "display_data"
    }
   ],
   "source": [
    "plt.figure(figsize=(10, 10))\n",
    "pos=nx.spring_layout(G)\n",
    "nx.draw_networkx_nodes(G, pos=pos, node_size=2000, node_color='cyan')\n",
    "nx.draw_networkx_edges(G, pos=pos)\n",
    "nx.draw_networkx_labels(G, pos=pos, font_size=30)\n",
    "plt.show()"
   ]
  },
  {
   "cell_type": "markdown",
   "metadata": {},
   "source": [
    "'S' 노드와 연결되어 있는 노드는 아래 코드로 찾을 수 있다."
   ]
  },
  {
   "cell_type": "code",
   "execution_count": 26,
   "metadata": {
    "scrolled": true
   },
   "outputs": [
    {
     "name": "stdout",
     "output_type": "stream",
     "text": [
      "{'L': {}, 'B': {}, 'N': {}}\n"
     ]
    }
   ],
   "source": [
    "print(G['S'])"
   ]
  },
  {
   "cell_type": "markdown",
   "metadata": {},
   "source": [
    "\n",
    "</br><h3>위 그래프에서 거리(weight)를 추가한 그래프를 새로 만들어본다.</h3>"
   ]
  },
  {
   "cell_type": "code",
   "execution_count": 27,
   "metadata": {},
   "outputs": [
    {
     "name": "stdout",
     "output_type": "stream",
     "text": [
      "Nodes of graph: \n",
      "['S', 'B', 'L', 'N', 'E', 'F']\n",
      "Weighted Edges of graph: \n",
      "[('S', 'L'), ('S', 'B'), ('S', 'N'), ('B', 'F'), ('B', 'L'), ('B', 'N'), ('L', 'E'), ('L', 'F'), ('L', 'N'), ('N', 'F'), ('E', 'F')]\n"
     ]
    }
   ],
   "source": [
    "G2=nx.Graph()\n",
    "Nodes=['S', 'B', 'L', 'N', 'E', 'F' ]\n",
    "G2.add_nodes_from(Nodes)\n",
    "G2.add_weighted_edges_from([('S', 'L', 125), ('S', 'B', 175 ), ('S', 'N', 320), ('B', 'F', 245), ('B', 'L', 115), ('B', 'N', 145), ('L', 'E', 645), ('L', 'F', 220), ('L', 'N', 260), ('N', 'F', 385), ('E', 'F', 450) ])\n",
    "print(\"Nodes of graph: \")\n",
    "print(G2.nodes())\n",
    "print(\"Weighted Edges of graph: \")\n",
    "print(G2.edges())"
   ]
  },
  {
   "cell_type": "markdown",
   "metadata": {},
   "source": [
    "이제 'S' 노드와 연결되어 있는 노드를 출력하면 거리값도 같이 출력됨을 알 수 있다."
   ]
  },
  {
   "cell_type": "code",
   "execution_count": 28,
   "metadata": {},
   "outputs": [
    {
     "name": "stdout",
     "output_type": "stream",
     "text": [
      "{'L': {'weight': 125}, 'B': {'weight': 175}, 'N': {'weight': 320}}\n"
     ]
    }
   ],
   "source": [
    "print(G2['S'])"
   ]
  },
  {
   "cell_type": "code",
   "execution_count": 29,
   "metadata": {
    "scrolled": false
   },
   "outputs": [
    {
     "data": {
      "image/png": "[encoded data removed]",
      "text/plain": [
       "<Figure size 720x720 with 1 Axes>"
      ]
     },
     "metadata": {},
     "output_type": "display_data"
    }
   ],
   "source": [
    "plt.figure(figsize=(10, 10))\n",
    "pos=nx.spring_layout(G2)\n",
    "nx.draw_networkx_nodes(G2, pos=pos, node_size=2000, node_color='cyan')\n",
    "nx.draw_networkx_edges(G2, pos=pos)\n",
    "nx.draw_networkx_labels(G2, pos=pos, font_size=30)\n",
    "edge_labels = {(u, v): d['weight'] for u, v, d in G2.edges(data=True)}\n",
    "nx.draw_networkx_edge_labels(G2, pos=pos, edge_labels=edge_labels, font_size=15)\n",
    "plt.show()"
   ]
  },
  {
   "cell_type": "code",
   "execution_count": 30,
   "metadata": {},
   "outputs": [
    {
     "data": {
      "text/plain": [
       "['S', 'L', 'F']"
      ]
     },
     "execution_count": 30,
     "metadata": {},
     "output_type": "execute_result"
    }
   ],
   "source": [
    "nx.shortest_path(G2, \"S\", \"F\", \"weight\")"
   ]
  },
  {
   "cell_type": "code",
   "execution_count": 31,
   "metadata": {
    "scrolled": true
   },
   "outputs": [
    {
     "data": {
      "text/plain": [
       "345"
      ]
     },
     "execution_count": 31,
     "metadata": {},
     "output_type": "execute_result"
    }
   ],
   "source": [
    "nx.shortest_path_length(G2, \"S\", \"F\", \"weight\")"
   ]
  },
  {
   "cell_type": "markdown",
   "metadata": {},
   "source": [
    "<br/><br/><br/><br/>\n",
    "<h1> 실습 문제 </h1>\n"
   ]
  },
  {
   "cell_type": "markdown",
   "metadata": {},
   "source": [
    "<h2> 실습 1, 2, 3.</h2> \n",
    "<h3>다음과 같은 그래프가 주어진다고 하자.</h3>"
   ]
  },
  {
   "cell_type": "markdown",
   "metadata": {},
   "source": [
    "![Exercise](exer.png)"
   ]
  },
  {
   "cell_type": "markdown",
   "metadata": {},
   "source": [
    "<br/><h3>실습 1.</h3>\n",
    "<br/>\"networkx'  파이썬 패키지를 사용하여 해당 그래프를 그리시오. 단, 아래 pos 변수를 이용하여 출력 예시와 <b>반드시</b> 동일하게 출력해야 한다."
   ]
  },
  {
   "cell_type": "code",
   "execution_count": 32,
   "metadata": {},
   "outputs": [],
   "source": [
    "# 그래프 위치에 관한 dictionary. \n",
    "# https://networkx.github.io/documentation/stable/reference/generated/networkx.drawing.nx_pylab.draw_networkx_nodes.html\n",
    "A,B,C,D,E,F,G,H,I = 'ABCDEFGHI'\n",
    "pos = {A:(1, 2),B:(3, 2),C:(4, 1),D:(3, 0),E:(1, 0),F:(0, 1),G:(2, 1.5),H:(3, 1),I:(1, 1)}"
   ]
  },
  {
   "cell_type": "markdown",
   "metadata": {},
   "source": [
    "<출력 예시>"
   ]
  },
  {
   "cell_type": "markdown",
   "metadata": {},
   "source": [
    "![prob0](prob0.png)"
   ]
  },
  {
   "cell_type": "markdown",
   "metadata": {},
   "source": [
    "<br/>※ 풀이조건\n",
    "<ol>\n",
    "    <li>그래프를 그릴 때 크기 및 색상은 자유롭게 하되, 각 노드 및 엣지를 '알아볼 수 있도록' 그린다.</li>\n",
    "</ol>\n",
    "<br/> ※ 제한조건\n",
    "<ol>\n",
    "    <li>pos 변수를 사용하여 각 노드 및 엣지의 위치는 위 출력 예시와 동일하게 출력되어야 한다. 안 되었을 시 0.5점 감점한다.</li>\n",
    "</ol>\n"
   ]
  },
  {
   "cell_type": "code",
   "execution_count": 33,
   "metadata": {},
   "outputs": [
    {
     "data": {
      "image/png": "[encoded data removed]",
      "text/plain": [
       "<Figure size 720x720 with 1 Axes>"
      ]
     },
     "metadata": {},
     "output_type": "display_data"
    }
   ],
   "source": [
    "import networkx as nx\n",
    "import matplotlib.pyplot as plt\n",
    "Gm=nx.Graph()\n",
    "Nodes=['A','B','C','D','E','F','G','H','I']\n",
    "Gm.add_nodes_from(Nodes)\n",
    "Gm.add_weighted_edges_from([('A', 'B',2), ('A', 'G',3), ('A', 'F',7), ('B', 'C',4), ('B', 'G',6), ('C', 'H',2), ('C', 'D',2), \n",
    "                           ('D','H',8), ('D', 'E',1), ('E', 'I',2), ('E', 'F',6), ('F', 'I',5),('G','I',1),('G','H',3),('H','I',4) ])\n",
    "A,B,C,D,E,F,G,H,I = 'ABCDEFGHI'\n",
    "plt.figure(figsize=(10, 10))\n",
    "pos=nx.spring_layout(Gm)\n",
    "pos= {A:(1, 2),B:(3, 2),C:(4, 1),D:(3, 0),E:(1, 0),F:(0, 1),G:(2, 1.5),H:(3, 1),I:(1, 1)}\n",
    "nx.draw_networkx_nodes(Gm, pos=pos, node_size=2000, node_color='cyan')\n",
    "nx.draw_networkx_edges(Gm, pos=pos)\n",
    "nx.draw_networkx_labels(Gm, pos=pos, font_size=30)\n",
    "edge_labels = {(u, v): d['weight'] for u, v, d in Gm.edges(data=True)}\n",
    "nx.draw_networkx_edge_labels(Gm, pos=pos, edge_labels=edge_labels, font_size=15)\n",
    "plt.show()"
   ]
  },
  {
   "cell_type": "markdown",
   "metadata": {},
   "source": [
    "<br/><h3>실습 2.</h3>\n",
    "<br/>\"networkx' 파이썬 패키지를 사용하여 위에서 그린 그래프에서 노드 F 에서 노드 B, C, D, H, G 까지의 최단 경로와 최단 거리를 <b>각각</b> 구하여 출력하시오. 단, 아래 출력 예시에 맞게 출력해야 한다."
   ]
  },
  {
   "cell_type": "markdown",
   "metadata": {},
   "source": [
    "<출력 예시>\n",
    "<br/>노드 F에서 노드 E까지 최단 경로는 ['F', 'E'] 이며 최단 거리는 6 이다."
   ]
  },
  {
   "cell_type": "markdown",
   "metadata": {},
   "source": [
    "※ 풀이조건\n",
    "<ol>\n",
    "    <li>\"networkx' 파이썬 패키지 내 함수 및 클래스를 사용하여 시작 노드를 F로, 도착 노드를 B, C, D, H, G 중 하나씩 설정해서 총 5개의 최단 경로와 최단 거리를 구하여 출력한다. (예: (F-B), (F-C), (F-D), (F-H), (F-G) 로, 총 5개)</li>\n",
    "    <li>최단 경로가 2개 이상일 경우 아무 것이나 1개를 택하여 출력한다.</li>\n",
    "</ol>\n",
    "<br/> ※ 제한조건\n",
    "<ol>\n",
    "    <li>5개 경로 및 거리가 모두 올바른 값이면 정답 처리 한다.</li>\n",
    "    <li>다른 패키지 함수를 이용하여 간단히 구현해도 정답처리한다. 단 실습 3의 답과 동일하게 구현하면 0점 처리한다.</li>\n",
    "</ol>\n"
   ]
  },
  {
   "cell_type": "code",
   "execution_count": 34,
   "metadata": {},
   "outputs": [
    {
     "name": "stdout",
     "output_type": "stream",
     "text": [
      "노드 F에서 노드 E까지 최단 경로는  ['F', 'A', 'B']  이며 최단 거리는  9  이다.\n",
      "노드 F에서 노드 E까지 최단 경로는  ['F', 'E', 'D', 'C']  이며 최단 거리는  9  이다.\n",
      "노드 F에서 노드 E까지 최단 경로는  ['F', 'E', 'D']  이며 최단 거리는  7  이다.\n",
      "노드 F에서 노드 E까지 최단 경로는  ['F', 'I', 'H']  이며 최단 거리는  9  이다.\n",
      "노드 F에서 노드 E까지 최단 경로는  ['F', 'I', 'G']  이며 최단 거리는  6  이다.\n"
     ]
    }
   ],
   "source": [
    "for i in ['B','C','D','H','G']:\n",
    "    print('노드 F에서 노드 E까지 최단 경로는 ',nx.shortest_path(Gm, \"F\", i, \"weight\"),' 이며 최단 거리는 ',nx.shortest_path_length(Gm, \"F\", i, \"weight\"),' 이다.')"
   ]
  },
  {
   "cell_type": "markdown",
   "metadata": {},
   "source": [
    "<br/><h3>실습 3.</h3>\n",
    "<br/>\"networkx' 파이썬 패키지를 사용하지 말고, 노드 F 에서 각 노드 B, C, D, H, G 까지의 최단 경로와 최단 거리를 구하는 파이썬 프로그래밍을 해보시오.\n"
   ]
  },
  {
   "cell_type": "markdown",
   "metadata": {},
   "source": [
    "※ 풀이조건\n",
    "<ol>\n",
    "    <li><b>직접 프로그래밍을 하여</b> 시작 노드를 F로, 도착 노드를 B, C, D, H, G 중 하나씩 설정해서 총 5개의 최단 경로와 최단 거리를 구하여 출력한다.(예: (F-B), (F-C), (F-D), (F-H), (F-G) 로, 총 5개)</li>\n",
    "    <li>최단 경로가 2개 이상일 경우 아무 것이나 1개를 택하여 출력한다.</li>\n",
    "</ol>\n",
    "<br/> ※ 제한조건\n",
    "<ol>\n",
    "    <li>5개 경로 및 거리가 모두 올바른 값이면 정답 처리 한다.</li>\n",
    "    <li>코드 내 import 문을 사용할 경우 0점 처리한다. <b>위 실습 코드 중 'from math import *'을 그대로 사용하지 않도록 주의한다.</b></li>\n",
    "</ol>\n"
   ]
  },
  {
   "cell_type": "code",
   "execution_count": 35,
   "metadata": {},
   "outputs": [
    {
     "name": "stdout",
     "output_type": "stream",
     "text": [
      "노드 F에서 노드 B 까지 최단 경로는 ['F', 'A', 'B'] 이며 최단 거리는 9 이다.\n",
      "노드 F에서 노드 C 까지 최단 경로는 ['F', 'E', 'D', 'C'] 이며 최단 거리는 9 이다.\n",
      "노드 F에서 노드 D 까지 최단 경로는 ['F', 'E', 'D'] 이며 최단 거리는 7 이다.\n",
      "노드 F에서 노드 H 까지 최단 경로는 ['F', 'I', 'G', 'H'] 이며 최단 거리는 9 이다.\n",
      "노드 F에서 노드 G 까지 최단 경로는 ['F', 'I', 'G'] 이며 최단 거리는 6 이다.\n"
     ]
    }
   ],
   "source": [
    "graph = {'A': [['B', 2], ['F', 7],['G', 3]],\n",
    "             'B': [['B', 2],['C', 4], ['G', 6]],\n",
    "             'C': [['B', 4], ['D', 2],['H', 2]],\n",
    "             'D': [['C', 2], ['E', 1],['H', 8]],\n",
    "             'E': [['D', 1],['F', 6],['I', 5]],\n",
    "             'F': [['A', 7], ['E', 6],['I', 5]],\n",
    "             'G': [['A', 3], ['B', 6],['H', 3],['I', 1]],\n",
    "             'H': [['C', 2], ['D', 8],['G', 3],['I', 4]],\n",
    "             'I': [['E', 2], ['F', 5],['G', 1],['H', 4]]\n",
    "        }\n",
    "\n",
    "Gm.add_weighted_edges_from([('A', 'B', 2), ('A', 'F', 7 ), ('A', 'G', 3), ('B', 'C', 4), ('B', 'G', 6), \n",
    "                            ('C', 'D', 2), ('C', 'H', 2), ('D', 'E', 1), ('D', 'H', 8), ('E', 'F', 6), \n",
    "                            ('E', 'I', 2), ('F', 'I', 5), ('G', 'H', 3), ('G', 'I', 1), ('H', 'I', 4)])\n",
    "\n",
    "def find_shortest_path2(graph, start, end, path=[], distance=0):\n",
    "        path = path + [start]            \n",
    "        if start == end:\n",
    "            return path, distance\n",
    "        if not start in graph:\n",
    "            return None, 10000000\n",
    "        \n",
    "        shortest_path=None\n",
    "        shortest_path_distance= 10000000\n",
    "        \n",
    "        \n",
    "        for node in graph[start]:\n",
    "            if node[0] not in path:                \n",
    "                distance= distance+node[1]   \n",
    "                \n",
    "                new_path, new_path_distance = find_shortest_path2(graph, node[0], end, path, distance)\n",
    "                distance=distance-node[1]\n",
    "                if new_path:\n",
    "                    if not shortest_path or new_path_distance < shortest_path_distance:\n",
    "                        shortest_path = new_path\n",
    "                        shortest_path_distance = new_path_distance\n",
    "        return shortest_path, shortest_path_distance\n",
    "for end in \"BCDHG\":\n",
    "    print(\"노드 F에서 노드\",end,\"까지 최단 경로는\",find_shortest_path2(graph,'F',end)[0],\"이며 최단 거리는\",find_shortest_path2(graph,'F',end)[1],\"이다.\")"
   ]
  },
  {
   "cell_type": "markdown",
   "metadata": {},
   "source": [
    "<br/><h3>실습 4.</h3>\n",
    "<br/>그래프 이론을 공부했던 이산이는 문득 지금까지 배웠던 최단 거리 말고 최장 거리를 구하려면 어떻게 해야하는 지 궁금했다,\n",
    "<br/>이를 위해 이산이는 반 친구들의 이름을 빌려 아래처럼 그래프를 그려보았다."
   ]
  },
  {
   "cell_type": "markdown",
   "metadata": {},
   "source": [
    "<b>노드 정보</b>\n",
    "<br/>'노리', '새롬', '나래', '하은', '시내', '아름', '푸름', '마루', '하랑', '진운', '영현', '이산'"
   ]
  },
  {
   "cell_type": "markdown",
   "metadata": {},
   "source": [
    "<b>엣지(거리) 정보</b>\n",
    "<br/>[('나래', '영현', 1), ('하은', '하랑', 8), ('하랑', '진운', 1), ('시내', '마루', 7), ('나래', '진운', 2), ('푸름', '하랑', 5), ('새롬', '영현', 7), ('새롬', '시내', 8), ('노리', '아름', 3), ('나래', '하은', 9), ('하은', '아름', 3), ('나래', '마루', 4), ('시내', '푸름', 6), ('하은', '시내', 3), ('노리', '시내', 4), ('푸름', '진운', 7), ('아름', '푸름', 2), ('새롬', '하랑', 7), ('푸름', '영현', 0),\n",
    " ('아름', '마루', 6), ('노리', '이산', 7), ('새롬', '나래', 1), ('하은', '마루', 10), ('나래', '아름', 1), ('아름', '이산', 10), ('노리', '하랑', 8), ('영현', '이산', 2), ('시내', '하랑', 6), ('노리', '새롬', 9), ('노리', '마루', 4), ('마루', '이산', 8), ('새롬', '푸름', 9), ('새롬', '하은', 8), ('아름', '하랑', 8), ('나래', '시내', 7), ('새롬', '마루', 3), ('노리', '진운', 4), ('아름', '영현', 9),\n",
    " ('노리', '푸름', 5), ('시내', '진운', 1), ('새롬', '이산', 3), ('나래', '이산', 4), ('시내', '이산', 4), ('하은', '이산', 10)]"
   ]
  },
  {
   "cell_type": "markdown",
   "metadata": {},
   "source": [
    "![prob4](prob4.png)"
   ]
  },
  {
   "cell_type": "markdown",
   "metadata": {},
   "source": [
    "<br/>위 그래프에서 각 노드 간 엣지는 친구 관계를 나타내며 거리 값은 친밀도를 나타낸다. (높을수록 서로 더 친밀하다)\n",
    "<br/>이산이는 최대 2명의 친구를 거쳐 새로운 친구를 소개받고 싶다고 했을 때 서로 서로 매우 친한 사이였으면 좋겠다고 생각했다.\n",
    "<br/>현재 이산이와 친구 관계를 맺지 않은 반 친구들을 찾고 어떤 친구에게 소개를 받아야 하는 지 파이썬 프로그래밍을 통해 구하시오."
   ]
  },
  {
   "cell_type": "markdown",
   "metadata": {},
   "source": [
    "하은이에게 진운이를 소개할 경우 출력 예시는 아래와 같다.\n",
    "<br/><b>\"하은에게 진운을 소개하려면 ['새롬', '푸름'] 를 거쳐야 한다. 이때 친밀도(거리값)는 24 으로 가장 높다.\"</b>"
   ]
  },
  {
   "cell_type": "markdown",
   "metadata": {},
   "source": [
    "※ 풀이조건\n",
    "<ol>\n",
    "    <li>시작 노드를 '이산'으로, 도착 노드들을 '이산과 친구 관계가 아닌' 노드로 하고 각 도착 노드에 대해 어떤 친구를 거쳐 소개를 받아야 하는 지 출력한다.</li>\n",
    "    <li><b>최대 2명</b>의 친구를 거쳐야 하며, 친구 관계가 아닌 친구를 거쳐서 소개를 받을 수 없다.</li>\n",
    "</ol>\n",
    "<br/> ※ 제한조건\n",
    "<ol>\n",
    "    <li>이산이와 친구 관계가 아닌 친구들을 찾을 때 반드시 프로그래밍을 통해 찾을 필요는 없다.</li>\n",
    "    <li>2명보다 많은 친구들을 거칠 경우 0.5점 감점한다.</li>\n",
    "    <li>기타 제한은 없다.(라이브러리 자유롭게 사용)</li>\n",
    "</ol>\n"
   ]
  },
  {
   "cell_type": "code",
   "execution_count": 36,
   "metadata": {},
   "outputs": [
    {
     "name": "stdout",
     "output_type": "stream",
     "text": [
      "이산에게 소개시켜줄 사람을 입력하세요: 진운\n",
      "이산 에게  진운  을(를) 소개하려면 하은 나래 (를) 거쳐야 한다. 이때, 친밀도 (거리값)는  21  로 가장 높다.\n"
     ]
    }
   ],
   "source": [
    "import networkx as nx\n",
    "\n",
    "Gn=nx.Graph()\n",
    "Nodes=['노리', '새롬', '나래', '하은', '시내', '아름', '푸름', '마루', '하랑', '진운', '영현', '이산']\n",
    "Gn.add_nodes_from(Nodes)\n",
    "Gn.add_weighted_edges_from([('나래', '영현', 1), ('하은', '하랑', 8), ('하랑', '진운', 1), ('시내', '마루', 7), ('나래', '진운', 2), ('푸름', '하랑', 5), ('새롬', '영현', 7), ('새롬', '시내', 8), ('노리', '아름', 3), ('나래', '하은', 9), ('하은', '아름', 3), ('나래', '마루', 4), ('시내', '푸름', 6), ('하은', '시내', 3), ('노리', '시내', 4), ('푸름', '진운', 7), ('아름', '푸름', 2), ('새롬', '하랑', 7), ('푸름', '영현', 0), ('아름', '마루', 6), ('노리', '이산', 7), ('새롬', '나래', 1), ('하은', '마루', 10), ('나래', '아름', 1), ('아름', '이산', 10), ('노리', '하랑', 8), ('영현', '이산', 2), ('시내', '하랑', 6), ('노리', '새롬', 9), ('노리', '마루', 4), ('마루', '이산', 8), ('새롬', '푸름', 9), ('새롬', '하은', 8), ('아름', '하랑', 8), ('나래', '시내', 7), ('새롬', '마루', 3), ('노리', '진운', 4), ('아름', '영현', 9), ('노리', '푸름', 5), ('시내', '진운', 1), ('새롬', '이산', 3), ('나래', '이산', 4), ('시내', '이산', 4), ('하은', '이산', 10)])\n",
    "\n",
    "\n",
    "start = '이산'\n",
    "end = input(\"이산에게 소개시켜줄 사람을 입력하세요: \")\n",
    "\n",
    "Max = 0\n",
    "whowith=[]\n",
    "for firstNode in Gn[start]:\n",
    "    for secondNode in Gn[firstNode]:\n",
    "        if end in Gn[secondNode]:\n",
    "            distance = Gn[start][firstNode]['weight'] + Gn[firstNode][secondNode]['weight'] + Gn[secondNode][end]['weight']\n",
    "            if Max < distance:\n",
    "                firstFriend=firstNode\n",
    "                secondFriend=secondNode\n",
    "                Max = distance\n",
    "print(start,\"에게 \", end,\" 을(를) 소개하려면\", firstFriend, secondFriend,\"(를) 거쳐야 한다. 이때, 친밀도 (거리값)는 \",Max,\" 로 가장 높다.\")     "
   ]
  }
 ],
 "metadata": {
  "kernelspec": {
   "display_name": "Python 3",
   "language": "python",
   "name": "python3"
  },
  "language_info": {
   "codemirror_mode": {
    "name": "ipython",
    "version": 3
   },
   "file_extension": ".py",
   "mimetype": "text/x-python",
   "name": "python",
   "nbconvert_exporter": "python",
   "pygments_lexer": "ipython3",
   "version": "3.7.4"
  }
 },
 "nbformat": 4,
 "nbformat_minor": 2
}
