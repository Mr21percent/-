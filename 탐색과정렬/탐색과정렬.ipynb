{
 "cells": [
  {
   "cell_type": "markdown",
   "metadata": {},
   "source": [
    "## 1.  파이썬에서의 조건 점검 및 반복 \n",
    "알고리즘은 조건 점검rhk 반복(iteration)이 필요하다. 알고리즘 구현을 실습하기전에 파이썬에서의 조건 점검 및 반복 패턴에 대해 살펴 보기로 한다. \n",
    "이를 위해서는 부교재인 Programming and Mathematical Thinking: A Gentle Introduction to Discrete Math Featuring Python,” Allan M.Stavely,  The New Mexico Tech Press,  2014. 의 chapter 3 를 참조하기로 한다. "
   ]
  },
  {
   "cell_type": "markdown",
   "metadata": {},
   "source": [
    "### statements \n",
    "A Python program is a sequence of statements. To illustrate some of the kinds\n",
    "of Python statements, let's look again at the following program, which consists of many statemnet\n",
    "\n",
    "&nbsp; &nbsp;&nbsp;sum = 0  \n",
    "&nbsp;&nbsp;&nbsp; count = 0  \n",
    "  \n",
    "&nbsp;&nbsp;&nbsp; file = open(\"observations\")  \n",
    "&nbsp;&nbsp;&nbsp; for line in file:  \n",
    "&nbsp;&nbsp;&nbsp;&nbsp;&nbsp;&nbsp;&nbsp;&nbsp;&nbsp; n = int(line)  \n",
    "&nbsp;&nbsp;&nbsp;&nbsp;&nbsp;&nbsp;&nbsp;&nbsp;&nbsp; sum += n  \n",
    "&nbsp;&nbsp;&nbsp;&nbsp;&nbsp;&nbsp;&nbsp;&nbsp;&nbsp; count += 1  \n",
    "&nbsp;&nbsp;&nbsp; print(sum/count)   \n",
    "\n",
    "문(statement)에는 한 줄로 표현되는 단문(simple statement)과 내부에 다른 문(statement)을 포함하는 복합문(compound statement)가 있다.  \n",
    "단문에는 할당문 (assignment statements), 표현문(expression statements) 등이 있다. 복합문은 if 문, for lopp 문, while문 등이 있다."
   ]
  },
  {
   "cell_type": "markdown",
   "metadata": {},
   "source": [
    "#### 조건 점검 ; If statements 는 조건을 점검하고 조건이 만족하는 지에 따라 연괸된 stateement 을 수행한다.  \n",
    "if conditions :   \n",
    "&nbsp;&nbsp;&nbsp;    statements  \n",
    "elif conditions:  \n",
    "&nbsp;&nbsp;&nbsp;    statements  \n",
    "else states    \n",
    "  \n",
    "  \n",
    "여러 조건의 논리곱, 논리합, 부정 등은 'and', 'or' 'not' 등을 이용한다.     "
   ]
  },
  {
   "cell_type": "code",
   "execution_count": 4,
   "metadata": {},
   "outputs": [],
   "source": [
    "def if_statement(a,b):\n",
    "    if a > b:\n",
    "        print(\"I'll take a\")\n",
    "    elif a < b: \n",
    "        print(\"I'll take b\")\n",
    "    else: print(\"I'll take a or b\")\n",
    "    return     "
   ]
  },
  {
   "cell_type": "code",
   "execution_count": 5,
   "metadata": {},
   "outputs": [
    {
     "name": "stdout",
     "output_type": "stream",
     "text": [
      "I'll take a or b\n"
     ]
    }
   ],
   "source": [
    "if_statement(4,4)"
   ]
  },
  {
   "cell_type": "markdown",
   "metadata": {},
   "source": [
    "#### 반복(Iterations)\n",
    "Another pattern of control flow is extremely common in programs: executing the same section of code many times. We call this iteration.\n",
    "Some iterations execute a section of code over and over forever, or at least until the program is interrupted or the computer is shut down.   \n",
    "But we'll concentrate on the kind of iteration that executes a section of code as many times as necessary, according to the circumstances, and then stops.\n",
    "\n",
    "파이썬에서 \"iteration\" 구현에는 \"for-statement\" 와 \"while-statement\" 가 지원된다.   \n",
    "\"for-statement loop\" 은 일정 횟수만큼 반복하는 경우에 보통 사용되고, \"while-statement\" 는 조건이 만족할 때까지 계속 반복하는 경우에 사용된다.   \n",
    "\n",
    "#### \" for-statement\"  \n",
    "'for-statement\" 는 일정 횟수만큼 반복하는 경우에 사용되는 데, 형식은 다음과 같다.  \n",
    "&nbsp;&nbsp;&nbsp; for name in expression :   \n",
    "&nbsp;&nbsp;&nbsp;&nbsp;&nbsp;&nbsp; statements\n",
    "\n",
    "&nbsp;  \"expression\" 는 반복될 값을 제공하는 데, 집합, 리스트, 튜플,  'range()' 등의 iterable 등이 해당된다.  "
   ]
  },
  {
   "cell_type": "code",
   "execution_count": 6,
   "metadata": {},
   "outputs": [
    {
     "name": "stdout",
     "output_type": "stream",
     "text": [
      "New York\n",
      "Seouil\n",
      "Tokyo\n"
     ]
    }
   ],
   "source": [
    "A= ('New York', 'Seouil', 'Tokyo' )\n",
    "for a in A:\n",
    "    print(a)"
   ]
  },
  {
   "cell_type": "markdown",
   "metadata": {},
   "source": [
    " 'for-statement' 에서 조건 만족을 점검해야 하는 경우에는 'for-statement' 의 내부문에서 'if-condiiton' 문을 이용하여 조건을 점검하면 된다. "
   ]
  },
  {
   "cell_type": "code",
   "execution_count": 8,
   "metadata": {},
   "outputs": [
    {
     "name": "stdout",
     "output_type": "stream",
     "text": [
      "Seoul\n"
     ]
    }
   ],
   "source": [
    "A= ('New York', 'Seoul', 'Tokyo' , \"SanFransisco\")\n",
    "for a in A :\n",
    "    if a[0]=='S':\n",
    "        print(a)\n",
    "        break"
   ]
  },
  {
   "cell_type": "markdown",
   "metadata": {},
   "source": [
    " ####  조건 점검이 필요한 반복은  'while-statement' 을 사용할 수있다.   \n",
    "&nbsp;&nbsp;&nbsp; while condition :  \n",
    "&nbsp;&nbsp;&nbsp;&nbsp;&nbsp;&nbsp; statements  \n",
    "\n",
    "\n",
    "Its meaning is this: the body of the while-statement is executed over and over\n",
    "until the condition in the header becomes false. Specifically, to execute a whilestatement,\n",
    "the Python interpreter first evaluates the condition. If it is false,\n",
    "control passes immediately to whatever follows the while-statement. Otherwise,\n",
    "the interpreter executes the body and then evaluates the condition again, and\n",
    "so on.   \n",
    "\n",
    "어떤 의미에서, 'while-stastement' 가 'for-statement' 보다 일반적이다. 즉, 'for-statement' 는 모두 'while-stastement' 로 구현이 가능하다.   \n",
    "예를 들어, 상기 'for-statement' 는 다음과 같이, 'while-stastement' 로 구현된다."
   ]
  },
  {
   "cell_type": "code",
   "execution_count": 9,
   "metadata": {},
   "outputs": [
    {
     "name": "stdout",
     "output_type": "stream",
     "text": [
      "New York\n",
      "Seoul\n",
      "Tokyo\n"
     ]
    }
   ],
   "source": [
    "A= ('New York', 'Seoul', 'Tokyo' )\n",
    "i=0\n",
    "while i <len(A):\n",
    "    print(A[i])\n",
    "    i+=1"
   ]
  },
  {
   "cell_type": "markdown",
   "metadata": {},
   "source": [
    "상기 2가지 경우를 비교하여 보면, 'for-statement' 버전이 'iteration mechanism' 은 한줄의 문(statement)으로 '반복' 지정 수행이 가능한 반면. \n",
    "'while-statement' 버전은 3줄의 문(statement)이 필요함을 볼 수있다. 즉, 카운터 i 를 초기화, i 를 하나 더 증가. 반복의 종료를 점검하는 문 (header 부분).   \n",
    "그래서, 'for-statement' 이 'while-statement' 보다 간단하므로, 'for-statement' 를 써서 반복을 해결할 수있으면,\n",
    "특히 조건 점검없이 일정 반복 범위만 반복하는 경우에, 'for-statement' 쓰는 게 좋다.   "
   ]
  },
  {
   "cell_type": "markdown",
   "metadata": {},
   "source": [
    "## 2. Algorithm 설계 절차\n",
    "일반적으로  Algorithm 설계 절차는 다음과 같이 고려된다.     \n",
    "1. 문제의 이해; 문제가 얼마나 어렵고 복잡하고 어려운 지를 파악.  \n",
    "2. 문제 풀이 방향 선택(예; 정확해/근사해, 결정론적해/확률적해)  \n",
    "3. 적절한 알고리즘의 입출력 데이터 및 내부 데이터 구조 및 타입 선택    \n",
    "4. 알고리즘 설계 전략 선택\n",
    "5. 다음이 보장되도록 알고리즘 설계   \n",
    "&nbsp;&nbsp; 1) 일정 계산 스텝수 내에  알고리즘 수행 종료 보장  \n",
    "&nbsp;&nbsp; 2) 각 처리 단계가 정확히 수행될 수있도록  보장  \n",
    "&nbsp;&nbsp; 3) 모든 입력 종류 및 중간 처리 과정에서 발생할 수있는 모든 예외사항들의  경우들을 고려하여 엉뚱한 결과가 발생되지 않도록 보장 \n",
    "&nbsp;&nbsp; 4) 해 존재 유무를 판별하며, 만일 해가 존재하면 정답 출력 보장\n",
    "6. 설계한 알고리즘이 얼마나 많은 공간과 시간을 필요로 하는 지 분석\n",
    "7. 설계한 알고리즘 구현 및 성능 평가(시간, 메모리)\n",
    "8. 문제를 해결하는 다른 구현 알고리즘과의 비교 성능 평가"
   ]
  },
  {
   "cell_type": "markdown",
   "metadata": {},
   "source": [
    "### 알고리즘은 수학적 수식이 존재하는 경우와 수학적 수식은 별도로 없지만 논리적 절차로 해결하는 경우가 있다.   "
   ]
  },
  {
   "cell_type": "markdown",
   "metadata": {},
   "source": [
    "## 3. 수학적 수식 기반 알고리즘의 프로그래밍\n",
    "먼저,  공학수학에서 배웠던 바와 같이, 수학적 수식이 있는 알고리즘의 프로그래밍 방법에 대해 살펴 본다. "
   ]
  },
  {
   "cell_type": "markdown",
   "metadata": {},
   "source": [
    "### 3.1 자연수 n의 제곱근, 즉 $\\sqrt{n}$을 구하는 알고리즘.\n",
    "이를 공학수학에서 배운 Newton 수학적 수식을 이용하여 이를 파이썬 프로그래밍한다.  \n",
    "![Alt Text](newton.png)"
   ]
  },
  {
   "cell_type": "markdown",
   "metadata": {},
   "source": [
    "  자연수 n의 제곱근, 즉 $\\sqrt{n}$을 Newton 방법을 이용하여, 반복적인 방법으로 구하는 알고리즘 작성을 위해서.   \n",
    " $f(x)=x^2 - n $ 으로 하고, $f(x)=0$ 의 근을 Newton 방법으로 구하는 파이썬 함수를 작성해보자.    "
   ]
  },
  {
   "cell_type": "markdown",
   "metadata": {},
   "source": [
    "#### step 1:  문제의 이해; 문제가 얼마나 어렵고 복잡하고 어려운 지를 파악.  \n",
    "자연수 n 의 제곱근을 구하는 문제, 제곱근은 무리수이므로 무한 소수로 값이 주어진다. 무한 소수는 컴퓨터로 나타나기 힘들어서, 소수점 몇째자리까지 표현해야 하는 가를 고려해야 한다. 이는 해를 구하기 위해 언제까지 반복하고 끝내야 하는 가와 관련이 있다. 여기서는 프로그램의 종료를 위한 'tolerance'를 고려한다. \n",
    "\n",
    "#### step 2: 문제 풀이 방향 선택(예; 정확해/근사해, 결정론적해/확률적해)  \n",
    "&nbsp;&nbsp;&nbsp;  Newton 방법을 사용한 deterministic 근사화 해 구하기   \n",
    "\n",
    "#### step 3:  적절한 알고리즘의 입출력 데이터 및 내부 데이터 구조 및 타입 선택    \n",
    "&nbsp;&nbsp;&nbsp;  이 문제의 경우에는 입출력 데이터 및 내부 데이터 타입으로 단순한 실수 변수 정도만 필요  \n",
    "\n",
    "#### step 4: 알고리즘 설계 전략 선택\n",
    "&nbsp;&nbsp;&nbsp; 'while-statement' 를 이용하여 Newton iternation $x_{n+1} = x_n - f(x_n )/f'(x_n) $ 를 수행하다가, $ |x_n | < tolerance $ 인 경우에  'while-statement' 를 빠져나와 그 때까지의 iterated $x_n$  값을 복귀한다. 이를 다음과 같은 pseudo 코드로 작성한다.      \n",
    "   &nbsp;&nbsp;&nbsp;&nbsp;   &nbsp;&nbsp; $ x= x_0 $  /// 초기값 할당 . x_0 은 가급적 해에 가까운 값을 가질 수록 반복 횟수가 줄어든다.  \n",
    "   &nbsp;&nbsp;&nbsp;&nbsp;   whlie  $|x| > tolerance $  \n",
    "   &nbsp;&nbsp;&nbsp;&nbsp;&nbsp;&nbsp;&nbsp; $    x= x- f(x)/f'(x)   $  \n",
    "   &nbsp;&nbsp;&nbsp;&nbsp; $  return x   $   \n",
    "     \n",
    "   \n",
    "#### step 5: 다음이 보장되도록 알고리즘 설계   \n",
    "&nbsp;&nbsp;&nbsp; 1) 일정 계산 스텝수 내에  알고리즘 수행 종료 보장  \n",
    "&nbsp;&nbsp;&nbsp; 2) 각 처리 단계가 정확히 수행될 수있도록  보장  \n",
    "&nbsp;&nbsp;&nbsp; 3) 모든 입력 종류 및 중간 처리 과정에서 발생할 수있는 모든 예외사항들의  경우들을 고려하여 엉뚱한 결과가 발생되지 않도록 보장 \n",
    "&nbsp;&nbsp;&nbsp; 4) 해 존재 유무를 판별하며, 만일 해가 존재하면 정답 출력 보장\n",
    "\n",
    "&nbsp;&nbsp;&nbsp; 1) 일정 계산 스텝수 내에  알고리즘 수행 종료 보장 ;  tolerence 조건을 만족하면 종료된다. 만일 toilearnce 조건이 만족하지 못하는 경우는 무한 루프 반복 가능성이 있으므로,  반복횟수를 제한한다.     \n",
    "&nbsp;&nbsp;&nbsp; 2) 각 처리 단계가 정확히 수행될 수있도록  보장 ; 제대로 종료될 지는 tolerence 조건을 만족하는 경우나, 반복 횟수 제한된 경우이다.   \n",
    "&nbsp;&nbsp;&nbsp; 3) 모든 입력 종류 및 중간 처리 과정에서 발생할 수있는 모든 예외사항들의  경우들을 고려하여 엉뚱한 결과가 발생되지 않도록 보장 ; 각 이터레이션에서 $|x_n|$ 값이 줄어 들지 않는 경우에는 반복 횟수를 제한하여 이를 넘어가는 경우에 루프를 빠져 나오고 해가 없는 것으로 출력값을 제공한다.   \n",
    "\n",
    "&nbsp;&nbsp;&nbsp; 4) 해 존재 유무를 판별하며, 만일 해가 존재하면 정답 출력 보장 ; 각 이터레이션에서 $|x_n|$ 값을 점검하고, 이 값이 tolerance 보다 적으면 반복 루프를 빠져 나와 이때의 값을 해답으로 리턴한다. 만일 상당한 이터레이션이 수행되어도  $|x_n|$ 의 값이 tolerance 이하로 떨어지지 않으면 해가 없는 것으로 리턴한다. 그런데, cost function $f(x)=x^2 - n $ 이 convex function 이므로, Newton 방법은 항상 해를 찾아 준다.  \n",
    "   \n",
    "#### step 6: 설계한 알고리즘이 얼마나 많은 공간과 시간을 필요로 하는 지 분석\n",
    "&nbsp;&nbsp;&nbsp;  분석이 약간 복잡. 추후에 분석하도록 한다.   \n",
    "\n",
    "#### step 7: 설계한 알고리즘 구현 및 성능 평가(시간, 메모리)\n",
    "&nbsp;&nbsp;&nbsp;  상기 pseudo 코드를 참조하여 파이썬 프로그래밍한다. 이 때, default tolerance 는 0.001, default  maximum iteration  은 20 으로 하고, 복귀값은 tolearnce 조건을 만족하여 return 하면 True, 그렇지 않으면 False 를 리턴하며 이때, 반복횟수 및 근사값을 리턴하도록 하도록 프로그래밍한다. (아래 참조).\n",
    "&nbsp;&nbsp;&nbsp; 구현된 알고리즘이 얼마나 시간(스텝수) 및 메모리가 소요되는 지 분석이 필요하다. 여기서는 생략함.\n",
    " \n",
    "#### step 8: 문제를 해결하는 다른 구현 알고리즘과의 성능 평가 비교\n",
    "&nbsp;&nbsp;&nbsp; 다른 알고리즘을 알아야 하므로, 현재로는 성능 평가 비교 힘듬   "
   ]
  },
  {
   "cell_type": "markdown",
   "metadata": {},
   "source": [
    "#### 다음은 앞의 Algorithm 설계 가이드라인에 따라,  설계해본  자연수 n의 제곱근, 즉 $\\sqrt{n}$을 구하는 알고리즘 인 'sqrt2' 함수이다.  "
   ]
  },
  {
   "cell_type": "code",
   "execution_count": 10,
   "metadata": {},
   "outputs": [],
   "source": [
    "def sqrt2(n, tolerance=0.001, max_iter=20):\n",
    "    x_iter =1.0\n",
    "    n_iter = 0\n",
    "    while (abs(x_iter*x_iter-n) > tolerance) and (n_iter < max_iter):\n",
    "        x_iter = x_iter - (x_iter*x_iter-n)/(2*x_iter)        \n",
    "        n_iter += 1\n",
    "        print(\"%d : %1.10f ; %1.10f\" %(n_iter, x_iter , x_iter**2))\n",
    "    if n_iter == max_iter:   \n",
    "         return False, n_iter, x_iter\n",
    "    return True, n_iter, x_iter "
   ]
  },
  {
   "cell_type": "code",
   "execution_count": 11,
   "metadata": {},
   "outputs": [
    {
     "name": "stdout",
     "output_type": "stream",
     "text": [
      "1 : 5.5000000000 ; 30.2500000000\n",
      "2 : 3.6590909091 ; 13.3889462810\n",
      "3 : 3.1960050819 ; 10.2144484834\n",
      "4 : 3.1624556228 ; 10.0011255662\n",
      "5 : 3.1622776652 ; 10.0000000317\n",
      "(True, 5, 3.162277665175675)\n"
     ]
    }
   ],
   "source": [
    "print(sqrt2(10))"
   ]
  },
  {
   "cell_type": "markdown",
   "metadata": {},
   "source": [
    "#### 공학수학에서 배운 sympy 기반의 Newton 방법을 사용하는 풀이 방법에 대해서도  복습해 보자.    "
   ]
  },
  {
   "cell_type": "code",
   "execution_count": 12,
   "metadata": {},
   "outputs": [],
   "source": [
    "def sqrt3(n, tol=0.001, max_iter=20):\n",
    "    %matplotlib inline\n",
    "    import numpy as np\n",
    "    import sympy\n",
    "    import matplotlib.pyplot as plt\n",
    "# define a function, desired tolerance and starting point xk\n",
    "\n",
    "    s_x = sympy.symbols(\"x\")\n",
    "    s_f = s_x*s_x - n\n",
    "\n",
    "    f = lambda x: sympy.lambdify(s_x, s_f, 'numpy')(x)\n",
    "    fp = lambda x: sympy.lambdify(s_x, sympy.diff(s_f, s_x), 'numpy')(x)\n",
    "\n",
    "    lim= n/2 +1.1 \n",
    "    x = np.linspace(-1, lim, 1000)\n",
    "\n",
    "# setup a graph for visualizing the root finding steps\n",
    "    fig, ax = plt.subplots(1, 1, figsize=(12,4))\n",
    "\n",
    "    ax.plot(x, f(x))\n",
    "    ax.axhline(0, ls=':', color='k')\n",
    "\n",
    "# repeat Newton's method until convergence to the desired tolerance has been reached\n",
    "    xk=n/2\n",
    "    while f(xk) > tol:\n",
    "        xk_new = xk - f(xk) / fp(xk)\n",
    "\n",
    "        ax.plot([xk, xk], [0, f(xk)], color='k', ls=':')\n",
    "        ax.plot(xk, f(xk), 'ko')\n",
    "        ax.text(xk, -.5, r'$x_%d$' % n, ha='center')\n",
    "        ax.plot([xk, xk_new], [f(xk), 0], 'k-')\n",
    "\n",
    "        xk = xk_new\n",
    "        n += 1\n",
    "\n",
    "    ax.plot(xk, f(xk), 'r*', markersize=15)\n",
    "    ax.annotate(\"Root approximately at %.3f\" % xk,\n",
    "            fontsize=14, family=\"serif\",\n",
    "            xy=(xk, f(xk)), xycoords='data',\n",
    "            xytext=(-150, +50), textcoords='offset points', \n",
    "            arrowprops=dict(arrowstyle=\"->\", connectionstyle=\"arc3, rad=-.5\"))\n",
    "\n",
    "    ax.set_title(\"Newton's method\")\n",
    "    ax.set_xticks([-1, 0, 1, 2])\n",
    "    fig.tight_layout()\n",
    "    fig.savefig('3week_algorithm-newton.pdf')\n",
    "    return "
   ]
  },
  {
   "cell_type": "code",
   "execution_count": 13,
   "metadata": {},
   "outputs": [
    {
     "data": {
      "image/png": "[encoded data removed]",
      "text/plain": [
       "<Figure size 864x288 with 1 Axes>"
      ]
     },
     "metadata": {
      "needs_background": "light"
     },
     "output_type": "display_data"
    }
   ],
   "source": [
    "sqrt3(10)"
   ]
  },
  {
   "cell_type": "markdown",
   "metadata": {},
   "source": [
    "### 이제, 논리적 절차로 해결하는  알고리즘의 파이썬 프로그래밍 방법에 대해 살펴 본다.\n",
    "본절에서 살펴 볼 알고리즘은 \n",
    "* 1) 최대값 찾기\n",
    "* 2)탐색(Searching)\n",
    "* 3)정렬(Sorting)\n",
    "* 4)최적화(Optimization) ; Greedy Algorithm"
   ]
  },
  {
   "cell_type": "markdown",
   "metadata": {},
   "source": [
    "##  4. 주어진 시퀀스(숫자 또는 문자)에서 최대값을 찾는 파이썬 알고리즘의 예제  \n",
    "주어진 시퀀스( 리스트, 튜플, 집합 등)에서 최대값을 찾는 알고리즘 "
   ]
  },
  {
   "cell_type": "markdown",
   "metadata": {},
   "source": [
    "#### step 1: 문제의 이해; 문제가 얼마나 어렵고 복잡하고 어려운 지를 파악.\n",
    "&nbsp;&nbsp;&nbsp; 리스트에서 최대값 항목을 찾는 문제이다. 리스트 각 항목을 순차적으로 비교하여 최대값을  찾기 때문에 리스트의 크기가 유한하면 반드시 유한번 비교에서 작업은 종료하게 된다. \n",
    "\n",
    "\n",
    "#### step 2: 문제 풀이 방향 선택(예; 정확해/근사해, 결정론적 해/확률적 해)\n",
    "\n",
    "&nbsp;&nbsp;&nbsp; 본 문제는 답이 있다.    \n",
    "\n",
    "\n",
    "#### step 3: 적절한 알고리즘의 입출력 데이터 및 내부 데이터 구조 및 타입 선택  \n",
    "\n",
    "&nbsp;&nbsp;&nbsp;  이 문제의 경우에 입력은 n 개의 정수를 포함하고 이들의 순번을 갖는 시퀀스 구조체를 이용하면 편리하다. 또한 내부에서 최대값으로 지정되는 정수 변수면 충분하다. \n",
    "\n",
    "#### step 4: 알고리즘 설계 전략 선택\n",
    "&nbsp;&nbsp;&nbsp; 리스트의 처음 항목을 최대값으로 지정한 후에, 리스트이 2번째 항목부터 비교하여 현재 최대값으로 지정된 값보다 크면 최대값을 현재값으로 바꾸고 그렇지 않으면 최대값을 변경하지 않는다. 이후 리스트의 마지막 항목까지 같은 작업을 수행한다. 이후 최대값을 리턴한다. \n",
    "&nbsp;&nbsp;&nbsp; 상기 절차를 반영한 pseudo code 는 다음과 같다. \n",
    "![Alt Text](max.png)\n",
    "\n",
    "#### step 5: 다음이 보장되도록 알고리즘 설계 \n",
    "&nbsp;&nbsp;&nbsp; **1) 일정 계산 스텝수 안에  알고리즘 수행 종료 보장**;  상기 알고리즘 리스트의 각 항목을 순차적으로 비교하는 것으로 리스트의 길이안에 비교되어 최대값 항목을 찾는 것으로  해당 알고리즘은 종료되는 것이 보장된다.      \n",
    "&nbsp;&nbsp;&nbsp; **2) 각 처리 단계가 정확히 수행될 수있도록  보장** ; 각 처리 단계는 리스트의 각 항목과 현재 최대값과의 비교하여 크면 최대값을 현재값으로 바꾸고, 크지 않으면 최대값을 변경하지 않는다. 이후 다음 리스트 항목값과의 비교를 리스트 끝까지 수행하는 것이기 때문에 각 단계가 정확히 수행되는 것이 보장된다.     \n",
    "&nbsp;&nbsp;&nbsp; **3) 모든 입력 종류 및 중간 처리 과정에서 발생할 수있는 모든 예외사항들의  경우들을 고려하여 엉뚱한 결과가 발생되지 않도록 보장** ; 중간 처리 과정에서 예외 사항은 없음.    \n",
    "&nbsp;&nbsp;&nbsp; **4) 해 존재 유무를 판별하며, 만일 해가 존재하면 정답 출력 보장** ; 리스트 모든 항목 비교에서 최대값을 찾고 이 최대값을 복귀하므로 확실히 정답을 복귀함, \n",
    "   \n",
    "#### step 6: 설계한 알고리즘이 얼마나 많은 공간과 시간을 필요로 하는 지 분석\n",
    "&nbsp;&nbsp;&nbsp; 최대 리스트의 길이만큼의 비교 스텝수가 필요하며( $O(n)$의 복잡도를 갖음), 알고리즘 처리시에 입력 리스트 및 최대값을 담는 정수값을 담을 공간만 필요함.    \n",
    "\n",
    "#### step step 7: 설계한 알고리즘 구현 및 성능 평가(시간, 메모리)\n",
    "&nbsp;&nbsp;&nbsp;  상기 pseudo 코드를 참조하여 아래와 같이 파이썬 프로그래밍한다. \n",
    " \n",
    "#### step 8: 문제를 해결하는 다른 구현 알고리즘과의 비교 성능 평가\n",
    "&nbsp;&nbsp;&nbsp;  다른 구현 알고리즘 구현 필요. 이후에 비교 가능함  "
   ]
  },
  {
   "cell_type": "code",
   "execution_count": 14,
   "metadata": {},
   "outputs": [],
   "source": [
    "def max1(X):\n",
    "    X=list(X) # X 가 set 인 경우에는 인덱싱이 안되므로 , 리스트 타입으로 변경 \n",
    "    max=X[0]\n",
    "    n=len(X)\n",
    "    for k in range(1,n):\n",
    "        if max < X[k]:\n",
    "            max=X[k]\n",
    "    return max        "
   ]
  },
  {
   "cell_type": "code",
   "execution_count": 15,
   "metadata": {},
   "outputs": [
    {
     "name": "stdout",
     "output_type": "stream",
     "text": [
      " maximun is 9\n"
     ]
    }
   ],
   "source": [
    "X=(3,7,4,2,6,9,8)\n",
    "m_A= max1(X)\n",
    "print(\" maximun is %s\" %m_A)"
   ]
  },
  {
   "cell_type": "code",
   "execution_count": 16,
   "metadata": {},
   "outputs": [],
   "source": [
    "# 상기 최대값 찾는 버전 보다 더 파이썬 스타일로 코딩 \n",
    "def max2(X):    \n",
    "    max=0\n",
    "    for t in X:\n",
    "        if max < t:\n",
    "            max=t\n",
    "    return max          "
   ]
  },
  {
   "cell_type": "code",
   "execution_count": 17,
   "metadata": {},
   "outputs": [
    {
     "name": "stdout",
     "output_type": "stream",
     "text": [
      " maximum is 9\n"
     ]
    }
   ],
   "source": [
    "X={3,7,4,2,6,9,8}\n",
    "m_A= max2(X)\n",
    "print(\" maximum is %s\" %m_A)"
   ]
  },
  {
   "cell_type": "code",
   "execution_count": 19,
   "metadata": {},
   "outputs": [
    {
     "name": "stdout",
     "output_type": "stream",
     "text": [
      " maximum is 9\n"
     ]
    }
   ],
   "source": [
    "X=range(3,10)\n",
    "m_A= max2(X)\n",
    "print(\" maximum is %s\" %m_A)"
   ]
  },
  {
   "cell_type": "markdown",
   "metadata": {},
   "source": [
    "파이썬 내장함수인 'max' 는 주어진 'iterable (list, tuple, set, string 등)' 에 대해 iterbale 요소 중에 최대값을 리턴한다."
   ]
  },
  {
   "cell_type": "code",
   "execution_count": 20,
   "metadata": {},
   "outputs": [
    {
     "data": {
      "text/plain": [
       "9"
      ]
     },
     "execution_count": 20,
     "metadata": {},
     "output_type": "execute_result"
    }
   ],
   "source": [
    "X={3,7,4,2,6,9,8}\n",
    "max(X)"
   ]
  },
  {
   "cell_type": "code",
   "execution_count": 21,
   "metadata": {},
   "outputs": [
    {
     "data": {
      "text/plain": [
       "'Seoul'"
      ]
     },
     "execution_count": 21,
     "metadata": {},
     "output_type": "execute_result"
    }
   ],
   "source": [
    "Y={\"Seoul\", \"Busan\", \"Incheon\"}\n",
    "max(Y)"
   ]
  },
  {
   "cell_type": "code",
   "execution_count": 22,
   "metadata": {},
   "outputs": [
    {
     "data": {
      "text/plain": [
       "'t'"
      ]
     },
     "execution_count": 22,
     "metadata": {},
     "output_type": "execute_result"
    }
   ],
   "source": [
    "Z='qapdcabgertegf'\n",
    "max(Z)"
   ]
  },
  {
   "cell_type": "markdown",
   "metadata": {},
   "source": [
    "## 5.  탐색 ¶\n",
    "탐색(search)은 주어진 자료구조(리스트, 튜플 등)가 어떤 값을 가지고 있는 지, 있으면 어느 위치에 있는 지를 찾는 태스크이다. 본절에서는정렬되지 않은 정수 리스트에서 어떤 정수값을 찾는 알고리즘중 하나인 선형탐색 알고리즘과  정렬된 정수 리스트에서 어떤 정수값을 찾는 알고리즘중 하나인 이진탐색 알고리즘에 대해 살펴 보기로 한다.    "
   ]
  },
  {
   "cell_type": "markdown",
   "metadata": {},
   "source": [
    "### 5.1 선형 탐색 (Linear Search; Sequential Search)\n",
    "주어진 정수 리스트에 찾고자 하는 값 정수 x 가 있는 지, 있으면 리스트의 몇번째인지의 인덱스를, 없으면 '0' 를 리턴하는 탐색이다.  \n",
    "선형탐색의 경우에 대해 논리적 절차로 해결하는 알고리즘의 프로그래밍 방법에 대해 살펴보자.    "
   ]
  },
  {
   "cell_type": "markdown",
   "metadata": {},
   "source": [
    "#### step 1: 문제의 이해; 문제가 얼마나 어렵고 복잡하고 어려운 지를 파악.\n",
    "&nbsp;&nbsp;&nbsp; 탐색하고자 하는 정수를 리스트 처음부터 하나 하나씩 비교하여 해당 값이 있으면 리스트의 해당 위치 인덱스(첫번째는 '1' 로 시작)를 복귀한다. 없으면 '0' 를 리턴하면 되므로 문제는 비교적 단순하다. 그런데, 리스트에 탐색하고자 하는 정수가 여러개 있을 때, 모든 위치 인덱스를 리턴해야 하는 지 아니면, 처음 나타나는 위치 인덱스만을 리턴해야 하는 지에 대해 문제의 취지를 잘 살펴야 한다. 후자의 경우는 단순하지만 전자의 경우는 후자 보다 고려해야 할 사항이 많다. 여기서는 후자 만을 고려하고 전자는 실습에서 풀기로 한다.   \n",
    "\n",
    "\n",
    "#### step 2: 문제 풀이 방향 선택(예; 정확해/근사해, 결정론적 해/확률적 해)\n",
    "\n",
    "&nbsp;&nbsp;&nbsp; 본 문제는 답이 있으면 정확한 해가 구해진다.    \n",
    "\n",
    "\n",
    "#### step 3: 적절한 알고리즘의 입출력 데이터 및 내부 데이터 구조 및 타입 선택  \n",
    "\n",
    "&nbsp;&nbsp;&nbsp;  이 문제의 경우에 입력은 n 개의 정수를 포함하고 이들의 순번을 갖는 시퀀스 구조체를 이용하면 편리하다. 이를 위해, 파이썬에서는 리스트, 튜플, numpy array 등 모두 사용할 수있다.   출력은 위치 인덱스가 하나를 요구하는 문제의 경우에는 정수 변수를 여러개가 가능한 경우는 정수 리스트 또는 정수 튜플이 사용될 수있다. \n",
    "\n",
    "#### step 4: 알고리즘 설계 전략 선택\n",
    "&nbsp;&nbsp;&nbsp; 탐색하고자 하는 정수 리스트의 값을 순차적으로 하나 하나씩 찾고자하는 정수와 비교한다. 같으면 해당 리스트 위치 인덱스를 복귀한다. 만일 리스트 끝까지 비교 작업을 반복한 후에도 리스트에서 찾지 못하면 '0' 를 리턴하고 찾으면 정수 리스트를 복귀한다.   \n",
    "&nbsp;&nbsp;&nbsp; 상기 절차를 반영한 pseudo code 는 다음과 같다. \n",
    "![Alt Text](LinSearch.png)\n",
    "\n",
    "#### step 5: 다음이 보장되도록 알고리즘 설계 \n",
    "&nbsp;&nbsp;&nbsp; **1) 일정 계산 스텝수 안에  알고리즘 수행 종료 보장**;  상기 알고리즘 탐색 과정에서 탐색 리스트의 각 항목이 찾고자 하는 정수값과 비교되는 데, 비교하여 같으면 찾았으므로 리스트의 길이안에 비교되어 종료된다.  탐색 리스트의 모든 항목과의 비교에서 찾지 못하더라도 찾는 값이 없다고 하고 종료된다. 결국 만족되므로 해당 알고리즘은 종료되는 것이 보장된다.      \n",
    "&nbsp;&nbsp;&nbsp; **2) 각 처리 단계가 정확히 수행될 수있도록  보장** ; 각 처리 단계는 리스트의 각 항목과 찾고자하는 정수 값과의 비교이며, 찾으면 종료, 못찾으면 다음 항목과의 비교의 다음 단계로 진행하거나, 리스트 모든 항목 비교가 끝나면 반복 루프를 빠져 나가므로 각 단계가 정확히 수행되는 것이 보장된다.     \n",
    "&nbsp;&nbsp;&nbsp; **3) 모든 입력 종류 및 중간 처리 과정에서 발생할 수있는 모든 예외사항들의  경우들을 고려하여 엉뚱한 결과가 발생되지 않도록 보장** ; 중간 처리 과정에서 예외 사항은 없음.    \n",
    "&nbsp;&nbsp;&nbsp; **4) 해 존재 유무를 판별하며, 만일 해가 존재하면 정답 출력 보장** ; 리스트 모든 항목 비교에서 찾지 못하면 해가 없는 것이며, 찾으면 해가 존재하고 이때의 리스트 해당 항목 인덱스를 복귀하므로 확실히 정답을 복귀함, \n",
    "   \n",
    "#### step 6: 설계한 알고리즘이 얼마나 많은 공간과 시간을 필요로 하는 지 분석\n",
    "&nbsp;&nbsp;&nbsp; 최대 리스트의 길이만큼의 비교 스텝수가 필요하며( $O(n)$의 복잡도를 갖음), 알고리즘 처리시에 입력 리스트 및 찾고자하는 정수값, 비교할 리스트 항목 값을 담을 공간만 필요함.    \n",
    "\n",
    "#### step step 7: 설계한 알고리즘 구현 및 성능 평가(시간, 메모리)\n",
    "&nbsp;&nbsp;&nbsp;  상기 pseudo 코드를 참조하여 아래와 같이 파이썬 프로그래밍한다. \n",
    " \n",
    "#### step 8: 문제를 해결하는 다른 구현 알고리즘과의 비교 성능 평가\n",
    "&nbsp;&nbsp;&nbsp;  다른 구현 알고리즘 구현 필요. 이후에 비교 가능함  "
   ]
  },
  {
   "cell_type": "code",
   "execution_count": 23,
   "metadata": {},
   "outputs": [],
   "source": [
    "def LinearSearch(x, A):      \n",
    "    for (k, item) in enumerate(A):  \n",
    "        if item==x:\n",
    "            return k+1\n",
    "    return 0"
   ]
  },
  {
   "cell_type": "code",
   "execution_count": 24,
   "metadata": {},
   "outputs": [
    {
     "name": "stdout",
     "output_type": "stream",
     "text": [
      "'2' 는 리스트 A=[3, 6, 2, 8, 9, 10, 2] 의  3 번째 위치에 있다.\n"
     ]
    }
   ],
   "source": [
    "A=[3,6,2,8,9,10,2]\n",
    "x=2\n",
    "n=LinearSearch(x, A)\n",
    "print(\"'%d' 는 리스트 A=%s 의  %d 번째 위치에 있다.\" %(x,A, n))"
   ]
  },
  {
   "cell_type": "markdown",
   "metadata": {},
   "source": [
    "### 5.2 이진 탐색 (Binary Search)\n",
    "주어진 정렬된 정수 리스트에 찾고자 하는 값 정수 x 가 있는 지, 있으면 리스트의 몇번째인지의 인덱스를, 없으면 '0' 를 리턴하는 탐색이다."
   ]
  },
  {
   "cell_type": "markdown",
   "metadata": {},
   "source": [
    "이진 탐색(binary search)의 경우에 대해 논리적 절차로 해결하는 알고리즘의 프로그래밍 방법에 대해 살펴보자.    \n",
    "주어진 정렬된 정수 리스트(크기 n)에서 어떤 정수가 존재하는 지, 존재하면 몇번째 위치(1 부터 시작했을 때)에 존재하는 지를 알아 보는 탐색 가운데, 이진탐색은 1) 탐색하고자 하는 정수를 리스트를 균등하게 왼쪽 반, 오른쪽 반으로 2부분으로 나누고, 중간값과 비교한 후에, 만일 작으면 리스트의 왼쪽 반 부분에서,  크면 오른쪽 반 부분에서 탐색하는 데 이러한 과정을 계속 반복하는 것이다. .   \n"
   ]
  },
  {
   "cell_type": "markdown",
   "metadata": {},
   "source": [
    "#### step 1:  문제의 이해; 문제가 얼마나 어렵고 복잡하고 어려운 지를 파악. \n",
    "&nbsp;&nbsp;&nbsp; 정렬된 정수 리스트에서는 리스트이 원소 정수들이 크기가 커지는 순서대로 정렬되어 있으므로, 탐색하고자 하는 정수를 리스트이 처음부터 비교하기 보다는 리스트이 중앙값과 비교하여 중앙값보다 크면 리스트 후반부에, 작으면 리스트 전반부에 위치한다는 사실을 주목한다. \n",
    "&nbsp;&nbsp;&nbsp; 1) 탐색 리스트 구간의 초기화 및 반복 과정에서의 탐색 리스트 구간 재설정, 2) 탐색 리스트 구간에서 중앙값 계산, 3) 반복의 종료 조건 등을 고려해야 한다.  \n",
    "\n",
    "\n",
    "#### step 2: 문제 풀이 방향 선택(예; 정확해/근사해, 결정론적 해/확률적 해)\n",
    "&nbsp;&nbsp;&nbsp; 반복적으로 탐색 리스트를 반으로 줄여 가면서 결국에는 탐색 리스트의 크기가 1 이 될때 까지 해서 해당하는 정수가 최종 리스트에 있는 지, 있으면 원래 리스트에서 몇번째에 위치하는 지를 찾아 내고, 없으면 '-1' 를 복귀하도록 한다. \n",
    "\n",
    "#### step 3: 적절한 알고리즘의 입출력 데이터 및 내부 데이터 구조 및 타입 선택  \n",
    "&nbsp;&nbsp;&nbsp;  이 문제의 경우에는 n 개의 정수를 담는 구조체를 이용하면 편리하다. 이를 위해, 파이썬에서는 리스트, 튜플, numpy array 모두 사용할 수있다.   \n",
    "\n",
    "#### step 4:알고리즘 설계 전략 선택 \n",
    "&nbsp;&nbsp;&nbsp;  1) 탐색하고자 하는 정렬된 정수 리스트를 균등하게 왼쪽 반, 오른쪽 반으로 2부분으로 나누고, 중앙값과 비교한다. \n",
    "&nbsp;&nbsp;&nbsp;  2) 같으면 찾았으므로 이 중앙값의 위치를 복귀하고 종료하며, 만일 작으면 리스트의 왼쪽 반 부분을, 크면 오른쪽 반 부분을 새로운 탐색 리스트로 한다.  \n",
    "&nbsp;&nbsp;&nbsp;  3) 이러한 과정을 탐색 리스트의 크기가 1이 될때까지 한다. \n",
    "&nbsp;&nbsp;&nbsp;  4) 최종 크기 1의 스트의 정수가 해당 탐색 정수와 같으면, 원래 정수 리스트에서의 위치를 없으면 -1 를 복귀하고 종료한다. \n",
    "\n",
    "\n",
    "&nbsp;&nbsp;&nbsp; 상기 절차를 반영한 pseudo code 는 다음과 같다. \n",
    "![Alt Text](BinSearch.png)\n",
    "\n",
    "#### step 5: 다음이 보장되도록 알고리즘 설계 \n",
    "&nbsp;&nbsp;&nbsp; **1) 일정 계산 스텝수 안에  알고리즘 수행 종료 보장**;    탐색 과정에서 탐색 리스트이 중앙값과 비교되는 데, 비교하여 같으면 찾았으므로 종료되고, 중간 과정에서의 탐색 리스트의 중앙값과의 비교에서 찾지 못하더라도, 탐색 리스트 크기가 1이 되면 이때에는 이때 탐색 리스트의 정수와 탐색하고자 하는 정수와 비교하여 찾거나 없다고 판단되면  종료된다. 이 경우는 결국 만족되므로 종료되는 것은 보장된다.       \n",
    "&nbsp;&nbsp;&nbsp; **2) 각 처리 단계가 정확히 수행될 수있도록  보장** ; 종료시에 탐색하는 정수의 위치가 복귀되거나 -1 이 복귀되면서 정상적으로 수행되도록 보장한다. \n",
    "&nbsp;&nbsp;&nbsp; **3) 모든 입력 종류 및 중간 처리 과정에서 발생할 수있는 모든 예외사항들의  경우들을 고려하여 엉뚱한 결과가 발생되지 않도록 보장** ; 중간 처리 과정에서 예외 사항은 없음.    \n",
    "&nbsp;&nbsp;&nbsp; **4) 해 존재 유무를 판별하며, 만일 해가 존재하면 정답 출력 보장** ; 해가 존재하면 반드시 리스트 해당 항목 인덱스를 복귀하거나 해가 없으면 -1 이 복귀되므로 항상 바른 결과를 보장한다. \n",
    "   \n",
    "#### step 6: 설계한 알고리즘이 얼마나 많은 공간과 시간을 필요로 하는 지 분석\n",
    "&nbsp;&nbsp;&nbsp;   탐색 구간이 1/2 로 줄어들어 크기가 1이 되게 되면 반드시 종료되므로, $n=2^k % --> $k=log2 (n)$ . 따라서, $O(log2 n)$의 복잡도를 갖는다. \n",
    "\n",
    "#### step step 7: 설계한 알고리즘 구현 및 성능 평가(시간, 메모리)\n",
    " &nbsp;&nbsp;&nbsp;  상기 pseudo 코드를 참조하여 아래와 같이 파이썬 프로그래밍한다. \n",
    " \n",
    "#### step 8: 문제를 해결하는 다른 구현 알고리즘과의 비교 성능 평가\n",
    "&nbsp;&nbsp;&nbsp;  다른 구현 알고리즘 구현 필요. 이후에 비교 가능함   "
   ]
  },
  {
   "cell_type": "code",
   "execution_count": 25,
   "metadata": {},
   "outputs": [],
   "source": [
    "def binarysearch(A,num): #function definition with its parameters 'a' is the inputlist\n",
    "                         #and 'num' number to be found\n",
    "\n",
    "    first=0 #initially the first position is zero\n",
    "    last=len(A)-1 #initially the last position is the total length of the inputlist-1\n",
    "    found=False #boolean value to indicate if the number to be searched is found or not.\n",
    "\n",
    "    while first<=last and not found:\n",
    "        midpoint=(first+last)//2 #dividing the inputlist into two halves and comparing the number to be found with the midpoint.\n",
    "\n",
    "        if A[midpoint]==num: #If the number to be found is equal to the midpoint returns the position.\n",
    "            found=True\n",
    "        else:\n",
    "            if num<A[midpoint]: #if the number to be found is less than the midpoint\n",
    "                                #then the first half of the divided input list is taken for further computation.\n",
    "\n",
    "                last=midpoint-1 #by assigning the last number of the first half(number before the midpoint) to the variable last.\n",
    "\n",
    "\n",
    "            else:\n",
    "                first=midpoint+1 #if the number to be found is greater than the midpoint\n",
    "                                 #then the second half of the divided input list is taken for further computation.\n",
    "                                #by assigning the first number of the second half(number following the midpoint) to the variable first.\n",
    "    if midpoint < len(A) and found:\n",
    "          return midpoint #returns the position of the number found in the list. \n",
    "    else:\n",
    "          return -1"
   ]
  },
  {
   "cell_type": "code",
   "execution_count": 26,
   "metadata": {},
   "outputs": [
    {
     "data": {
      "text/plain": [
       "9"
      ]
     },
     "execution_count": 26,
     "metadata": {},
     "output_type": "execute_result"
    }
   ],
   "source": [
    "numlist=[1, 23, 5, 6, 7, 8, 10, 12, 13, 15, 16, 18, 19, 20, 22] #List of inputs\n",
    "binarysearch(numlist, 15)"
   ]
  },
  {
   "cell_type": "markdown",
   "metadata": {},
   "source": [
    "## 6. 정렬(Sorting)"
   ]
  },
  {
   "cell_type": "markdown",
   "metadata": {},
   "source": [
    "리스트의 요소들을 정렬하는 것은 그것들을 증가하는 순서 (숫자 순서, 알파벳 순서 등)로 배치하는 것을 말한다.  \n",
    "정렬은 다음과 같은 이유로 중요한 문제입니다.   \n",
    "* 모든 컴퓨팅 리소스의 적지 않은 비율이 다양한 종류의 목록, 특히 특정 순서 (예 : 고객, 부품 번호 등)로 제시해야하는 대규모 정보 데이터베이스가 포함 된 응용 프로그램을 정렬하는 데 사용된다.  \n",
    "* 정렬을 위해 놀랍게도 근본적으로 다른 수많은 알고리즘이 발명되었고, 그들의 상대적 장점과 단점은 광범위하게 연구되었다. 정렬 알고리즘은 컴퓨터 과학의 기본 개념을 설명하는 데 유용하다.  \n",
    "\n",
    "binary, insertion, bubble, selection, merge, quick, and tournament 등 다양한 정렬 알고리즘이 있다. "
   ]
  },
  {
   "cell_type": "markdown",
   "metadata": {},
   "source": [
    "### 6.1 Bubble Sort"
   ]
  },
  {
   "cell_type": "markdown",
   "metadata": {},
   "source": [
    "버블 정렬은 가장 간단한 정렬 알고리즘 중 하나이지만 가장 효율적인 정렬 알고리즘은 아니다.  \n",
    "기본 아이디어는 인접한 것을 연속적으로 비교하여 목록을 증가하는 순서로 넣는 데, 순서가 잘못된 경우 교환한다. 이 같은 절차를 정렬이 완료될 때까지 반복한다. 다음 그림은 버블 정렬의 단계를 보여 준다. \n",
    "![Alttext](BubbleSort_Steps.PNG)"
   ]
  },
  {
   "cell_type": "markdown",
   "metadata": {},
   "source": [
    "다음은 상기 버블 정렬 단계를 반영하여 작성한 버블정렬의 pseucode 를 보여준다. \n",
    "![Alttext](BubbleSort.PNG)"
   ]
  },
  {
   "cell_type": "code",
   "execution_count": 27,
   "metadata": {},
   "outputs": [],
   "source": [
    "#To perform bubble sort\n",
    "def sort_bubble(inputlist):\n",
    "    for i in range(0,len(inputlist)-1):\n",
    "         for j in range(0,len(inputlist)-i-1):\n",
    "                 if inputlist[j]> inputlist[j+1]:\n",
    "                    inputlist[j], inputlist[j+1]= inputlist[j+1], inputlist[j]    \n",
    "\n",
    "    return inputlist"
   ]
  },
  {
   "cell_type": "code",
   "execution_count": 28,
   "metadata": {},
   "outputs": [
    {
     "data": {
      "text/plain": [
       "[1, 2, 2, 3, 3, 4, 5, 7, 8]"
      ]
     },
     "execution_count": 28,
     "metadata": {},
     "output_type": "execute_result"
    }
   ],
   "source": [
    "inputlist = [7,2,4,3,2,1,3,5,8]\n",
    "sort_bubble(inputlist)"
   ]
  },
  {
   "cell_type": "markdown",
   "metadata": {},
   "source": [
    "### 6.3 파이썬 에서의 정렬 함수 및 리스트의 정렬 메소드 \n",
    "파이썬에는 sorting 에 관한 built-in 함수 'sorted()' 와  숫자 list 에 'sort()' 함수가 지원된다. 또한, numpy array 에도 'sort()' 함수가 지원된다."
   ]
  },
  {
   "cell_type": "code",
   "execution_count": 29,
   "metadata": {},
   "outputs": [
    {
     "data": {
      "text/plain": [
       "[1, 5, 6, 7, 8, 10, 12, 13, 15, 16, 18, 19, 20, 22, 23]"
      ]
     },
     "execution_count": 29,
     "metadata": {},
     "output_type": "execute_result"
    }
   ],
   "source": [
    "numlist=[1, 23, 5, 6, 7, 8, 10, 12, 13, 15, 16, 18, 19, 20, 22]\n",
    "sorted(numlist)"
   ]
  },
  {
   "cell_type": "code",
   "execution_count": 30,
   "metadata": {},
   "outputs": [
    {
     "data": {
      "text/plain": [
       "[1, 5, 6, 7, 8, 10, 12, 13, 15, 16, 18, 19, 20, 22, 23]"
      ]
     },
     "execution_count": 30,
     "metadata": {},
     "output_type": "execute_result"
    }
   ],
   "source": [
    "numlist=[1, 23, 5, 6, 7, 8, 10, 12, 13, 15, 16, 18, 19, 20, 22]\n",
    "numlist.sort()\n",
    "numlist"
   ]
  },
  {
   "cell_type": "code",
   "execution_count": 31,
   "metadata": {},
   "outputs": [
    {
     "data": {
      "text/plain": [
       "array([1, 2, 3, 4, 5, 9])"
      ]
     },
     "execution_count": 31,
     "metadata": {},
     "output_type": "execute_result"
    }
   ],
   "source": [
    "import numpy as np\n",
    "z=np.array([5,3,4,9,1,2])\n",
    "z.sort()\n",
    "z"
   ]
  },
  {
   "cell_type": "markdown",
   "metadata": {},
   "source": [
    "내림차순으로 정렬하고자 하는 경우에는, 먼저 'soring ' 한 후에, 숫자 배열을 거꾸로 배치하는 built-in 함수 'reversed()', 숫자 list 에서의 'reverse()' 함수, numpy array 의 'reverse()' 함수 등을 이용하면 된다."
   ]
  },
  {
   "cell_type": "code",
   "execution_count": 32,
   "metadata": {},
   "outputs": [
    {
     "data": {
      "text/plain": [
       "[23, 22, 20, 19, 18, 16, 15, 13, 12, 10, 8, 7, 6, 5, 1]"
      ]
     },
     "execution_count": 32,
     "metadata": {},
     "output_type": "execute_result"
    }
   ],
   "source": [
    "z=[1, 23, 5, 6, 7, 8, 10, 12, 13, 15, 16, 18, 19, 20, 22]\n",
    "z.sort()\n",
    "z.reverse()\n",
    "z"
   ]
  },
  {
   "cell_type": "code",
   "execution_count": 33,
   "metadata": {},
   "outputs": [
    {
     "data": {
      "text/plain": [
       "[23, 22, 20, 19, 18, 16, 15, 13, 12, 10, 8, 7, 6, 5, 1]"
      ]
     },
     "execution_count": 33,
     "metadata": {},
     "output_type": "execute_result"
    }
   ],
   "source": [
    "z=[1, 23, 5, 6, 7, 8, 10, 12, 13, 15, 16, 18, 19, 20, 22]\n",
    "y=sorted(z)\n",
    "q=list(reversed(y))\n",
    "q"
   ]
  },
  {
   "cell_type": "markdown",
   "metadata": {},
   "source": [
    "## 7. String Matching"
   ]
  },
  {
   "cell_type": "markdown",
   "metadata": {},
   "source": [
    "텍스트에 스트링 패턴이 있는 지를 알아 보는 문제를 스트링 매칭이라 한다. 이는 컴퓨터 분야에서 많이 존재한다. 예를 들어, 웹페이지에서 어떤 키워드가 존재하는 지를 알아보고자 하는 경우말이다. 다음 알고리즘은 텍스트 (t)에 스트링 패턴 (p) 아 어디에 나타나는 지를 조사하는 알고리즘이다. "
   ]
  },
  {
   "cell_type": "code",
   "execution_count": 34,
   "metadata": {},
   "outputs": [],
   "source": [
    "def string_match(p, t):\n",
    "    n=len(t)\n",
    "    m=len(p)\n",
    "    for s in range(n-m+1):\n",
    "        j=0\n",
    "        while (j < m) and ( t[s+j]==p[j]):\n",
    "            j+=1\n",
    "       \n",
    "        if j > m-1:\n",
    "            print(\"matching from %d to %d\"  %(s+1, s+m))         "
   ]
  },
  {
   "cell_type": "code",
   "execution_count": 35,
   "metadata": {},
   "outputs": [
    {
     "name": "stdout",
     "output_type": "stream",
     "text": [
      "matching from 3 to 5\n",
      "matching from 5 to 7\n",
      "matching from 7 to 9\n",
      "matching from 13 to 15\n"
     ]
    }
   ],
   "source": [
    "p=\"eye\"\n",
    "t=\"eceyeyeyetwqeye\"\n",
    "string_match(p,t)"
   ]
  },
  {
   "cell_type": "markdown",
   "metadata": {},
   "source": [
    "## 8. 최적화(Optimization) ; Greedy Algorithm (탐욕 알고리즘)"
   ]
  },
  {
   "cell_type": "markdown",
   "metadata": {},
   "source": [
    "이산수학에서 공부할 많은 알고리즘은 최적화 문제를 해결하도록 설계되었습니다.\n",
    "이러한 문제의 목표는 주어진 문제에 대한 일부 매개 변수를 최대화하거나 최소화하는 것입니다.\n",
    "일부 매개 변수의 값을 최대화합니다. 예를 들어, 두 도시간의 최단 경로를 찾는 문제가 바로 최적화 문제입니다. \n",
    "최적화 해를 구하는 방법은 미래에 끼칠 영향까지 고려하여 결과적인 비용을 최소화하도록 현재의 선택을 결정하는 것입니다.  \n",
    "그러나, 놀랍게도 가장 간단한 방법 중 하나는 모든 시퀀스를 고려하는 대신 각 단계에서 최선의 선택을 하는 것입니다. 각 단게에서의 최선의 선택을 하는 전략을 탐욕 알고리즘이라고합니다. 물론 각 단계에서의 최선의 선택이 최종적으로 최선의 선택을 보장하지는 않습니다. 예를 들어, 꼭 구매가 필요한 어떤 물건(예; 비누)의 다양한 상품 중에 현재 가장 싼 상품(모 회사 제품)을 구입하는 전략이 결과적으로 최선의 전략이 아닐 수도 잇는 것처럼 말입니다. 그러나, 어떤 최적화 문제에서는 각 단계에서의 최선 선택 전략이 매우 유효할 수 있습니다.   \n",
    "다음은 Greedy algorithm 예로, 25 센트(quarter), 10센트(dime), 5센트(nickel), 1센트(penny) 등의 동전으로 잔금을 지불해 줄 때, 최소 동전 숫자로 지불해 주는 다음의 탐욕 알고리즘을 고려합니다.\n",
    "####  Cashier's algorithm \n",
    "거스름돈을 25 센트 동전 (quarter), 10센트 동전 (dime), 5센트 동전(nickle), 1 센트 동전 (penny) 로 주는 데,  전체적으로 동전 개수를 최소화하도록 하는 알고리즘   \n",
    "![Alttext](change.png)"
   ]
  },
  {
   "cell_type": "code",
   "execution_count": 36,
   "metadata": {},
   "outputs": [],
   "source": [
    "def change(c, n):\n",
    "    c.sort()\n",
    "    c.reverse()\n",
    "\n",
    "    d=[0]*len(c)\n",
    "    \n",
    "    for k in range (len(c)):\n",
    "        while n >= c[k]:\n",
    "            d[k]+=1\n",
    "            n-=c[k]        \n",
    "        print(\"The number of %d cent coin : %d\" %(c[k], d[k]) )            "
   ]
  },
  {
   "cell_type": "code",
   "execution_count": 37,
   "metadata": {},
   "outputs": [
    {
     "name": "stdout",
     "output_type": "stream",
     "text": [
      "The number of 25 cent coin : 6\n",
      "The number of 10 cent coin : 1\n",
      "The number of 5 cent coin : 1\n",
      "The number of 1 cent coin : 2\n"
     ]
    }
   ],
   "source": [
    "c=[10,1,5, 25]\n",
    "n=167\n",
    "change(c,n)"
   ]
  },
  {
   "cell_type": "markdown",
   "metadata": {},
   "source": []
  },
  {
   "cell_type": "markdown",
   "metadata": {},
   "source": []
  },
  {
   "cell_type": "markdown",
   "metadata": {},
   "source": [
    "# 실습      "
   ]
  },
  {
   "cell_type": "markdown",
   "metadata": {},
   "source": [
    "## 실습 1.  주어진 정수 리스트 에서 가장 큰 정수가 마지막으로 나타나는 위치를 찾기 \n",
    "### (리스트의 원소인 정수들이 서로 다를 필요는 없다.)        \n",
    "\n",
    "주어진 정수 리스트(예; $X=[4,7,9,2,4,9,5,6,7,9,4, 6]$)  \n",
    "에서 최대값을 찾고 이 최대값(max)이 마지막으로 나오는 리스트의 위치(i)를 찾아 ( 리스트 의 원소 위치는 1 부터 시작하는 것으로 한다.)\n",
    "콘솔 출력으로 \"최대값  max  은(는) 마지막으로 리스트의 i 번째에 위치한다.\" 가 출력되도록 파이썬 코딩하시오.\n",
    "(예 리스트 $X=[4,7,9,2,4,9,5,6,7,9,4, 6]$ 의 경우, \"최대값  9  은(는) 마지막으로 리스트의 10 번째에 위치한다.\" 로 출력됨)"
   ]
  },
  {
   "cell_type": "code",
   "execution_count": 39,
   "metadata": {},
   "outputs": [],
   "source": [
    "def findLastMaxIndex(x):\n",
    "    lastMax=float('-inf')\n",
    "    for i in range(len(x)):\n",
    "        if lastMax<=x[i]:\n",
    "            lastMaxIndex=i\n",
    "    return i"
   ]
  },
  {
   "cell_type": "code",
   "execution_count": 40,
   "metadata": {},
   "outputs": [
    {
     "data": {
      "text/plain": [
       "11"
      ]
     },
     "execution_count": 40,
     "metadata": {},
     "output_type": "execute_result"
    }
   ],
   "source": [
    "x=[4,7,9,2,4,9,5,6,7,9,4,6]\n",
    "findLastMaxIndex(x)"
   ]
  },
  {
   "cell_type": "markdown",
   "metadata": {},
   "source": [
    "## 실습 2.   정수 리스트를  난수발생기로 부터 만들어서 최대값이 마지막으로 나오는 위치 찾기 \n",
    "0 에서 15 까지의 정수를 난수 발생기로 20개 생성하여 만든 정수 리스트에서 에서 최대값을 찾고 이 최대값(max)이 마지막으로 나오는 리스트의 위치(i)를 찾아 ( 리스트 의 원소 위치는 1 부터 시작하는 것으로 한다),     \n",
    "1) 먼저, 난수 발생기로 생성된 20개 정수 리스트를 콘솔 출력하고  \n",
    "2) \"최대값  max  은(는) 마지막으로 리스트의 i 번째에 위치한다.\" 이 콘솔 출력되도록 파이썬 코딩하여 보시오."
   ]
  },
  {
   "cell_type": "code",
   "execution_count": 44,
   "metadata": {},
   "outputs": [
    {
     "name": "stdout",
     "output_type": "stream",
     "text": [
      "[12, 4, 3, 3, 2, 14, 9, 10, 10, 5, 8, 8, 14, 12, 7, 1, 1, 1, 11, 10]\n"
     ]
    },
    {
     "data": {
      "text/plain": [
       "11"
      ]
     },
     "execution_count": 44,
     "metadata": {},
     "output_type": "execute_result"
    }
   ],
   "source": [
    "import random\n",
    "def randlist():\n",
    "    x=[]\n",
    "    for i in range(20):\n",
    "        x.append(random.randint(0,15))\n",
    "    return x\n",
    "a=randlist()\n",
    "print(a)\n",
    "findLastMaxIndex(x)"
   ]
  },
  {
   "cell_type": "markdown",
   "metadata": {},
   "source": [
    "## 실습 3.   주어진 정수 리스트에서  최대값이 나오는 모든 위치 찾기 \n",
    "주어진 정수 리스트에서 최대값의 모든 위치를 찾는 파이썬 함수를 코딩하고 이를 이용하여, 주어진 리스트 $[4,7,9,2,4,9,5,6,7,9,4, 6]$ 에 적용하여 보시오. "
   ]
  },
  {
   "cell_type": "code",
   "execution_count": 47,
   "metadata": {},
   "outputs": [
    {
     "name": "stdout",
     "output_type": "stream",
     "text": [
      "최대값  9 는 리스트의 [2, 6, 10] 번째에 위치한다\n"
     ]
    }
   ],
   "source": [
    "x=  [4,7,9,2,4,9,5,6,7,9,4,6]\n",
    "\n",
    "def maxwhere(x):\n",
    "    lastMax=float('-inf')\n",
    "    indexList=[]\n",
    "    for i in range(len(x)):\n",
    "        if lastMax>x[i]:\n",
    "            next\n",
    "        elif lastMax==x[i]:\n",
    "            lastMax=x[i]\n",
    "            indexList.append(i+1)\n",
    "        else:\n",
    "            lastMax=x[i]\n",
    "            indexList=[i]\n",
    "    return lastMax,indexList\n",
    "a,b=maxwhere(x)\n",
    "print(\"최대값 \",a,\"는 리스트의\", b, \"번째에 위치한다\")"
   ]
  },
  {
   "cell_type": "markdown",
   "metadata": {},
   "source": [
    "## 실습 4. Insertion Sort (삽입 정렬)\n",
    "삽입 정렬은 간단한 정렬 알고리즘이지만 일반적으로 가장 효율적인 것은 아니다. n 개의 요소로 목록을 정렬하려면 삽입 정렬은 두번째 요소부터 시작한다. 삽입 정렬은이 두번째 요소를 첫번째 요소와 비교하여 첫번째 요소를 초과하지 않으면 첫번째 요소 앞에, 첫번째 요소를 초과하면 첫번째 요소 뒤에 배치한다. 이 시점에서 처음 두 요소는 올바른 순서이다. 다음, 세번째 요소는 정렬된 2개 욧 중 첫번째 요소와 비교하여큰 경우에는 제 2 요소와 비교되여 해당 위치에 삽입한다. 이 시점에서 처음 3개 요소 들은 올바르게 배치된다. 다음은 이에 대한 pseudo code 이다.   \n",
    "![Alt Text](InsertionSort.png)"
   ]
  },
  {
   "cell_type": "markdown",
   "metadata": {},
   "source": [
    "상기 삽입정렬에 대한 pseudo code 를 참조하여 삽입정렬 함수를 파이썬 코딩하시오. 코딩된 삽입정렬 함수를 이용하여 0 에서 15 까지의 정수를 난수 발생기로 20개 생성하여 만든 정수 리스트를 정렬하도록 하는 파이썬 코드를 작성하시오, "
   ]
  },
  {
   "cell_type": "code",
   "execution_count": 48,
   "metadata": {},
   "outputs": [
    {
     "name": "stdout",
     "output_type": "stream",
     "text": [
      "[5, 7, 13, 7, 8, 2, 5, 5, 6, 12, 0, 4, 14, 8, 1, 8, 0, 3, 5, 5]\n",
      "[0, 0, 1, 2, 3, 4, 5, 5, 5, 5, 5, 6, 7, 7, 8, 8, 8, 12, 13, 14]\n"
     ]
    }
   ],
   "source": [
    "import random\n",
    "def randlist():\n",
    "    x=[]\n",
    "    for i in range(20):\n",
    "        x.append(random.randint(0,15))\n",
    "    return x\n",
    "\n",
    "def insertion_sort(x):\n",
    "    for index in range(1, len(x)):\n",
    "        while 0 < index and x[index] < x[index - 1]: \n",
    "            x[index], x[index - 1] = x[index - 1], x[index]\n",
    "            index -= 1\n",
    "    return x\n",
    "x=randlist()\n",
    "print(x)\n",
    "y=insertion_sort(x)\n",
    "print(y)"
   ]
  }
 ],
 "metadata": {
  "kernelspec": {
   "display_name": "Python 3",
   "language": "python",
   "name": "python3"
  },
  "language_info": {
   "codemirror_mode": {
    "name": "ipython",
    "version": 3
   },
   "file_extension": ".py",
   "mimetype": "text/x-python",
   "name": "python",
   "nbconvert_exporter": "python",
   "pygments_lexer": "ipython3",
   "version": "3.7.4"
  }
 },
 "nbformat": 4,
 "nbformat_minor": 2
}
