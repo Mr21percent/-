{
 "cells": [
  {
   "cell_type": "markdown",
   "metadata": {},
   "source": [
    "## Chapter 08: Advanced Counting\n",
    "복잡한 카운팅 문제는 단지 순열, 조합 이나 간단히 카운팅 원리(예; pigeonhole 원리)로 해결하기 힘들다.   \n",
    "이러한 복잡한 카운팅 문제에서 점화식이 발견되면 재귀적 알고리즘으로 해결할 수있다, 본 실습에서는 점화식(재귀식)으로 기술되는 카운팅 문제 해결을 파이썬 코딩으로 풀어 내는 것을 실습한다.   "
   ]
  },
  {
   "cell_type": "markdown",
   "metadata": {},
   "source": [
    "이번 실습에서는 파이썬의 객체지향 프로그래밍 방식을 활용한다. 파이썬은 클래스를 지원하는 데, 클래스는 데이터(프로퍼티)와 이를 조작하는 함수(메소드)를 함께 묶어 놓은 데이터 타입이다. 클래스는 형틀로 볼 수있는 데, 이 형틀로부터 실체화되어 생성되는 것을 (클래스)객체(class object)라 한다. \n",
    "클래스를 정의하는 구문은 아래를 참조한다. "
   ]
  },
  {
   "cell_type": "code",
   "execution_count": 1,
   "metadata": {},
   "outputs": [
    {
     "name": "stdout",
     "output_type": "stream",
     "text": [
      "Hello, Fred\n",
      "HELLO, FRED!\n"
     ]
    }
   ],
   "source": [
    "class Greeter:\n",
    "\n",
    "    # Constructor\n",
    "    def __init__(self, name):\n",
    "        self.name = name  # Create an instance variable\n",
    "\n",
    "    # Instance method\n",
    "    def greet(self, loud=False):\n",
    "        if loud:\n",
    "            print ('HELLO, %s!' % self.name.upper())\n",
    "        else:\n",
    "            print ( 'Hello, %s' % self.name )\n",
    "\n",
    "g = Greeter('Fred')  # Construct an instance of the Greeter class\n",
    "g.greet()            # Call an instance method; prints \"Hello, Fred\"\n",
    "g.greet(loud=True)   # Call an instance method; prints \"HELLO, FRED!\""
   ]
  },
  {
   "cell_type": "markdown",
   "metadata": {},
   "source": [
    "상기 클래스 정의에서 알 수있듯이, 클래스로부터 객체가 생성될 때 불리워지는 생성자(constructor)는  $def ~~__init__(self, initializing argument):$ 등으로 구현된다. 이때, $self$ 는 생성되는 객체를 가리킨다. "
   ]
  },
  {
   "cell_type": "markdown",
   "metadata": {},
   "source": [
    "### 다음은 교과서 8.1절 example 1 에서 다루는 \"The Fibonacci  Numbers\"  문제의 해결의 파이썬 코딩 구현을 생각하여 보자.  \n",
    "이전 실습에서도 살펴 보았듯이, 피보나치 수열은 'n' 일 때( 'n'번째 달 에) 피보나치 수의 값(예; n 번째 달의 토끼 쌍의 수)를 $F(n)$ 이라 하면 다음의 점화식(재귀식)을 만족한다.      \n",
    "$~~~~~~~~~~F(n)=F(n-1)+F(n-2) ~~~with ~~ F(1)=1 ~and ~ F(2)=1$   \n",
    "<br/>이를 수학적으로 풀면 다음과 같다(풀이 방법은 교과서 8.2절 참조).   \n",
    "\n",
    "$~~~~~~~~~~F(n)=\\frac{1}{\\sqrt5} ( \\frac{1+\\sqrt5}{2})^n -\\frac{1}{\\sqrt5} ( \\frac{1-\\sqrt5}{2})^n ~~~ for~~ n \\geq  1$   "
   ]
  },
  {
   "cell_type": "markdown",
   "metadata": {},
   "source": [
    "#### 상기 재귀식으로 코딩되는 피보나츠 수의 파이썬 코드는 이전 실습에서도 살펴 보았듯이 다음과 같다."
   ]
  },
  {
   "cell_type": "code",
   "execution_count": 2,
   "metadata": {},
   "outputs": [],
   "source": [
    "def F(n):\n",
    "    global add_counting\n",
    "    if n<= 1 :\n",
    "        return n\n",
    "    else:\n",
    "        add_counting+=1      \n",
    "        return F(n-1)+F(n-2)"
   ]
  },
  {
   "cell_type": "code",
   "execution_count": 3,
   "metadata": {},
   "outputs": [
    {
     "name": "stdout",
     "output_type": "stream",
     "text": [
      "total numbers of add operation in F(1)=1 is 0\n",
      "total numbers of add operation in F(2)=1 is 1\n",
      "total numbers of add operation in F(3)=2 is 2\n",
      "total numbers of add operation in F(4)=3 is 4\n",
      "total numbers of add operation in F(5)=5 is 7\n",
      "total numbers of add operation in F(6)=8 is 12\n",
      "total numbers of add operation in F(7)=13 is 20\n",
      "total numbers of add operation in F(8)=21 is 33\n",
      "total numbers of add operation in F(9)=34 is 54\n",
      "total numbers of add operation in F(10)=55 is 88\n",
      "total numbers of add operation in F(11)=89 is 143\n",
      "total numbers of add operation in F(12)=144 is 232\n",
      "total numbers of add operation in F(13)=233 is 376\n",
      "total numbers of add operation in F(14)=377 is 609\n",
      "total numbers of add operation in F(15)=610 is 986\n"
     ]
    }
   ],
   "source": [
    "n=15\n",
    "for i in range(1,n+1):\n",
    "    add_counting=0\n",
    "    print('total numbers of add operation in F(%d)=%d is %d' %(i, F(i), add_counting))"
   ]
  },
  {
   "cell_type": "markdown",
   "metadata": {},
   "source": [
    "**상기 피보나치 수의 재귀적 알고리즘 구현에서 더하기 오퍼레이션은 $O(n)$ 이다.**"
   ]
  },
  {
   "cell_type": "markdown",
   "metadata": {},
   "source": [
    "#### 상기 피보나츠 수의 재귀식을 반복적 파이썬 알고리즘으로 구현하면 다음과 같다. "
   ]
  },
  {
   "cell_type": "code",
   "execution_count": 4,
   "metadata": {},
   "outputs": [],
   "source": [
    "def F1(n):\n",
    "    global add_counting\n",
    "    if n<1:\n",
    "        print(\"Please take n an interger greater than 0\")\n",
    "    a=0\n",
    "    b=1\n",
    "    for i in range(1,n):\n",
    "        add_counting+=1\n",
    "        b,a=a+b, b\n",
    "    return b"
   ]
  },
  {
   "cell_type": "code",
   "execution_count": 5,
   "metadata": {},
   "outputs": [
    {
     "name": "stdout",
     "output_type": "stream",
     "text": [
      "total numbers of add operation in F1(1)=1 is 0\n",
      "total numbers of add operation in F1(2)=1 is 1\n",
      "total numbers of add operation in F1(3)=2 is 2\n",
      "total numbers of add operation in F1(4)=3 is 3\n",
      "total numbers of add operation in F1(5)=5 is 4\n",
      "total numbers of add operation in F1(6)=8 is 5\n",
      "total numbers of add operation in F1(7)=13 is 6\n",
      "total numbers of add operation in F1(8)=21 is 7\n",
      "total numbers of add operation in F1(9)=34 is 8\n",
      "total numbers of add operation in F1(10)=55 is 9\n"
     ]
    }
   ],
   "source": [
    "n=10\n",
    "for i in range(1,n+1):\n",
    "    add_counting=0\n",
    "    print('total numbers of add operation in F1(%d)=%d is %d' %(i, F1(i), add_counting))"
   ]
  },
  {
   "cell_type": "markdown",
   "metadata": {},
   "source": [
    "**상기 피보나치 수의 반복적 알고리즘 구현에서 더하기 오퍼레이션은 $O(n)$ 이다.**"
   ]
  },
  {
   "cell_type": "markdown",
   "metadata": {},
   "source": [
    "### 다음은 교과서 8.1절 example 2 에서 다루는 \"The Tower of Hanoi\"  문제의 해결을 파이썬으로 코딩하여 보자. "
   ]
  },
  {
   "cell_type": "markdown",
   "metadata": {},
   "source": [
    "하노이 탑은 세개의 막대와 각기 다른 크기의 원판들로 구성된다. 처음에, 해당 원판들이 크기가 큰 순서대로 첫번째 막대에 놓여 있다(즉, 가장 큰 원판이 가장 아래에 가장 작은 원판이 가장 위에 놓임; 아래 Figure 2 참조).  이를 2번째 막대로 모두 크기가 큰 순서대로 옮길려고 한다.  단, 중간 단계에서 작은 원판이 큰 원판 아래 놓이는 배치는 허용되지 않는다고 한다.    \n",
    "![Alttext](Hanoi_Tower.png)"
   ]
  },
  {
   "cell_type": "markdown",
   "metadata": {},
   "source": [
    "#### 1.  원판이 $n$ 개 일 때, 몇번을 옮겨야 하는 지의  횟수를 점화식(recurrence relation)으로 구해보자."
   ]
  },
  {
   "cell_type": "markdown",
   "metadata": {},
   "source": [
    " 원판이 $n$ 개 일 때, 옮겨야 하는 횟수를 $H(n)$ 이라 하자. 아래 그림을 참조하면,   \n",
    " 1) 먼저 첫번째 막대에서 $n-1$ 개의 원판을 세번째 막대로 옮긴다(그림 2(a)). 이 때 필요한 옮겨야 하는 횟수는 $H(n-1)$.     \n",
    " 2) 다음 첫번째 막대에서 남은 제일 큰 원판을 두번째 막대로 옮긴다(그림 2(b)). 이때 필요한 옮겨야 하는 횟수는 $1$.  \n",
    " 3) 마지막으로 세번째 막대의 $n-1$ 개의 원판을 두번째 막대로 옮긴다(그림 2(c)). 이 때 필요한 옮겨야 하는 횟수는 $H(n-1)$.  \n",
    " \n",
    " 따라서, $H(n)=2H(n-1)+1   ~~~(n >=1)$ 임을 알 수있다.   또한 초기조건은 $H(1)=1$.  \n",
    " \n",
    " ![Alttext](Hanoi_Tower_Proc.png)"
   ]
  },
  {
   "cell_type": "markdown",
   "metadata": {},
   "source": [
    "#### 2.  상기 점화식(recurrence relation)을 수학적으로 풀어 보자. "
   ]
  },
  {
   "cell_type": "markdown",
   "metadata": {},
   "source": [
    "점화식 (재귀식) $H(n)=2H(n-1)+1$ 을 풀면,  $H(n)=2^n -1 . $   (아래 참조)  \n",
    "![Alttext](TOH_rec.png)"
   ]
  },
  {
   "cell_type": "markdown",
   "metadata": {},
   "source": [
    "#### 3.  상기 점화식을 파이썬 코딩하여 보자."
   ]
  },
  {
   "cell_type": "code",
   "execution_count": 6,
   "metadata": {},
   "outputs": [],
   "source": [
    "def ToH_Counting(n):\n",
    "    if n < 1:\n",
    "        print(\"Please take n as an integer greater than 0\")\n",
    "    if n==1:\n",
    "        return 1\n",
    "    else:\n",
    "        return 2*ToH_Counting(n-1)+1 "
   ]
  },
  {
   "cell_type": "code",
   "execution_count": 7,
   "metadata": {},
   "outputs": [
    {
     "data": {
      "text/plain": [
       "15"
      ]
     },
     "execution_count": 7,
     "metadata": {},
     "output_type": "execute_result"
    }
   ],
   "source": [
    "ToH_Counting(4)"
   ]
  },
  {
   "cell_type": "markdown",
   "metadata": {},
   "source": [
    "####  4.  이제, 원판이 $n$ 개 일 때, 첫번째 막대에서 3번째 막대로 모두 옮길려면 어떻게 원판을 옮겨야 하는 지의 절차를 보여주는 파이썬 코딩을 해보자."
   ]
  },
  {
   "cell_type": "code",
   "execution_count": 8,
   "metadata": {},
   "outputs": [],
   "source": [
    "# i ; total number of moves to solve 'The Tower of Hanoi Puzzle' \n",
    "def ToH_inner(n, src, dest): # n ; number of disks, src ; starting peg, dest; des.\n",
    "    if n<0:\n",
    "        print(\"Please take n as an integer greater than 0\")\n",
    "    if n==1:\n",
    "        global i\n",
    "        i+=1\n",
    "        return print(\"{no} : move a disk from 'peg{A}' to 'peg{B}' \".format(no=i, A=src, B=dest))\n",
    "    \n",
    "    zz={1,2,3}-{src, dest}\n",
    "    intm=list(zz)[0]\n",
    "    # Recursibly implement the n, n-1, ... 1 th blocks\n",
    "    ToH_inner(n-1, src, intm)\n",
    "    ToH_inner(1, src, dest)\n",
    "    ToH_inner(n-1, intm, dest)\n",
    "\n",
    "def ToH(n, src, dest):\n",
    "    ToH_inner(n, src, dest)\n",
    "    print(\"\")\n",
    "    print(\"The total number of moves to solve 'The Tower of Hanoi puzzle' with {n_disk} disks is {no}.\".format(n_disk=n, no=i))    "
   ]
  },
  {
   "cell_type": "code",
   "execution_count": 9,
   "metadata": {},
   "outputs": [
    {
     "name": "stdout",
     "output_type": "stream",
     "text": [
      "1 : move a disk from 'peg1' to 'peg2' \n",
      "2 : move a disk from 'peg1' to 'peg3' \n",
      "3 : move a disk from 'peg2' to 'peg3' \n",
      "4 : move a disk from 'peg1' to 'peg2' \n",
      "5 : move a disk from 'peg3' to 'peg1' \n",
      "6 : move a disk from 'peg3' to 'peg2' \n",
      "7 : move a disk from 'peg1' to 'peg2' \n",
      "\n",
      "The total number of moves to solve 'The Tower of Hanoi puzzle' with 3 disks is 7.\n"
     ]
    }
   ],
   "source": [
    "# move all peg from 1 to 2\n",
    "# i : counting variable\n",
    "i = 0\n",
    "ToH(3, 1, 2)"
   ]
  },
  {
   "cell_type": "markdown",
   "metadata": {},
   "source": [
    "#### 'nonlocal' 를 사용하여 글로벌 변수 사용하지 않는 풀이\n",
    "상기 파이썬 코딩 풀이에서,  'total number of moves to solve 'The Tower of Hanoi Puzzle' 를 구하기 위해, 매 재귀 함수에서 계산되는 이동을 카운팅하는 값을 보관하기 위해 글로벌 변수 'i' 를 사용했다. 그런데, 글로벌 변수 사용은  부작용(side effect) 을 초래하기 쉬우므로  가급적 피해야 한다.    \n",
    "재귀함수의 경우 지역변수 사용은 해당 함수 호출 문맥에서만 적용되므로, 다음 호출된 재귀함수에서는 적용되지 않는다. 따라서, 매 재귀호출때마다, 지역변수의 초기화가 이루어져 글로벌 정보를 보관하지 못한다.  \n",
    "함수내에 재귀함수를 내부 함수로 만들고, 함수의 지역변수를 내부함수에서도 이용이 가능하도록 하는 \"nonlocal\" 를 사용하는 게 좋다.   \n",
    "\"nonlocal\" 키워드는 해당 변수가 지역변수가 아니고 nonlocal 이 사용된 함수 바로 한단계 바깥쪽에 위치한 지역 변수를 의미한다. "
   ]
  },
  {
   "cell_type": "code",
   "execution_count": 10,
   "metadata": {},
   "outputs": [],
   "source": [
    "def outer_func(): # outer function\n",
    "    x=0\n",
    "    x+=1 \n",
    "    print(x)\n",
    "    def inner_func():  #inner function  \n",
    "        nonlocal x  #inner_loop클로저의 지역 변수를 변경하고자 하는 경우에는 nonlocal 선언\n",
    "        x+=1\n",
    "   \n",
    "    inner_func()\n",
    "    print(x)       #함수내의 내부함수(inner function)에서 함수에 선언된 지역 변수를 참조할 수있다.   \n",
    "    \n",
    "    return   "
   ]
  },
  {
   "cell_type": "code",
   "execution_count": 11,
   "metadata": {},
   "outputs": [
    {
     "name": "stdout",
     "output_type": "stream",
     "text": [
      "1\n",
      "2\n"
     ]
    }
   ],
   "source": [
    "outer_func()"
   ]
  },
  {
   "cell_type": "markdown",
   "metadata": {},
   "source": [
    "#### 이제 'nonlocal' 를 이용하여 상기 'Tower of Hanoi' 파이썬 코드를 수정하여 보자."
   ]
  },
  {
   "cell_type": "code",
   "execution_count": 12,
   "metadata": {},
   "outputs": [],
   "source": [
    "\n",
    "def ToH2(n, src, dest):\n",
    "    i=0\n",
    "    def ToH_inner(n, src, dest): \n",
    "        if n<0:\n",
    "            print(\"Please take n as an integer greater than 0\")\n",
    "        if n==1:\n",
    "            nonlocal i\n",
    "            i+=1\n",
    "            return print(\"{no} : move a disk from 'peg{A}' to 'peg{B}' \".format(no=i, A=src, B=dest))\n",
    "        zz={1,2,3}-{src, dest}\n",
    "        intm=list(zz)[0]\n",
    "        ToH_inner(n-1, src, intm)\n",
    "        ToH_inner(1, src, dest)\n",
    "        ToH_inner(n-1, intm, dest)\n",
    "    \n",
    "    \n",
    "    ToH_inner(n, src, dest)\n",
    "    print(\"\")\n",
    "    print(\"The total number of moves to solve the The Tower of Hanoi puzzle with {n_disk} disks is {no}.\".format(n_disk=n, no=i))\n",
    "    "
   ]
  },
  {
   "cell_type": "code",
   "execution_count": 13,
   "metadata": {},
   "outputs": [
    {
     "name": "stdout",
     "output_type": "stream",
     "text": [
      "1 : move a disk from 'peg1' to 'peg2' \n",
      "2 : move a disk from 'peg1' to 'peg3' \n",
      "3 : move a disk from 'peg2' to 'peg3' \n",
      "4 : move a disk from 'peg1' to 'peg2' \n",
      "5 : move a disk from 'peg3' to 'peg1' \n",
      "6 : move a disk from 'peg3' to 'peg2' \n",
      "7 : move a disk from 'peg1' to 'peg2' \n",
      "\n",
      "The total number of moves to solve the The Tower of Hanoi puzzle with 3 disks is 7.\n"
     ]
    }
   ],
   "source": [
    "ToH2(3, 1, 2)"
   ]
  },
  {
   "cell_type": "code",
   "execution_count": 14,
   "metadata": {},
   "outputs": [
    {
     "name": "stdout",
     "output_type": "stream",
     "text": [
      "1 : move a disk from 'peg1' to 'peg3' \n",
      "2 : move a disk from 'peg1' to 'peg2' \n",
      "3 : move a disk from 'peg3' to 'peg2' \n",
      "4 : move a disk from 'peg1' to 'peg3' \n",
      "5 : move a disk from 'peg2' to 'peg1' \n",
      "6 : move a disk from 'peg2' to 'peg3' \n",
      "7 : move a disk from 'peg1' to 'peg3' \n",
      "8 : move a disk from 'peg1' to 'peg2' \n",
      "9 : move a disk from 'peg3' to 'peg2' \n",
      "10 : move a disk from 'peg3' to 'peg1' \n",
      "11 : move a disk from 'peg2' to 'peg1' \n",
      "12 : move a disk from 'peg3' to 'peg2' \n",
      "13 : move a disk from 'peg1' to 'peg3' \n",
      "14 : move a disk from 'peg1' to 'peg2' \n",
      "15 : move a disk from 'peg3' to 'peg2' \n",
      "\n",
      "The total number of moves to solve the The Tower of Hanoi puzzle with 4 disks is 15.\n"
     ]
    }
   ],
   "source": [
    "ToH2(4, 1, 2)"
   ]
  },
  {
   "cell_type": "markdown",
   "metadata": {},
   "source": [
    "#### 이제, 옮겨지는 디스크 종류 까지를  출력해보도록 해보자. 이를 위해 '스택' (LIFO) 구조를 이용한다.\n",
    "스택 구조 구현은 다음과 같이 클래스로 구현하는 것이 편리하다. "
   ]
  },
  {
   "cell_type": "code",
   "execution_count": 15,
   "metadata": {},
   "outputs": [],
   "source": [
    "class Stack:\n",
    "    def __init__(self):\n",
    "        self.items = []\n",
    "\n",
    "    def isEmpty(self):\n",
    "        return self.items == []\n",
    "\n",
    "    def push(self, item):\n",
    "        self.items.append(item)\n",
    "\n",
    "    def pop(self):\n",
    "        return self.items.pop()\n",
    "\n",
    "    def peek(self):\n",
    "        return self.items[len(self.items)-1]\n",
    "\n",
    "    def size(self):\n",
    "        return len(self.items)"
   ]
  },
  {
   "cell_type": "code",
   "execution_count": 16,
   "metadata": {},
   "outputs": [
    {
     "name": "stdout",
     "output_type": "stream",
     "text": [
      "True\n",
      "dog\n",
      "3\n",
      "False\n",
      "8.4\n",
      "True\n",
      "2\n"
     ]
    }
   ],
   "source": [
    "s=Stack()\n",
    "print(s.isEmpty())\n",
    "s.push(4)\n",
    "s.push('dog')\n",
    "print(s.peek())\n",
    "s.push(True)\n",
    "print(s.size())\n",
    "print(s.isEmpty())\n",
    "s.push(8.4)\n",
    "print(s.pop())\n",
    "print(s.pop())\n",
    "print(s.size())"
   ]
  },
  {
   "cell_type": "code",
   "execution_count": 17,
   "metadata": {},
   "outputs": [
    {
     "name": "stdout",
     "output_type": "stream",
     "text": [
      "disk_10\n",
      "disk_9\n",
      "disk_8\n",
      "disk_7\n",
      "disk_6\n",
      "disk_5\n",
      "disk_4\n",
      "disk_3\n",
      "disk_2\n",
      "disk_1\n"
     ]
    }
   ],
   "source": [
    "n=10\n",
    "for i in range(n,0, -1):\n",
    "    disk=\"disk_{i}\".format(i=i)\n",
    "    print(disk)"
   ]
  },
  {
   "cell_type": "code",
   "execution_count": 18,
   "metadata": {},
   "outputs": [],
   "source": [
    "class disk_stack:\n",
    "    def __init__(self, n=0):\n",
    "        self.items = []\n",
    "        if n>0:\n",
    "            for i in range(n, 0, -1):\n",
    "                temp=\"disk_{x}\".format(x=i)\n",
    "                self.push(temp)\n",
    "    def isEmpty(self):\n",
    "        return self.items == []\n",
    "\n",
    "    def push(self, item):\n",
    "        self.items.append(item)\n",
    "\n",
    "    def pop(self):\n",
    "#        if len(self.items)==0:\n",
    "#                return print(\"empty\")\n",
    "        return self.items.pop()\n",
    "\n",
    "    def peek(self):\n",
    "        if len(self.items)==0:\n",
    "                return print(\"empty\")\n",
    "        return self.items[len(self.items)-1]\n",
    "\n",
    "    def size(self):\n",
    "        return len(self.items)    \n"
   ]
  },
  {
   "cell_type": "code",
   "execution_count": 19,
   "metadata": {},
   "outputs": [
    {
     "name": "stdout",
     "output_type": "stream",
     "text": [
      "disk_1\n",
      "disk_1\n",
      "1 : move  from 'peg1'' to 'peg3'' \n",
      "1 : move 'disk_1' from 'peg1' to 'peg3' \n"
     ]
    }
   ],
   "source": [
    "peg_1_stack=disk_stack(4)\n",
    "peg_2_stack=disk_stack()\n",
    "disk_n=peg_1_stack.pop()\n",
    "print(disk_n)\n",
    "peg_2_stack.push(disk_n)\n",
    "print(peg_2_stack.peek())\n",
    "print(\"{no} : move  from 'peg{A}'' to 'peg{B}'' \".format(no=1,  A=1, B=3))\n",
    "print(\"{no} : move '{C}' from 'peg{A}' to 'peg{B}' \".format(no=1, C=disk_n, A=1, B=3))"
   ]
  },
  {
   "cell_type": "code",
   "execution_count": 20,
   "metadata": {},
   "outputs": [],
   "source": [
    "def ToH_inner(n, src, dest):\n",
    "    zz={1,2,3}-{src, dest}\n",
    "    intm=list(zz)[0]\n",
    "    global peg1_stack\n",
    "    global peg2_stack\n",
    "    global peg3_stack\n",
    "  # source stack, interlim stack, destination stack 결정   \n",
    "    if src==1:\n",
    "        src_stack=peg1_stack\n",
    "        if dest==2:\n",
    "                dest_stack=peg2_stack\n",
    "                intm_stack=peg3_stack\n",
    "        else:\n",
    "                dest_stack=peg3_stack\n",
    "                intm_stack=peg2_stack\n",
    "    elif src==2:\n",
    "        src_stack=peg2_stack\n",
    "        if dest==1:\n",
    "                dest_stack=peg1_stack\n",
    "                intm_stack=peg3_stack\n",
    "        else:\n",
    "                dest_stack=peg3_stack\n",
    "                intm_stack=peg1_stack\n",
    "    else:            \n",
    "        src_stack=peg3_stack\n",
    "        if dest==1:\n",
    "                dest_stack=peg1_stack\n",
    "                intm_stack=peg2_stack\n",
    "        if dest==2:\n",
    "                dest_stack=peg2_stack\n",
    "                intm_stack=peg1_stack\n",
    "        \n",
    "    if n<0:\n",
    "        print(\"Please take n as an integer greater than 0\")\n",
    " \n",
    "    if n==1:\n",
    "        global i\n",
    "        i+=1\n",
    "        disk=src_stack.pop()\n",
    "        dest_stack.push(disk)\n",
    "        return print(\"{no} : move '{C}' from 'peg{A}' to 'peg{B}' \".format(no=i, C=disk, A=src, B=dest))\n",
    "   \n",
    "    ToH_inner(n-1, src, intm)\n",
    "    ToH_inner(1, src, dest)\n",
    "    ToH_inner(n-1, intm, dest)\n",
    "\n",
    "def ToH(n, src, dest):\n",
    "    ToH_inner(n, src, dest)\n",
    "    print(\"\")\n",
    "    print(\"The total number of moves to solve the The Tower of Hanoi puzzle with {n_disk} disks is {no}.\".format(n_disk=n, no=i))\n",
    "    "
   ]
  },
  {
   "cell_type": "code",
   "execution_count": 21,
   "metadata": {},
   "outputs": [
    {
     "name": "stdout",
     "output_type": "stream",
     "text": [
      "1 : move 'disk_1' from 'peg1' to 'peg2' \n",
      "2 : move 'disk_2' from 'peg1' to 'peg3' \n",
      "3 : move 'disk_1' from 'peg2' to 'peg3' \n",
      "4 : move 'disk_3' from 'peg1' to 'peg2' \n",
      "5 : move 'disk_1' from 'peg3' to 'peg1' \n",
      "6 : move 'disk_2' from 'peg3' to 'peg2' \n",
      "7 : move 'disk_1' from 'peg1' to 'peg2' \n",
      "\n",
      "The total number of moves to solve the The Tower of Hanoi puzzle with 3 disks is 7.\n"
     ]
    }
   ],
   "source": [
    "i=0\n",
    "peg1_stack=disk_stack(3)   \n",
    "peg2_stack=disk_stack()    \n",
    "peg3_stack=disk_stack()\n",
    "ToH(3, 1, 2)   "
   ]
  },
  {
   "cell_type": "code",
   "execution_count": 22,
   "metadata": {},
   "outputs": [
    {
     "name": "stdout",
     "output_type": "stream",
     "text": [
      "1 : move 'disk_1' from 'peg1' to 'peg3' \n",
      "2 : move 'disk_2' from 'peg1' to 'peg2' \n",
      "3 : move 'disk_1' from 'peg3' to 'peg2' \n",
      "4 : move 'disk_3' from 'peg1' to 'peg3' \n",
      "5 : move 'disk_1' from 'peg2' to 'peg1' \n",
      "6 : move 'disk_2' from 'peg2' to 'peg3' \n",
      "7 : move 'disk_1' from 'peg1' to 'peg3' \n",
      "8 : move 'disk_4' from 'peg1' to 'peg2' \n",
      "9 : move 'disk_1' from 'peg3' to 'peg2' \n",
      "10 : move 'disk_2' from 'peg3' to 'peg1' \n",
      "11 : move 'disk_1' from 'peg2' to 'peg1' \n",
      "12 : move 'disk_3' from 'peg3' to 'peg2' \n",
      "13 : move 'disk_1' from 'peg1' to 'peg3' \n",
      "14 : move 'disk_2' from 'peg1' to 'peg2' \n",
      "15 : move 'disk_1' from 'peg3' to 'peg2' \n",
      "\n",
      "The total number of moves to solve the The Tower of Hanoi puzzle with 4 disks is 15.\n"
     ]
    }
   ],
   "source": [
    "i=0\n",
    "peg1_stack=disk_stack(4)   \n",
    "peg2_stack=disk_stack()    \n",
    "peg3_stack=disk_stack()\n",
    "ToH(4, 1, 2)   "
   ]
  },
  {
   "cell_type": "markdown",
   "metadata": {},
   "source": [
    "위 스택 구조로 구현한 코드는 아래과 같이 간결하게 쓸 수도 있다."
   ]
  },
  {
   "cell_type": "code",
   "execution_count": 23,
   "metadata": {},
   "outputs": [],
   "source": [
    "def ToH(n, src, dest):\n",
    "    # Initialize the hanoi tower    \n",
    "    i = 0\n",
    "    stacks = {1:disk_stack(), 2:disk_stack(), 3:disk_stack()}\n",
    "    stacks[src] = disk_stack(n)\n",
    "    \n",
    "    def ToH_inner(n, src, dest):\n",
    "        if n<0:\n",
    "            print(\"Please take n as an integer greater than 0\")\n",
    "        if n==1:\n",
    "            nonlocal  i\n",
    "            i+=1\n",
    "            disk=stacks[src].pop()\n",
    "            stacks[dest].push(disk)\n",
    "            return print(\"{no} : move '{C}' from 'peg{A}' to 'peg{B}' \".format(no=i, C=disk, A=src, B=dest))\n",
    "        \n",
    "        intm=list({1,2,3}-{src, dest})[0]\n",
    "        ToH_inner(n-1, src, intm)\n",
    "        ToH_inner(1, src, dest)\n",
    "        ToH_inner(n-1, intm, dest)\n",
    "        \n",
    "    # Implementation\n",
    "    ToH_inner(n, src, dest)\n",
    "    print(\"\")\n",
    "    print(\"The total number of moves to solve the The Tower of Hanoi puzzle with {n_disk} disks is {no}.\".format(n_disk=n, no=i))"
   ]
  },
  {
   "cell_type": "code",
   "execution_count": 24,
   "metadata": {
    "scrolled": true
   },
   "outputs": [
    {
     "name": "stdout",
     "output_type": "stream",
     "text": [
      "1 : move 'disk_1' from 'peg1' to 'peg3' \n",
      "2 : move 'disk_2' from 'peg1' to 'peg2' \n",
      "3 : move 'disk_1' from 'peg3' to 'peg2' \n",
      "4 : move 'disk_3' from 'peg1' to 'peg3' \n",
      "5 : move 'disk_1' from 'peg2' to 'peg1' \n",
      "6 : move 'disk_2' from 'peg2' to 'peg3' \n",
      "7 : move 'disk_1' from 'peg1' to 'peg3' \n",
      "8 : move 'disk_4' from 'peg1' to 'peg2' \n",
      "9 : move 'disk_1' from 'peg3' to 'peg2' \n",
      "10 : move 'disk_2' from 'peg3' to 'peg1' \n",
      "11 : move 'disk_1' from 'peg2' to 'peg1' \n",
      "12 : move 'disk_3' from 'peg3' to 'peg2' \n",
      "13 : move 'disk_1' from 'peg1' to 'peg3' \n",
      "14 : move 'disk_2' from 'peg1' to 'peg2' \n",
      "15 : move 'disk_1' from 'peg3' to 'peg2' \n",
      "\n",
      "The total number of moves to solve the The Tower of Hanoi puzzle with 4 disks is 15.\n"
     ]
    }
   ],
   "source": [
    "ToH(4, 1, 2)   "
   ]
  },
  {
   "cell_type": "markdown",
   "metadata": {},
   "source": [
    "<br/><br/><br/><br/>\n",
    "<h1> 실습 </h1>\n"
   ]
  },
  {
   "cell_type": "markdown",
   "metadata": {},
   "source": [
    "<h2> 실습 1, 2, 3.</h2> \n",
    "<br/><h3>우표를 파는 벤딩머신이 1달러 코인, 1달러 지폐, 5달러 지폐만을 받는다고 한다. </h3>\n",
    "\n",
    "<br/><h3>실습 1. </h3>\n",
    "<br/><b>1달러 코인과 1달러 지폐를 벤딩머신에 삽입하는 순서가 차이가 있다고 할 때 (즉, 1달러를 벤딩머신에 삽입하는 건 1달러 코인으로 또는 1달러 지폐로 삽입하는 것으로 2가지이다), $n$ 달러를($n$은 자연수) 벤딩머신에 삽입하는 경우의 수를 계산하는 재귀식(점화식)을 구하시오.</b><br/>\n",
    "<br/> ※ 풀이조건\n",
    "<ol>\n",
    "    <li>$n$ 달러를 벤딩머신에 삽입하는 경우의 수를 $A(n)$  이라 하고, $A(n)$ 의 재귀식을 구하고 print 함수를 통해 출력한다..</li>\n",
    "    <li>해당 재귀식을 도출한 이유를 print 함수를 통해 <b>자세히</b> 기술한다.</li>\n",
    "</ol>\n",
    "<br/> ※ 제한조건\n",
    "<ol>\n",
    "    <li>재귀식을 올바르게 썼어도 이유를 제대로 기술하지 않았을 시 0.5점 감점한다.</li>\n",
    "</ol>\n",
    "\n"
   ]
  },
  {
   "cell_type": "code",
   "execution_count": 25,
   "metadata": {},
   "outputs": [
    {
     "name": "stdout",
     "output_type": "stream",
     "text": [
      "𝐴(𝑛)=A(n-1)*2+A(n-5)\n",
      "\n",
      "𝑛달러를 벤딩머신에 삽입하는 경우의 수를 다음 3가지의 경우로 나눌 수 있다\n",
      "맨 처음 1달러 코인을 넣는 경우, 맨 처음 1달러 지폐를 넣는 경우, 맨 처음 5달러 지폐를 넣는 경우\n",
      "n달러를 벤딩머신에 삽입하는 경우의 수 중 처음에 1달러 동전를 넣는 경우의 경우의 수는 A(n-1)로 나타낼 수 있다.\n",
      "이처럼 1달러 지폐를 처음 넣는 경우와 5달러 지폐를 넣는 경우도 각각 A(n-1), A(n-5)의 경우의 수를 가지게 된다.\n",
      "합의 법칙에 의해 n달러를 벤딩머신에 삽입하는 경우의 수는 위의 세 경우의 경우의 수를 전부 더한 것과 같으므로\n",
      "위와 같은 재귀식이 나타나게 된다.\n"
     ]
    }
   ],
   "source": [
    "print(\"𝐴(𝑛)=A(n-1)*2+A(n-5)\")\n",
    "print('''\n",
    "𝑛달러를 벤딩머신에 삽입하는 경우의 수를 다음 3가지의 경우로 나눌 수 있다\n",
    "맨 처음 1달러 코인을 넣는 경우, 맨 처음 1달러 지폐를 넣는 경우, 맨 처음 5달러 지폐를 넣는 경우\n",
    "n달러를 벤딩머신에 삽입하는 경우의 수 중 처음에 1달러 동전를 넣는 경우의 경우의 수는 A(n-1)로 나타낼 수 있다.\n",
    "이처럼 1달러 지폐를 처음 넣는 경우와 5달러 지폐를 넣는 경우도 각각 A(n-1), A(n-5)의 경우의 수를 가지게 된다.\n",
    "합의 법칙에 의해 n달러를 벤딩머신에 삽입하는 경우의 수는 위의 세 경우의 경우의 수를 전부 더한 것과 같으므로\n",
    "위와 같은 재귀식이 나타나게 된다.''')"
   ]
  },
  {
   "cell_type": "markdown",
   "metadata": {},
   "source": [
    "<br/><h3>실습 2. </h3>\n",
    "<br/><b>초기 조건들은 무엇인가?   (즉, $A(1), A(2), A(3), A(4), A(5) $  값을 구함)</b>\n",
    "<br/>\n",
    "<br/> ※ 풀이조건\n",
    "<ol>\n",
    "    <li>위 점화식을 이용하여 초기조건을 계산하는 식(+, -, *, / 등을 이용)을 만들어 a2, a3, a4, a5 변수 값에 알맞게 작성한다.</li>\n",
    "</ol>\n",
    "<br/> ※ 제한조건\n",
    "<ol>\n",
    "    <li>a2, a3, a4, a5 변수 값으로 '숫자'만 작성할 경우 0점 처리한다. 꼭 계산식이 들어가야한다.</li>\n",
    "    <li>print 함수의 내용을 변경할 시 0점 처리한다.</li>\n",
    "</ol>\n"
   ]
  },
  {
   "cell_type": "code",
   "execution_count": 26,
   "metadata": {},
   "outputs": [
    {
     "name": "stdout",
     "output_type": "stream",
     "text": [
      "A(1)=2\n",
      "A(2)=4\n",
      "A(3)=8\n",
      "A(4)=16\n",
      "A(5)=33\n"
     ]
    }
   ],
   "source": [
    "a1 = 2\n",
    "a2 = a1*2\n",
    "a3 = a2*2\n",
    "a4 = a3*2\n",
    "a5 = a4*2+1\n",
    "print(\"A(1)={}\\nA(2)={}\\nA(3)={}\\nA(4)={}\\nA(5)={}\".format(a1,a2,a3,a4,a5))"
   ]
  },
  {
   "cell_type": "markdown",
   "metadata": {},
   "source": [
    "<br/><h3>실습 3. </h3>\n",
    "<br/><b>위 실습에서 구한 점화식(recurrence relation)과 초기조건을 이용하여  𝑛달러를 벤딩머신에 삽입하는 경우의 수를 구하는 재귀 알고리즘을 파이썬 코딩하시오. </b>\n",
    "<br/>\n",
    "<br/> ※ 풀이조건\n",
    "<ol>\n",
    "    <li>stamp 함수에 재귀적(recursive) 호출을 사용하여 점화식에 대해 코드를 작성하시오.</li>\n",
    "    <li>아래 for 반복문을 실행했을 때 올바른 값이 출력되어야 한다.</li>\n",
    "</ol>\n",
    "<br/> ※ 제한조건\n",
    "<ol>\n",
    "    <li>stamp 함수 내에만 코드를 작성한다. 그 밖에 코드를 작성했을 시 0점 처리한다.</li>\n",
    "    <li>stamp 함수 내에서 재귀적 호출을 사용하지 않을 시 0점 처리한다.</li>\n",
    "</ol>"
   ]
  },
  {
   "cell_type": "code",
   "execution_count": 27,
   "metadata": {},
   "outputs": [],
   "source": [
    "def stamp(n):\n",
    "    if n==1:\n",
    "        return 2\n",
    "    elif n<=4:\n",
    "        return stamp(n-1)*2\n",
    "    elif n==5:\n",
    "        return stamp(n-1)*2+1\n",
    "    else:\n",
    "        return stamp(n-1)*2+stamp(n-5)"
   ]
  },
  {
   "cell_type": "code",
   "execution_count": 28,
   "metadata": {},
   "outputs": [
    {
     "name": "stdout",
     "output_type": "stream",
     "text": [
      "A(1) = 2\n",
      "A(2) = 4\n",
      "A(3) = 8\n",
      "A(4) = 16\n",
      "A(5) = 33\n",
      "A(6) = 68\n",
      "A(7) = 140\n",
      "A(8) = 288\n",
      "A(9) = 592\n",
      "A(10) = 1217\n",
      "A(11) = 2502\n",
      "A(12) = 5144\n",
      "A(13) = 10576\n",
      "A(14) = 21744\n",
      "A(15) = 44705\n",
      "A(16) = 91912\n",
      "A(17) = 188968\n",
      "A(18) = 388512\n",
      "A(19) = 798768\n"
     ]
    }
   ],
   "source": [
    "for i in range(1,20):\n",
    "    print(\"A(%d) = %d\" % (i, stamp(i)))"
   ]
  },
  {
   "cell_type": "markdown",
   "metadata": {},
   "source": [
    "<br/><h3>실습 4. </h3>\n",
    "<br/><b>평소 피라미드에 관심이 많은 이산이는 파이썬 프로그래밍으로 2차원 피라미드를 만들어 출력해보려고 한다. 아래 지침에 따라 피라미드를 알맞게 출력하시오.</b>\n",
    "<br/>\n",
    "<br/>예를 들어 5층 높이의 피라미드를 만드려고 했을 때, 출력되는 결과물은 아래와 같다."
   ]
  },
  {
   "cell_type": "raw",
   "metadata": {},
   "source": [
    "□□□□■□□□□\n",
    "□□□■■■□□□\n",
    "□□■■■■■□□\n",
    "□■■■■■■■□\n",
    "■■■■■■■■■"
   ]
  },
  {
   "cell_type": "markdown",
   "metadata": {},
   "source": [
    "<br/>먼저 해당 피라미드의 블록 수에 관한 점화식은 아래와 같다고 하자.\n",
    "<h3>$B(n) = B(n-1) + 2$</h3>\n",
    "<br/>\n",
    "<br/>반대로 피라미드 층의 양 쪽 여백의 수에 관한 점화식은 아래와 같다.\n",
    "<h3>$S(n) = S(n-1) - 1$</h3>\n",
    "<br/>\n",
    "<br/>두 점화식의 초기조건 B(1), S(1)을 잘 찾고 2차원 피라미드를 출력해보시오.\n",
    "<br/>\n",
    "<br/> ※ 풀이조건\n",
    "<ol>\n",
    "    <li>점화식을 이용하여 build 함수에 floor 변수를 사용하면서 알맞은 코드를 작성한다.</li>\n",
    "    <li>pyramid 함수에서 build 함수를 호출했을 때 제공하는 인자 값을 알맞게 수정한다.</li>\n",
    "    <li>pyramid 함수를 호출하는 코드를 실행하고 결과를 감상한다.</li>\n",
    "</ol>\n",
    "<br/> ※ 제한조건\n",
    "<ol>\n",
    "    <li>build 함수 내에서 floor 변수를 사용해야 한다. 사용하지 않을 시 0.5점 감점한다.</li>\n",
    "    <li>build 함수 내에 있는 print 코드는 수정 및 제거해도 상관없다.</li>\n",
    "    <li>아래 pyramid 함수를 실행하는 코드는 수정하지 않는다. 수정할 경우 0점 처리한다.</li>\n",
    "</ol>"
   ]
  },
  {
   "cell_type": "code",
   "execution_count": 29,
   "metadata": {},
   "outputs": [],
   "source": [
    "def pyramid(f) :\n",
    "    if f < 1 : return print(\"floors should be greater than zero\")\n",
    "    floor = f\n",
    "   \n",
    "    def build(blocks,spaces) :\n",
    "        nonlocal floor\n",
    "        if floor>0:\n",
    "            print(\"□\"*spaces, \"■\"*blocks, \"□\"*spaces,sep='')\n",
    "            floor-=1\n",
    "            build(blocks+2,spaces-1)\n",
    "\n",
    "    build(1,f-1)"
   ]
  },
  {
   "cell_type": "code",
   "execution_count": 30,
   "metadata": {},
   "outputs": [
    {
     "name": "stdout",
     "output_type": "stream",
     "text": [
      "□□■□□\n",
      "□■■■□\n",
      "■■■■■\n",
      "\n",
      "□□□□■□□□□\n",
      "□□□■■■□□□\n",
      "□□■■■■■□□\n",
      "□■■■■■■■□\n",
      "■■■■■■■■■\n",
      "\n",
      "□□□□□□■□□□□□□\n",
      "□□□□□■■■□□□□□\n",
      "□□□□■■■■■□□□□\n",
      "□□□■■■■■■■□□□\n",
      "□□■■■■■■■■■□□\n",
      "□■■■■■■■■■■■□\n",
      "■■■■■■■■■■■■■\n",
      "\n",
      "□□□□□□□□■□□□□□□□□\n",
      "□□□□□□□■■■□□□□□□□\n",
      "□□□□□□■■■■■□□□□□□\n",
      "□□□□□■■■■■■■□□□□□\n",
      "□□□□■■■■■■■■■□□□□\n",
      "□□□■■■■■■■■■■■□□□\n",
      "□□■■■■■■■■■■■■■□□\n",
      "□■■■■■■■■■■■■■■■□\n",
      "■■■■■■■■■■■■■■■■■\n",
      "\n",
      "□□□□□□□□□□■□□□□□□□□□□\n",
      "□□□□□□□□□■■■□□□□□□□□□\n",
      "□□□□□□□□■■■■■□□□□□□□□\n",
      "□□□□□□□■■■■■■■□□□□□□□\n",
      "□□□□□□■■■■■■■■■□□□□□□\n",
      "□□□□□■■■■■■■■■■■□□□□□\n",
      "□□□□■■■■■■■■■■■■■□□□□\n",
      "□□□■■■■■■■■■■■■■■■□□□\n",
      "□□■■■■■■■■■■■■■■■■■□□\n",
      "□■■■■■■■■■■■■■■■■■■■□\n",
      "■■■■■■■■■■■■■■■■■■■■■\n",
      "\n",
      "□□□□□□□□□□□□■□□□□□□□□□□□□\n",
      "□□□□□□□□□□□■■■□□□□□□□□□□□\n",
      "□□□□□□□□□□■■■■■□□□□□□□□□□\n",
      "□□□□□□□□□■■■■■■■□□□□□□□□□\n",
      "□□□□□□□□■■■■■■■■■□□□□□□□□\n",
      "□□□□□□□■■■■■■■■■■■□□□□□□□\n",
      "□□□□□□■■■■■■■■■■■■■□□□□□□\n",
      "□□□□□■■■■■■■■■■■■■■■□□□□□\n",
      "□□□□■■■■■■■■■■■■■■■■■□□□□\n",
      "□□□■■■■■■■■■■■■■■■■■■■□□□\n",
      "□□■■■■■■■■■■■■■■■■■■■■■□□\n",
      "□■■■■■■■■■■■■■■■■■■■■■■■□\n",
      "■■■■■■■■■■■■■■■■■■■■■■■■■\n",
      "\n",
      "□□□□□□□□□□□□□□■□□□□□□□□□□□□□□\n",
      "□□□□□□□□□□□□□■■■□□□□□□□□□□□□□\n",
      "□□□□□□□□□□□□■■■■■□□□□□□□□□□□□\n",
      "□□□□□□□□□□□■■■■■■■□□□□□□□□□□□\n",
      "□□□□□□□□□□■■■■■■■■■□□□□□□□□□□\n",
      "□□□□□□□□□■■■■■■■■■■■□□□□□□□□□\n",
      "□□□□□□□□■■■■■■■■■■■■■□□□□□□□□\n",
      "□□□□□□□■■■■■■■■■■■■■■■□□□□□□□\n",
      "□□□□□□■■■■■■■■■■■■■■■■■□□□□□□\n",
      "□□□□□■■■■■■■■■■■■■■■■■■■□□□□□\n",
      "□□□□■■■■■■■■■■■■■■■■■■■■■□□□□\n",
      "□□□■■■■■■■■■■■■■■■■■■■■■■■□□□\n",
      "□□■■■■■■■■■■■■■■■■■■■■■■■■■□□\n",
      "□■■■■■■■■■■■■■■■■■■■■■■■■■■■□\n",
      "■■■■■■■■■■■■■■■■■■■■■■■■■■■■■\n",
      "\n",
      "□□□□□□□□□□□□□□□□■□□□□□□□□□□□□□□□□\n",
      "□□□□□□□□□□□□□□□■■■□□□□□□□□□□□□□□□\n",
      "□□□□□□□□□□□□□□■■■■■□□□□□□□□□□□□□□\n",
      "□□□□□□□□□□□□□■■■■■■■□□□□□□□□□□□□□\n",
      "□□□□□□□□□□□□■■■■■■■■■□□□□□□□□□□□□\n",
      "□□□□□□□□□□□■■■■■■■■■■■□□□□□□□□□□□\n",
      "□□□□□□□□□□■■■■■■■■■■■■■□□□□□□□□□□\n",
      "□□□□□□□□□■■■■■■■■■■■■■■■□□□□□□□□□\n",
      "□□□□□□□□■■■■■■■■■■■■■■■■■□□□□□□□□\n",
      "□□□□□□□■■■■■■■■■■■■■■■■■■■□□□□□□□\n",
      "□□□□□□■■■■■■■■■■■■■■■■■■■■■□□□□□□\n",
      "□□□□□■■■■■■■■■■■■■■■■■■■■■■■□□□□□\n",
      "□□□□■■■■■■■■■■■■■■■■■■■■■■■■■□□□□\n",
      "□□□■■■■■■■■■■■■■■■■■■■■■■■■■■■□□□\n",
      "□□■■■■■■■■■■■■■■■■■■■■■■■■■■■■■□□\n",
      "□■■■■■■■■■■■■■■■■■■■■■■■■■■■■■■■□\n",
      "■■■■■■■■■■■■■■■■■■■■■■■■■■■■■■■■■\n",
      "\n"
     ]
    }
   ],
   "source": [
    "for i in range(3, 18, 2) :\n",
    "    pyramid(i)\n",
    "    print()"
   ]
  },
  {
   "cell_type": "code",
   "execution_count": null,
   "metadata": {},
   "outputs": [],
   "source": []
  }
 ],
 "metadata": {
  "kernelspec": {
   "display_name": "Python 3",
   "language": "python",
   "name": "python3"
  },
  "language_info": {
   "codemirror_mode": {
    "name": "ipython",
    "version": 3
   },
   "file_extension": ".py",
   "mimetype": "text/x-python",
   "name": "python",
   "nbconvert_exporter": "python",
   "pygments_lexer": "ipython3",
   "version": "3.7.4"
  }
 },
 "nbformat": 4,
 "nbformat_minor": 1
}
